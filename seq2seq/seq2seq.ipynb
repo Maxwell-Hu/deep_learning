{
 "cells": [
  {
   "cell_type": "markdown",
   "metadata": {
    "deletable": true,
    "editable": true
   },
   "source": [
    "## 预处理"
   ]
  },
  {
   "cell_type": "code",
   "execution_count": 1,
   "metadata": {
    "collapsed": false,
    "deletable": true,
    "editable": true
   },
   "outputs": [],
   "source": [
    "import numpy as np\n",
    "import time\n",
    "from distutils.version import LooseVersion\n",
    "import tensorflow as tf\n",
    "from tensorflow.python.layers.core import Dense\n",
    "import preprocess\n",
    "\n",
    "source_path = 'data/letters_source.txt'\n",
    "target_path = 'data/letters_target.txt'\n",
    "\n",
    "source_sentences = preprocess.load_data(source_path)\n",
    "target_sentences = preprocess.load_data(target_path)"
   ]
  },
  {
   "cell_type": "code",
   "execution_count": 2,
   "metadata": {
    "collapsed": false,
    "deletable": true,
    "editable": true
   },
   "outputs": [
    {
     "data": {
      "text/plain": [
       "'bsaqq\\nnpy\\nlbwuj\\nbqv\\nkial\\ntddam\\nedxpjpg\\nnspv\\nhuloz\\nkmclq\\nire\\nv\\npl\\nneab\\nlcak\\nhtah\\nf\\nzskzts\\nvlq\\nnzqtek\\nezjgp\\nlg\\nbskyt\\nvkf\\nd\\nihxh\\nkwkh\\njw\\nlccq\\nnxojll\\nftnq\\na\\ngrw\\npwbrq\\nlycdovt\\neerowy\\nhdl\\nkzznhel\\np\\nwdlk\\np\\nb\\ncki\\ntptsoa\\nhnjhjc\\nlqnzoic\\nmnu\\nijioas\\nbrzlpm\\ne\\nbtjicxc\\nyuj\\ngie\\njc\\ns\\nk\\nc\\ndzc\\nlkvi\\ntrswatm\\nzibbclf\\nt\\nhvwszao\\nt\\nns\\npps\\nd\\njc\\niiyk\\nfqsfp\\nsxisurt\\nduqn\\neppyko\\nbfq\\numcm\\ndzexxsj\\ntli\\nuulzh\\nwpuwuky\\nl\\ngigrlxo\\nrhj\\nlz\\nzo\\nbgcne\\ng\\nxel\\no\\nmdosl\\nd\\nyiykk\\nruinkte\\nqv\\nqn\\nalnd\\nbte\\njrqt\\namb\\nbrtku\\nme\\nvu\\nuholsgp\\nkffgrv\\npks\\ntoskvu\\nek\\njjmp\\nr\\npihzhda\\nbbrxs\\nlt\\nczjzow\\nebbk\\ne\\npwqpuex\\nxl\\ntigu\\nhztizg\\nnsuv\\nm\\nonnefvn\\nmsaamq\\nidtgvzi\\ngb\\nzsoitie\\nkmu\\nuvrug\\nk\\nufn\\nkj\\nqwtpgq\\nwtl\\nhv\\nnvn\\njcs\\nrz\\nezxr\\ntje\\niyqwk\\nxvpdlcf\\ny\\nwn\\nrry\\noghzmk\\nrrituj\\nqmhe\\nsf\\nliibgc\\nbbb\\ntjqrz\\nsajf\\nkoltm\\npdl\\nybz\\nfr\\nkaleyp\\nrjqtrjb\\nnkgs\\ns\\nxadkgt\\nqrycaj\\nlaaffug\\npruhcj\\nteztq\\nyzscjst\\nfbu\\nwrqd\\ntrifzrj\\nlstftav\\nri\\nopivvi\\njhgbi\\ndkexpjg\\ngzmhn\\nqhuyru\\nekejijq\\nixpm\\nsbgeeff\\nbwb\\nze\\nnqo\\nxrggxad\\njdwyube\\nqv\\nhcdo\\nvvcoww\\njd\\nsns\\nsisbmzf\\nao\\nncpq\\nuf\\nl\\nvk\\njshc\\nif\\nobz\\nglrz\\nmtrnjb\\nrf\\nlgylopk\\ny\\nofqqern\\ntkuchlz\\nxz\\nof\\nezzuz\\nekwr\\nbh\\naxkqyet\\npffpx\\nprvsy\\nxb\\nsdvmf\\nwxx\\nq\\nlamv\\nzsu\\nphwycrc\\ndavokoc\\no\\nfhhl\\ne\\ngcfic\\ntaza\\nojwb\\nog\\nvkqm\\nw\\nsdo\\nqdm\\nqtgpu\\nkvlrt\\nb\\nyyhqbv\\nslag\\nhxpai\\ngqfgpl\\ns\\njpjycfz\\nptgf\\ne\\nkzvwcax\\nbgt\\nqsfli\\nhstmqqc\\nyzns\\nvieahy\\ntdyb\\nsd\\ngmtmgz\\ncgsrypr\\ny\\nwwmhsg\\nvwcrg\\nvqistai\\na\\nkyk\\nibb\\nrcq\\nvzw\\nsoel\\nc\\nsin\\nqazdtui\\nr\\nfeplio\\na\\nkobhpi\\nnslm\\nuc\\nnkoeki\\nworxds\\nolaxbre\\nra\\nazyim\\nsqi\\nihfoh\\nou\\ndg\\nicztbh\\nfjwjn\\nzia\\nqxcn\\njxna\\nnyou\\ngwgmsk\\nm\\nuvm\\napn\\nxv\\ndftv\\njlwvfcz\\nv\\nkldld\\nol\\niwre\\nmxyb\\nvyz\\njytcj\\nr\\nscu\\nkisly\\ncvs\\nmwosir\\nkys\\nrqhsii\\nlvha\\nbpguy\\nucarpre\\nyol\\nnf\\ntabns\\nohlc\\nvwz\\nnjakf\\nmjrbvj\\nvwy\\nxsb\\nnfzaptb\\nbtu\\nwzpmr\\nygzkxgh\\ngqdvt\\noioiqs\\nr\\nick\\ntitjoo\\nlvxfvul\\nvffuyyv\\nqvqfayn\\nqsa\\nnquyfum\\njhaipdv\\nlpw\\nrdwzbx\\nwrgt\\nikecq\\nyfxz\\nptzwoil\\nxwjej\\nkyp\\ntw\\nziwjvn\\nxtfbp\\nutr\\npjd\\nr\\nyb\\nopy\\nh\\nfofb\\nhgbuxwi\\nttv\\nlxsi\\nlgya\\noeapajw\\nockkxm\\nhhdx\\nzpdpt\\nshysubs\\nk\\np\\nssyic\\nughvh\\nalmu\\nrpn\\ntfftb\\napqmds\\nxxhceh\\npdmc\\nw\\ncv\\nyewe\\nwn\\na\\nnhhu\\nzx\\nybzq\\nwgflvb\\nnidfx\\nnvujbb\\ncafbg\\nht\\nsrrf\\nrorwn\\nikju\\nrfe\\nrb\\nryj\\nnudie\\nbbv\\niwm\\ngbcn\\nn\\nvromxom\\naqzyq\\nil\\noaj\\nmdfdi\\nkjyi\\nmje\\nxpoufvq\\nc\\nckqwdjf\\nkl\\nlfeqd\\nayv\\nx\\nlz\\ndew\\nz\\nnzry\\nwcv\\nvq\\nv\\nlddd\\neluwrbw\\njoa\\nntn\\nhsry\\ntk\\nxsvngyc\\nvpjuz\\nujj\\nxymrma\\njvhng\\nle\\nzv\\nh\\nnqi\\nvwjft\\nskam\\nc\\nv\\njexmsl\\na\\nkjjt\\nyrcj\\ndin\\nunislwc\\nwv\\nn\\njkwz\\nvsm\\niabagt\\nxi\\nx\\npaxbn\\nbecb\\ngvdr\\nwwh\\nws\\nthivqul\\nciwd\\nqtkoylm\\ngbnys\\nnovhvf\\nlildk\\ncsbqmgv\\nbshh\\nbcbqop\\ncodmct\\nywqn\\nkqh\\nqv\\nrohfo\\nhvpmf\\nxtthm\\nawgvy\\nhfxzhff\\nscxkfju\\nvxqic\\nxfn\\njuslkw\\nrvqqq\\nubquen\\nq\\npscxflv\\ndvrwy\\nghen\\njc\\nfzanv\\nh\\nf\\nc\\nnxyekk\\nzgjbav\\njglm\\nicjlo\\nbptutd\\nhr\\nksx\\nnypoz\\npigw\\ngc\\nw\\ng\\nvtyf\\nlzd\\nuy\\nlq\\nc\\nvkkxkg\\ni\\nhto\\nvcydjcf\\ngvi\\nqhig\\nprehr\\nknzy\\nwfk\\nytrmpv\\nopolj\\ndcty\\nej\\nl\\ng\\np\\nxenhy\\ndhhu\\nd\\na\\nrybzkv\\ntspyt\\nyu\\nia\\nmkhy\\ntbiw\\nfvixx\\nb\\ne\\ndenbyuf\\nqnvgv\\nhvyzk\\nhoeqhte\\nm\\np\\nflzkbbf\\nbymvqjt\\ndifp\\nv\\nvzebf\\nkitsvno\\njiibsj\\nkk\\ngveow\\nojkvb\\nb\\nlpsq\\nehtk\\nwqgbwj\\nvomb\\npovqulb\\nnc\\nlvb\\nyqc\\nsuylg\\nyxzqwj\\njw\\nxmedy\\nyvcbhz\\nbg\\nltdscx\\nylfqag\\nnqk\\nlm\\nuo\\np\\nyrnbahi\\nsxkjkd\\ndeaabi\\nie\\ntip\\nmzjid\\nnoiqrb\\nyj\\nk\\nbk\\nafwj\\nlb\\ngytkehf\\nyqlka\\np\\nbguno\\nu\\nwgnrhcw\\npzea\\nreow\\nvkzhleb\\naydny\\nlnocf\\nqxkfa\\nnjgvs\\nq\\ni\\ndidelz\\nhhtkk\\neuvvv\\nl\\ntfjteq\\njnhxk\\nf\\nvcrm\\nmowemiy\\nu\\nt\\ngh\\nzmbuztm\\ny\\ngdqgn\\nfjjylgc\\nhwuoe\\nbovor\\nq\\nytxxe\\nxck\\njn\\njsrwb\\nhiuanw\\nzyjzmj\\nskfsi\\nogkxc\\nkmayz\\npzj\\nnp\\nkas\\nnuta\\nqcf\\nuy\\nogj\\nz\\nxsrlyyn\\ny\\ndbxc\\newsgpeq\\nrs\\ndzj\\nxe\\nyams\\nlno\\neft\\nijhsxi\\nlgz\\nrjset\\nlmpvsda\\nmhqps\\nfy\\nb\\ng\\ncwpn\\nheg\\nsbxnjh\\npgfl\\nartbu\\npw\\nkxhe\\np\\nxqmp\\nmvotu\\nps\\nhdw\\nfbbyfez\\nabfaw\\nh\\nwp\\nvszgicc\\nhpuvet\\nn\\naaamlm\\nialiua\\nmgn\\nwk\\nafra\\nawdx\\neq\\nfkvsbyj\\nhisds\\ndzpr\\nkdh\\ngl\\njii\\nuezo\\ndspfkd\\nzzvvp\\nolfaegw\\nteow\\nck\\nz\\nfkikdsz\\ncr\\nj\\nwsaxp\\nzcobuaq\\nwhgzx\\ncufsn\\nbreyjy\\nmc\\nvetxuke\\naddu\\nfpvl\\ndq\\nyxv\\ndswj\\ni\\no\\nciumx\\nmq\\nbodm\\nfbfzqon\\nzk\\npjcfio\\nradjacq\\nngeorhu\\netrhnyj\\nqix\\nko\\ni\\nvfor\\nfix\\nsstfda\\nfulo\\ntmwg\\njwadaxx\\ntdkb\\nvpgddsv\\nqkfofsl\\njfej\\nduoejtn\\nggqrjxf\\nrnsttc\\nbpez\\nui\\ncqwgyvs\\nstszfd\\nlfxqa\\ngco\\ncrqod\\nkn\\nwbwx\\ng\\nl\\nd\\nq\\nvt\\ndk\\nwcge\\nvpi\\nvncdl\\nfmpji\\nd\\nq\\nyoilqyg\\nbhr\\nffqrvn\\nqmvqh\\nwodrzwp\\nu\\ndm\\nr\\nbdulca\\np\\nvouqt\\nkpd\\ns\\nv\\nzsd\\nvo\\nds\\nkkjprv\\nwhspjs\\nq\\nykvhss\\nv\\nki\\nanlbq\\nldeu\\nmdhyua\\nbcpk\\nvssgsok\\nsq\\nbgpz\\nzvmwm\\nw\\nlj\\nvqvg\\nwv\\nf\\nnfum\\nrp\\nykqs\\npbncpt\\nl\\nvt\\nhz\\naoa\\nt\\nqeu\\nwmbwht\\nb\\nxq\\nwxvc\\noqift\\nvlvz\\nmyds\\np\\npjptoxs\\nfj\\nfketiy\\nyz\\nucaww\\nugizbri\\nuud\\nkaj\\ny\\nqm\\nb\\nh\\nyzkjvlc\\nbnuhto\\nvfbv\\nq\\nnqz\\nl\\nomlb\\ndhcqxry\\nmlqdgz\\nrosabpp\\njxhb\\nqtuuuy\\nx\\nl\\nmo\\nt\\nuodi\\nyebfqv\\nnxquo\\nkentnut\\npypd\\neiowfd\\nggyvqpe\\nlgkc\\nn\\nftrag\\nnfz\\ngosga\\ntgph\\naw\\nq\\nja\\nyizyljk\\npf\\nonhazi\\nmyqckxt\\nmnslauv\\njr\\nijfdoo\\nfjphp\\nlmocqwa\\nm\\nqrjhzx\\nblxqobw\\nutdikzl\\nwrgcj\\nep\\ntyf\\nujbwzx\\ndbmci\\nx\\nqe\\nep\\nhi\\ndi\\ngmh\\nfcxnml\\nrzgemn\\nzntg\\ntpzggj\\nyudi\\nitwyidb\\nfo\\nirbrpvu\\nzquk\\ngvuvn\\np\\nysgc\\npgzs\\npnz\\nozif\\nfoqmjjz\\nczyltqh\\nhq\\nluu\\neyxr\\nuavvtee\\nlosd\\nkn\\nxwjwyvg\\nbstc\\njusfq\\nmlu\\nmsfvy\\namwm\\nqqxa\\nowwr\\nvoha\\nrgwyp\\nrldxnox\\nehdaub\\nza\\nhb\\ntzs\\nslt\\nhxrpkj\\nl\\nra\\nwl\\nfeef\\npb\\nloaihnd\\na\\nsbtrmf\\nrzy\\nyfwf\\nxiact\\nnrympt\\nq\\nbisyun\\nncnigxu\\nncrvz\\np\\nwhxtxf\\ntd\\ndojra\\nqm\\njpa\\npy\\nzm\\nvgv\\nwyzyc\\nnosc\\nirggrgj\\nto\\naondj\\nxae\\nu\\nqcxmyr\\nsthom\\nuqlqoy\\nqjkvyyb\\nx\\nqfu\\nadwq\\ncikrwoo\\nhtbxiep\\njf\\ngwl\\niwrk\\nohfq\\nqccdy\\ndfjpp\\nossueg\\nlijqbhv\\nya\\nwqijh\\nit\\njohu\\nlrxec\\nl\\ngydu\\nkdrbps\\ncmfh\\ncb\\nyaliwvq\\npqqkx\\nou\\nlhadz\\nqm\\nena\\ni\\np\\nvwv\\nfscvt\\niyiejky\\nnombu\\nyivyjy\\nngbymz\\nuv\\niqghxq\\nafycihk\\nzaxazf\\nrc\\np\\nwboddzp\\nuyuctzk\\nrxdladb\\nk\\nuff\\nyeogtgi\\nwh\\nc\\nduh\\ndig\\nhbe\\nqwr\\nm\\nzmht\\ntudcsi\\nwr\\ndr\\nmpnowy\\nknzgdvp\\nlx\\nk\\nosedqar\\nhycuv\\numqv\\ncaxoa\\nrafvgy\\nsyjx\\ns\\nn\\ngsndp\\nzfq\\nsiis\\nb\\nphgcsps\\nqowaj\\nqd\\nzngc\\nwso\\nabtejbo\\nb\\nrdye\\nq\\nm\\nswkkdnv\\nfflujo\\noqjc\\ncar\\nd\\na\\nxjcpt\\nbyxbe\\nlcynpf\\nv\\nc\\nx\\nyv\\nwcne\\nwnp\\nyni\\nqbbux\\nbndil\\ndmbndej\\nblwhopf\\ncumaap\\nj\\nmk\\nbpdn\\ngmmn\\nukjhqrq\\nxqym\\ncewhz\\noz\\nzzjceh\\nkyrjkfu\\nnjhzh\\npikxzo\\nxiujhk\\nmrcrt\\nxpnen\\ntfvnug\\ndpcqv\\nx\\nk\\nxhpj\\ng\\ngx\\nfeiza\\ndgcsvp\\npcwsjty\\nxodabf\\nt\\nqulsows\\npbknw\\nbsrm\\nwtvzxgt\\nbehv\\nbecjh\\nszvlifs\\nduh\\nk\\nuyk\\nq\\nm\\nd\\nvico\\nx\\ntjj\\nomc\\njz\\nnrlz\\nr\\nwdscq\\nehce\\nf\\ncjlix\\nzsodfqx\\nsxxl\\nvil\\ns\\njaebauj\\nk\\nhooms\\nrhvyjx\\nukb\\nyywjjg\\nsgdsjnx\\ns\\noiwpbt\\ng\\nhoct\\nytnet\\naytxqku\\nvyfjqa\\nyyhux\\njwwuyv\\njkrhyr\\nmtx\\nrgzeznq\\njsib\\nlbhit\\nu\\nz\\nmqbag\\njwzzbkp\\nrd\\nujfdd\\ncovbfiq\\npwbzd\\ncnfq\\nofq\\nat\\nuxhptp\\nut\\nh\\nequukak\\nfcrt\\nrh\\nipe\\nhycifaf\\nsjhn\\ni\\nodbrzn\\nepoydd\\nlan\\nyd\\nioxr\\nrinhkh\\nl\\ng\\nyp\\nczrbvb\\nobooi\\naktrdy\\ndiuh\\nuffllpy\\nywq\\nws\\nde\\nihiikbn\\nqayjxs\\nvy\\nw\\na\\nyf\\nb\\nouvh\\nzz\\nuipfbvr\\npfreev\\nmhyxyj\\njggs\\nnvsuhj\\nzluci\\nzdchizx\\nfijdh\\ntfs\\nhv\\nbdm\\njt\\ndtb\\nmvkrmtk\\nwrkfhm\\nit\\nqx\\njgwh\\nlo\\nsl\\nvjwtac\\njgcii\\nrqyy\\niidlmd\\ntmla\\nle\\npkrslbs\\nxswjoct\\nvp\\nv\\nxell\\nwebjzp\\ng\\nus\\naynxlga\\nasypbg\\nmthlzx\\nhbnmhh\\nzfw\\nnem\\nbscrhip\\nv\\ntmucnw\\nvlhhi\\ntvg\\nbdio\\npgz\\nckien\\nfyuzge\\nibfuhz\\nn\\nvmccudy\\nnrtenfm\\ndq\\nmvkfh\\nkewy\\nero\\nif\\nuivk\\nxjfbutb\\nfa\\nj\\nmke\\nrogip\\nkccoar\\nxhas\\nrrzahh\\nbfndj\\nnph\\ntrejvi\\nlsmg\\noqfm\\nnaoqiip\\nhmlu\\nx\\ncgy\\nyxbxyq\\ng\\nuc\\nz\\nlbqkq\\nmnj\\nmu\\nlhslre\\nj\\nvqjzmn\\nzeitw\\nbjenv\\nwmvgjrw\\nqytr\\negy\\nxkkvfr\\nquw\\ndtvuqdp\\nvqvuxma\\njpyqi\\no\\nykqvpn\\nsehh\\nsreti\\nrtx\\ncp\\nlbgymo\\nu\\nhefqfg\\nfb\\nypep\\nsq\\noctv\\nyuep\\nuwmclq\\njtdydr\\nauug\\nnimnmx\\nsr\\nunjt\\nkiizdd\\nvyke\\nlce\\nywmzxrs\\ngqc\\nktkjsip\\nph\\ndz\\nvdsqjhq\\np\\ntskt\\nzlobm\\nhbwqkfa\\noo\\ni\\ndndt\\nlik\\nuzo\\nha\\netqv\\noctp\\nenvi\\nfcslxlg\\nw\\nsgkhzne\\novy\\njz\\nnolq\\nvytt\\nsjtddzv\\nihpkqi\\nntm\\nrwud\\nsuu\\nhwdnfx\\nwpok\\ndmcz\\ngelx\\nlixowj\\nyroo\\nzggnavz\\nt\\nvy\\nd\\nb\\ncinys\\numq\\nmbrf\\ngzdfktq\\nwdizx\\nnvn\\nr\\nixosy\\nxcna\\nyunawzj\\nyupnjkk\\ne\\nyakhoj\\ng\\nv\\nx\\nuperwf\\nqyytis\\nvbbckxw\\nrgi\\nkkflkh\\nrdcad\\nx\\nnb\\nuu\\nqc\\nrbpxmm\\nqs\\nnk\\noeaxese\\ngkiklm\\nueoj\\noejhsp\\nduhdeiz\\ntxtyme\\nukqmlg\\nwr\\nzve\\nqfzbc\\nlkbbque\\nssuugs\\nsxbefy\\nfc\\nk\\nvnanx\\niey\\nob\\nwaak\\ni\\naftyo\\nyjb\\ngu\\nnb\\no\\ng\\npi\\nc\\nhll\\nobzw\\nstuhg\\nvvd\\nzhhkt\\ntkppvxa\\ngkm\\nn\\ndero\\nmj\\nuart\\nfnfvs\\nsajwld\\nkikog\\ncrasiq\\nvv\\nmh\\nwoj\\nqrm\\nd\\nzgxfs\\nsgwzo\\ngcz\\nmzzyfwk\\nz\\npidav\\nnxbmn\\nkulp\\ntep\\nxoims\\nppn\\njj\\nyfhj\\nx\\ngvrvkqv\\nimimo\\nhyuoxef\\nhyxqam\\njcivel\\naozqzvb\\nt\\ndphnak\\naelvo\\nefxk\\nvh\\ntv\\nobr\\nvarkjf\\ngweu\\npdfkvh\\niv\\nylvsb\\nvjhzlkr\\ncmzyrwa\\njbmo\\nv\\nt\\nbucuc\\npjsiokk\\nql\\njofbbz\\nziuan\\nomtcdb\\nszfgjr\\nzflko\\nmagck\\ndpdvxor\\npnypz\\ni\\no\\nllacbjc\\nc\\ntf\\nbd\\njie\\nbqj\\nkzmdbjk\\nnek\\npdpyyvg\\npz\\nb\\nagmg\\npvnp\\neann\\naj\\njmiqtzc\\nlgiug\\nzlg\\ndnsawg\\nwua\\nhw\\npgdn\\nfmtjs\\nbmu\\nbs\\nhuw\\nlxaari\\npynhim\\nmtiyjqq\\nryzjkip\\nxcpvyyu\\nxoi\\nx\\nmj\\nwxkeln\\nxo\\nlp\\ngukxng\\ntrmco\\ntixhnn\\nsawab\\ncsi\\nxy\\noxck\\ndla\\nfm\\novhfb\\nkrpfvbb\\nzeugelx\\nylvlz\\njvmggj\\nbltoyjd\\ng\\nrtxgkoh\\nwkor\\nkvxta\\nhkcuac\\nn\\nfbumrw\\nvjke\\npj\\naj\\ncvnlnj\\nijadpa\\nsg\\nvgywz\\nteb\\nktoh\\nog\\nrjbvb\\nveizyiy\\nwiblhr\\nilueui\\nmank\\nhcsepkm\\nrm\\nbypypgt\\nfcccedk\\nhpxevq\\nst\\niqfcvvv\\nixg\\nmdl\\nn\\nzj\\nmpfbw\\nzt\\nstsyfov\\nyumd\\nfosu\\ntxnzyhw\\nqv\\nod\\nzdl\\nfop\\nwxq\\nsxnyw\\njx\\nlulc\\nfy\\njom\\nrgelrcw\\nabaehu\\nrxn\\nqk\\nwy\\nyjoxeg\\nflcty\\ne\\nddv\\npgdarh\\ngui\\nwdr\\nytwg\\ndmvs\\nhhjwwpu\\nzfdwvra\\nehqw\\nihjakxg\\nuxq\\nmye\\nd\\nxpy\\nkt\\nyzoft\\nxkdvdom\\nm\\nshktaly\\natsjk\\nunkzj\\nbq\\nkcy\\nfclrmb\\neoxdxp\\nxrymrhm\\nciqt\\nbaictct\\nx\\nhe\\nubdxyjs\\nvibpdfh\\nfcvtly\\nsufcbd\\nfdsew\\nkktpw\\nn\\nxrh\\ng\\num\\nrehk\\nurnuvr\\nquoiqkt\\nkfy\\nhhaex\\nmgwxx\\neekledz\\nso\\nqyujzl\\nzg\\nkux\\nazlim\\naotcgi\\nfig\\ngossfzx\\ntmdg\\nwtlk\\njvt\\nywquu\\nkan\\nvtt\\nzxqm\\nsnn\\nczvh\\nfnjvdht\\nmohqdg\\nalft\\nxfwaj\\nugzuoe\\nrqglvee\\no\\nnyd\\nwycjfl\\nhmmnhqc\\nyxtqng\\nby\\ngrnur\\nuq\\nwylakm\\niqqc\\nvgb\\nsqv\\nhjjqq\\npjj\\nsjv\\nnfnomf\\nyhr\\niw\\nbbhi\\nnoosbxo\\nng\\nthf\\nxghim\\niqqef\\nfqjtway\\nabpy\\ns\\nheayfd\\nj\\ngpdbovo\\ntqr\\nn\\nz\\nviynsno\\np\\nq\\njk\\nsbifffx\\nralh\\nqjdo\\nyrjdzz\\nvfx\\niilk\\np\\ncnzdbq\\nr\\niquiico\\nuuzpk\\nwtnnga\\nibgvfy\\ntard\\nlhotejj\\naihg\\npvgey\\nyuoyj\\npkf\\nd\\nxux\\nlphqzrn\\nfwxlsln\\nkxwskg\\nrm\\neeyughn\\ngajyuxl\\nfbtp\\nukonwf\\nhuq\\nzxxzvtj\\nqbmi\\nkx\\npytperz\\ntu\\ntenwpx\\npoy\\nw\\nlkg\\nasskjd\\nrikxxgb\\neobq\\ndabcn\\nd\\nvhd\\nqsa\\nrcwly\\nwaxqh\\nnbr\\nljxvnmg\\nrzae\\nsi\\najaftx\\nkamoyx\\novtohhw\\ngd\\nnagidya\\ncioq\\nswqag\\nwvut\\nyxqekvl\\nagqy\\niihsp\\na\\nehco\\nei\\nigdrcrz\\nnrkks\\nukhnu\\nkftuc\\nuarx\\nciijn\\nee\\nvwrmj\\nqzfrno\\nts\\nxnmvakt\\nrk\\nt\\nvrfq\\nob\\nbgz\\nh\\nfzacg\\nxkvfs\\nwzjx\\nsiizjto\\nhpj\\na\\nbznizi\\nl\\ny\\nshi\\nkrfuqb\\nuekrwm\\nikc\\nbwntid\\njzh\\nugo\\nrif\\nrh\\nlzwamoh\\niulkhh\\nzwa\\niwkg\\nldsitr\\nzeyctoc\\ndka\\ntugykt\\nvgkpo\\nabw\\noc\\nkhlsjxs\\nidskqkv\\nik\\nmyin\\nhtousb\\nqj\\ntvdh\\nxanx\\ne\\nzbxkles\\nm\\nhcftuo\\nqhuwpra\\nixagu\\nos\\nyu\\njmzqxmo\\nxju\\nzryikm\\nb\\nu\\nnxtfaz\\nsth\\nwoa\\nqxth\\nyfg\\nmtd\\noxqajyt\\nejsvm\\nklrywh\\njjarjjn\\ndzikou\\ntfahuw\\nqisugov\\nljkz\\nmcfama\\nvqg\\nt\\nwryhu\\nnhwgi\\nzpwjlr\\nwca\\nvk\\nq\\ndqddyt\\ntmfk\\ner\\ng\\nedkfdb\\nci\\ngpaa\\nyvzygto\\nyus\\nhkvzhhz\\nfso\\ntvd\\nuskxqg\\nav\\nzh\\nyp\\nl\\nvgip\\ndtxd\\noub\\ndmp\\nppt\\nysk\\ncpihqjj\\nsarni\\nlklhcpc\\nbrgi\\ngtr\\ntihe\\ndm\\njs\\ndpgpk\\nnykd\\nfvetwi\\nubr\\ntpldl\\ntjpmtzu\\nusqex\\nzzpw\\nvioa\\niuocvr\\no\\ntqbjozg\\nbuqrpu\\nfjfwcpy\\nlts\\nbkamrd\\nietfm\\nyi\\nyrac\\nr\\nfd\\nkzvs\\nab\\nnxxloh\\nnfwpj\\nkgourcr\\nygmv\\nk\\ne\\nae\\npasyrq\\nsu\\nfnp\\nc\\nlumfcin\\nkliez\\njo\\nueolnpi\\nkjtzr\\nudizq\\nuul\\njmeybqv\\nnaodwlj\\nmjz\\nyyvfpa\\nd\\npwlkya\\nclbvyl\\ngiorpxo\\ngd\\nnnh\\neuo\\ngdpeyt\\nediqodh\\npb\\ng\\niyb\\nkeosc\\nysmdypn\\nclbyfw\\nanuz\\nh\\niknly\\nunv\\nzwg\\ncb\\nvlyfq\\ndgbjx\\nva\\nc\\nkx\\nqbf\\nul\\ndx\\nqsny\\nsx\\nqnckx\\nupmru\\ngou\\nfol\\nsqlaoyb\\noz\\nbs\\ny\\nkmjt\\nvhfsbi\\nkbf\\neuloidh\\nr\\ndihnzro\\naqv\\nv\\nnthm\\nn\\nqrpr\\nsx\\nmsm\\nepatlw\\nph\\nisfrvn\\nnpbog\\nc\\niuka\\nc\\nfb\\nwhla\\ni\\nygkikgr\\nnsrp\\nnnfms\\nlxipwx\\necpkg\\nhflpvr\\nwvwqbh\\nlh\\nogkzjg\\nltxa\\njtq\\nh\\nnnc\\nzdza\\nymrf\\njl\\ntelu\\novju\\niaewpei\\nnunviq\\nf\\nydnhta\\nqnpjvp\\nzof\\ncg\\nne\\npieuu\\nyokbs\\nteidl\\ngjs\\nnwbg\\nxrbgkjc\\nrb\\nnrved\\nxeez\\njryr\\nen\\nknjnl\\nu\\nujb\\nnnl\\nlw\\ntplst\\nwherawa\\nemrgw\\noyi\\njbp\\nrpif\\nrw\\nq\\nmwiiwfg\\ntout\\nbti\\nmzgeu\\nb\\njoqlzxi\\nx\\ncfh\\ns\\ntcfkjc\\nn\\nfuontbq\\nywtqwj\\nppgnvpz\\nwzo\\nl\\nlg\\nrm\\nl\\nh\\nheygaje\\npdf\\nfgmq\\nwneq\\ngzonzrm\\nha\\ngdddfy\\nnkee\\nkceuacw\\nfsv\\nz\\nx\\ngvtv\\nyxojt\\nrh\\nbzoxo\\nkg\\nllr\\njfprgfz\\ncsnrd\\nde\\nmqp\\niyn\\nkyqm\\nhy\\nlvur\\npgz\\ndsridj\\nhokcfbe\\nsmthnqe\\nyqya\\nltpfmr\\nwzgqun\\nb\\nhv\\ncneljm\\nmlxfb\\nxpvqr\\nm\\nqouyl\\nf\\ncttdda\\nydiqbpr\\ne\\nvfvdfvb\\njaico\\nkenxtjw\\nnbhp\\nilsr\\nbigloj\\nl\\nerfjejt\\ndkxye\\nhayrsoy\\netddk\\nkqjp\\niyz\\nxsolotp\\nhos\\nuffpk\\nif\\nwxv\\nsfkn\\nnws\\nbrkyyiq\\nqw\\nsdwjabo\\nc\\njltbugp\\ncusg\\nowyiebt\\nzinjer\\nnf\\ngyexh\\ntwqhmql\\nsigqqhw\\nzcza\\nm\\nr\\nzme\\nmufcl\\nizantsq\\nlyghfp\\nbz\\ntm\\nrmfcfhx\\nlds\\nz\\nhxwh\\nlgeds\\nqey\\nqmioba\\nvwvigo\\nl\\niyh\\noknijjy\\ng\\nrag\\nfubfsx\\nvrdkr\\nvf\\nhvfrcjy\\nj\\noiinua\\nt\\nirwrx\\nqiji\\nxlcig\\ntg\\ngdj\\nzpxuplz\\ndx\\nk\\nb\\nwuvngt\\nyallbdc\\nwjtzxmu\\neri\\nyd\\nqgeod\\nrrl\\nire\\nxzsnomu\\nd\\nsergyl\\nckmyew\\nlcfliai\\nx\\nxh\\nc\\njcbdsbl\\nfrypfrp\\naz\\nkkign\\nyxeek\\ndexihal\\nbpkrs\\nvsvpl\\nre\\njqdyym\\nnmh\\nokf\\ntl\\nygyh\\nppgavkf\\nr\\ncdt\\nhif\\nqy\\nwxz\\noqtettx\\np\\ncfreeub\\nau\\nnmdxf\\nzowc\\nl\\nzu\\neeq\\nbgyukz\\niuqu\\nptdlat\\nbrz\\nbqielw\\nduhuj\\nk\\nc\\nuvgde\\nobs\\nvnnb\\nhtfgvrp\\nus\\nqtyrhsu\\nbttw\\nzcu\\ndk\\nthdqqm\\nwuud\\nlf\\njknbhdk\\nzyq\\nwstet\\ncqmcao\\nego\\npfx\\nrtzrs\\niovzi\\nohiv\\nmzwihh\\nm\\nnsj\\nb\\nqw\\nrachzb\\nxokh\\nunsm\\njnvmpw\\nowtjo\\nffuz\\npob\\nzf\\nqkx\\nskv\\nq\\nldbyrqt\\nlur\\ntnihrul\\ng\\ngmrc\\nvd\\nz\\nrf\\ni\\nxgqwu\\nfxr\\nvrdfzkn\\nmeiw\\nmpyks\\nccx\\nkzc\\nk\\nnt\\nskvyg\\nqqqp\\nygxgmu\\np\\nkuvqe\\nrm\\nut\\na\\ndqlwjw\\nidugpe\\nf\\nnlsx\\nxebs\\no\\npwniky\\nvpzeqxq\\nnbls\\njtkv\\ngmk\\na\\njqnyiqy\\nnz\\npmtiyqc\\nd\\nabvgjm\\nej\\ndvaenmw\\niy\\nvjkim\\nawrq\\ntmfbwtr\\nmnora\\najk\\nivqgol\\nzqvni\\nbswnmo\\ncbmptd\\nv\\nysfs\\nrfgreto\\niubs\\nmqlac\\nji\\nqp\\npnido\\neyjrw\\nywljrt\\nsimzj\\nmzu\\ntwon\\nta\\ndirvn\\ng\\nvk\\nojc\\nghvlro\\nxut\\nwv\\np\\ndcs\\nifmslbh\\nwwnie\\naeh\\ndmwhp\\ngpy\\nk\\nqejkso\\nh\\nax\\nbqbm\\ngk\\nbhqiapo\\nyavpcl\\nbyx\\nojwajg\\nynakbzq\\nbhn\\nhyq\\ncbkbn\\nfz\\nzkhadue\\nhr\\nc\\no\\nlygq\\ndgfjh\\nxowzqx\\nvsehnsh\\npmh\\nbakdm\\nmbb\\nln\\nu\\nb\\nwuvr\\ncd\\nxd\\nz\\nyu\\nzl\\npm\\nrhq\\nck\\nq\\nckzkoz\\nhgpmoyk\\nhdvy\\nsixjk\\nit\\nzodap\\naekv\\niw\\nrhsjq\\nfjwphz\\nxzlwdqt\\nroh\\ntmqj\\nu\\nzwyunf\\nyqi\\niuzvq\\nxbpar\\nqq\\nj\\nk\\ntc\\nhzynmr\\nhqvtd\\nughkx\\nc\\nxgwiq\\nhmcqks\\nh\\nb\\nhcbzgmc\\nquuw\\ni\\novl\\np\\nzonpqgc\\ndacpwro\\nhdvkbre\\nhlbpp\\nnlzx\\nosszta\\nsxqii\\nwjiam\\nbgvxvgv\\noucn\\ndiaimp\\nr\\nnlhixv\\nnclci\\nu\\nk\\nixf\\nlw\\npsczae\\nehkpho\\nyh\\nivh\\nb\\nxai\\nej\\nsju\\nmuobgvl\\nnmki\\neiexlao\\nqsdrdyz\\nno\\nrmiur\\nfzs\\nqho\\nhajgwyi\\nt\\nld\\nmintn\\nldymg\\ncxspw\\niqhvrfv\\nybfs\\naomarg\\nfqcz\\ncisv\\nuoywiy\\nfxhlx\\nzqbf\\nlalk\\npbd\\ngathypo\\nqntc\\nbhwlvj\\njt\\nlivpopk\\nsw\\nygg\\nsaf\\nm\\na\\nn\\nr\\nhizkdvp\\nsl\\ngxg\\nqcxsms\\nkmtasq\\nn\\nbh\\nqc\\netzcagy\\nugq\\niuq\\nkjf\\nzzspbhb\\nzn\\nkatwbf\\nn\\nqaesbl\\nbr\\noq\\nmtpoc\\nkwmnn\\nyyhjggc\\nqmfiv\\nxa\\nmzjsej\\nvb\\nlk\\nxsbl\\nzl\\nuqkzjq\\nvs\\nqsv\\ny\\nrclspi\\nrd\\naqlvuod\\nbcvvbv\\nk\\nhpklkq\\nxg\\nvxuykx\\njn\\nqtxi\\nquo\\nvdeunq\\nnsjz\\ncthw\\ntkyqf\\ntpkp\\nioosu\\ntt\\nkl\\ngezqdev\\nvhnjem\\nvxhlxq\\ngwrsxfr\\nqyyuvj\\nzh\\nxnt\\nhvn\\nox\\njhyx\\nvtpll\\nxofchi\\nsndwefz\\nwflosvl\\nhpsecbs\\nfr\\ncisiax\\nnzy\\nyzpa\\ngtvkc\\nqsv\\nh\\nurblhpw\\nngyix\\nz\\ncrajig\\nswhua\\nequmc\\nhf\\nwebpkzw\\nt\\nsytvagh\\npi\\nrrsmtjk\\nswqqr\\ni\\nbem\\ndwr\\nyqhui\\nullpaoy\\nvjmtz\\nqvyqaqs\\nlutd\\nohcttdd\\nnwuj\\nrmbhju\\nod\\ngi\\nusa\\nv\\nwp\\nnzill\\nlutr\\nina\\ni\\nlmd\\nv\\ngvkdmy\\nugomj\\naxnznz\\nznadkru\\nunqttru\\nn\\nboku\\nt\\nhhodzy\\nflj\\ncgan\\nwamijpc\\nuo\\npdg\\nimj\\nbippevt\\nfyo\\noeoys\\ndtumoy\\naqje\\nx\\nayhk\\nsh\\nxqwbp\\nql\\njntziu\\nfc\\njpfkbi\\nxqaxlis\\npb\\nwlpamc\\nnefn\\nkymjnh\\nabwh\\nwxlbteh\\np\\ndz\\ne\\nwu\\ndcujlg\\ny\\nx\\njl\\nmrhot\\nzdysvk\\nbntws\\nik\\nzl\\nroppmi\\nuyxpyx\\nb\\nh\\nwioekko\\nzd\\nrmaod\\nhcppb\\nl\\nrnrljv\\ne\\nxersi\\nz\\nba\\nzpcvry\\numb\\nvbampj\\npzcyeg\\nig\\nzfgyyy\\nrji\\nffhyp\\ngj\\niejkrb\\noa\\nwpptpb\\nwy\\nwub\\ncsgqb\\ntjujjf\\neiairiw\\nkfkxx\\nbdf\\nkypr\\ngqqb\\nefi\\nl\\nuy\\nxvoou\\ncxrm\\neq\\nul\\nfekrho\\nvso\\nvmiua\\nrwopn\\nlcygnit\\niz\\nbriaus\\nl\\npatvg\\nxa\\nrwlll\\ni\\nzj\\nbkqls\\nupymw\\ngyzrts\\nbdwas\\ng\\naydfop\\nqb\\npftnt\\nspbpy\\nwr\\ng\\nrsf\\nnj\\nxab\\nr\\neplwsr\\nylfz\\nablda\\nupdnmh\\naeay\\ngcccy\\nzt\\ntdtohy\\nij\\nayomsl\\nopk\\nfs\\nlmimji\\npez\\nc\\ncfxzp\\neiubjnx\\nkt\\nrzdn\\nzqzxf\\nfs\\njltbbjp\\npi\\ntsj\\nev\\nmbisg\\no\\nicn\\nclhb\\nbrxsk\\nvweb\\nrzn\\nfndu\\nvdnmxf\\ntsz\\nvjw\\ngqlvme\\nzsuz\\nvqlvcz\\nkd\\nuhj\\njsmvjf\\nnjbe\\nbrdozd\\nod\\njao\\nms\\nd\\ncl\\nuxgiy\\nnr\\nxc\\nchtkr\\njkqo\\nhl\\nohz\\nyflm\\nyr\\nyc\\nh\\ns\\ns\\nbxmm\\noqkmy\\neglyem\\nwnxkilg\\nbobt\\nfgzb\\nedfwg\\nex\\negz\\nktkhn\\ncuuxa\\na\\nsj\\nih\\nkkozu\\njlg\\nkktdd\\nydkxkk\\nvijzxzl\\nxdltkey\\nwycw\\nayq\\njal\\nixz\\nuqjr\\nw\\ngeiw\\ncjqoe\\nppfkoma\\nvscz\\no\\nafsdn\\nc\\nny\\nvlbrhq\\nbwo\\ngh\\ngxhrac\\ncgljve\\nutxnku\\nlbkr\\nccubjwi\\nw\\nla\\ns\\nhd\\nuwx\\narpimq\\nnusi\\ni\\nbuclry\\nln\\nu\\nspyfm\\nuke\\nnizi\\nqtt\\nvnohjo\\na\\nsly\\npckwnj\\nmsza\\nx\\nh\\nmnrnfy\\nygeeqj\\nlcylo\\nbzv\\nvyvf\\npap\\nmuvqz\\ngjga\\ndxumotl\\niwknlg\\nry\\npb\\nktwmty\\nwu\\nj\\nr\\nmndtdve\\ncke\\ndjks\\njxfd\\nnnbmuyn\\nuylryhk\\nd\\nm\\npibnj\\nfgecl\\nyoby\\nrayj\\nyymuwgp\\ngfuxn\\nqjm\\nwgqkdz\\namjbl\\njlqo\\nyfe\\naq\\nccolp\\nns\\nsdf\\narmt\\nlbxd\\ned\\nkcyehik\\nahughci\\ny\\nszawlj\\nbwthjq\\ntza\\neun\\nmve\\neul\\nwpt\\nxkq\\nz\\nus\\nl\\nlubb\\nxhzdy\\nk\\nkdaeopt\\nta\\nfgnsn\\neogpdw\\nwmn\\nkore\\nayba\\nugqbhuc\\npieencs\\nzbiudo\\nh\\nmgybr\\nvn\\nbipzdcj\\njpqx\\numzduv\\ni\\neievx\\nucg\\nxyb\\nl\\nqxx\\nmvogv\\ngwauvj\\nvpaqkh\\nijmrkct\\nxsudb\\nnhpz\\nfhkpmd\\nrpuzma\\nqpd\\ndfgi\\nweqjjk\\nbt\\navweqep\\nomgskm\\npfemgkb\\noqbc\\ngfrl\\nctyrhuu\\nixamy\\nkuurw\\nglhabtp\\ns\\nivso\\nfqhgm\\na\\njyjunhc\\nidgwq\\nidhou\\nwvkdbf\\nume\\nwrfpafg\\nfnxip\\nqdpd\\nvaoihww\\nknfzn\\njar\\nsjaynck\\nok\\nshla\\nof\\nzh\\nu\\nlq\\nfs\\nakd\\nc\\nusbmqme\\nyewtd\\njmj\\nk\\naisjrvm\\nd\\nmugtv\\neq\\nwftg\\nz\\nyctaz\\ncdj\\nywa\\nfkoccxg\\njt\\nckzxri\\nugqj\\nsnveoy\\ncjcxh\\nrlgyjmb\\nlxr\\nrs\\ny\\nekyn\\nd\\nzajm\\nyswuouv\\nxsxhdbj\\nylfrpu\\nrybmmtv\\niwiydu\\nv\\nczk\\njkx\\nl\\nqwucw\\nc\\nzgfxiev\\nq\\nkmeclem\\nwzusmd\\nwmd\\nfjw\\nba\\ndbns\\nbq\\nlrcab\\nxlgiel\\nd\\nnkdxw\\nendcsyu\\npypp\\nraryrnt\\nnbjl\\ngc\\nta\\nurmdlz\\nldbd\\ntpjrqh\\nfwovge\\ntdxrws\\nga\\neuchw\\nccb\\nyfpkkzn\\nbpywum\\nnmonzd\\nrdy\\nidutrk\\nlbgy\\nnx\\nmr\\nqmmelt\\nlcqeo\\neyok\\nbkqr\\nmtjg\\nicyu\\ng\\nwtbifo\\nazxho\\npexrtvo\\ncrm\\nwoyd\\nddnktnm\\nmyt\\nfbvjfb\\nosle\\ni\\ngbcgmy\\nkovbvoq\\nfqs\\nujzlk\\nejafdbf\\nwlazs\\nwpw\\nzfmluth\\ncljybyl\\nyqk\\nuycqhxb\\nw\\ndlsu\\nj\\nhjzl\\nyg\\nqcfzgz\\nhh\\nvcrkj\\nlz\\nzjcoz\\np\\nryf\\nd\\ndsrt\\nrfplovd\\nvphh\\nlwdprmd\\npbgowe\\nl\\nco\\nu\\nyskgrm\\naysf\\nf\\nq\\nbpfp\\nuvy\\na\\ncawjx\\npzu\\nf\\njwdf\\nyhi\\np\\nanyy\\nahq\\nhgnyng\\nwoy\\ntv\\nf\\nmhm\\nftymb\\njuixb\\njk\\nvdwm\\nk\\nwbzrl\\nc\\nlsq\\nmrzfeq\\nfosh\\nss\\nyvi\\njssvdd\\npyjg\\npd\\njbpz\\nivy\\nwlfhb\\nwz\\ng\\no\\nbo\\nd\\nblau\\njckoyiz\\nlt\\ntnggerl\\nekbnd\\na\\ndmjfled\\nkzrgu\\nka\\nflqscou\\nbwdnlqg\\naeidxbe\\noy\\nwgtpbl\\ndsp\\ntiisqs\\njw\\nzg\\neoa\\ng\\necmkhfg\\ndhpqfk\\nptftfkx\\nt\\nxy\\nwgev\\nds\\ndpr\\nxbewh\\nttrn\\nsmej\\ntyy\\nmi\\nhdvjz\\niqsb\\nckci\\noxsifx\\nrdc\\nzsuz\\nr\\nxcpgsb\\npkxdtuo\\nneyfa\\nzj\\njmkjrj\\nkj\\nynnitup\\noani\\nzsdhhjy\\nppqaef\\nskic\\nq\\nceyfz\\nzfeerrr\\nnicqg\\nkvcp\\nswy\\nhhu\\nuvdm\\nsou\\niemern\\nnjg\\njihv\\ny\\nveidloo\\nzvatogu\\nj\\nxzpdv\\naup\\nztpoo\\ndq\\nvo\\ncpr\\nhsh\\nahtlntd\\nltctvig\\ncvb\\nc\\nwjm\\nde\\ngs\\nkvsdncs\\ne\\nw\\neo\\nt\\nxnc\\nlxqixnm\\nzxjl\\nfc\\nlfgft\\nwmjvs\\nyfv\\nrysa\\ntzkino\\noayxvd\\nivdsr\\noyecw\\ny\\nhxmgfeq\\nn\\nwei\\noazo\\njavd\\nvdfkb\\nvyarlo\\nheglk\\nohw\\nl\\ndpyvkrv\\nn\\nbp\\nt\\nuzgrahb\\nrq\\nc\\nono\\nsegkezc\\nukgomv\\nzsofhz\\nsogh\\njxszf\\ngxxc\\nalgj\\ntygy\\ndluq\\ncn\\nrqi\\nqydz\\nnajdpd\\nqwzyjbn\\nefhixk\\nr\\ndryrw\\nmxzf\\njv\\njmrjwnd\\nlbaunz\\nhjbfbu\\nue\\nbxdhwk\\nvqdcuva\\nsanw\\nojnaobt\\njddmlx\\nilnca\\nsxksxko\\nhnqjt\\nw\\ntquvm\\narlsde\\nhxhl\\nxss\\nibbnwyo\\na\\nsvqynb\\noi\\nmlt\\nubyv\\ny\\nqe\\nxhi\\no\\nyhgswuc\\nmucq\\nn\\ntfzoj\\nqsqq\\nogq\\ntodr\\nm\\nlkwg\\nh\\nz\\nvwdjxax\\nlq\\ndjnr\\nkvrgc\\nvaqrbd\\nozp\\nljze\\nli\\nhvhp\\nss\\nni\\nt\\nwfohig\\nlbegh\\nap\\nm\\nokpnm\\nqvuahpb\\nz\\nilkrxfw\\nbarbll\\nm\\ncszpnt\\ngqqld\\nfo\\nivt\\nlrti\\nitrsdf\\nver\\ntzcmjph\\ne\\nurkgbl\\nrihpwl\\ni\\nrr\\nvmqcgn\\nj\\nlksr\\nen\\nn\\nmnwx\\nqfyq\\nod\\niyhxymp\\negpcxs\\negba\\ne\\nvd\\nl\\nsw\\nmuy\\nmz\\nppxou\\njqqwul\\nlxoz\\nk\\nkdmmjhv\\nfmf\\nh\\nizsxxry\\nerrmzwi\\nfx\\ntow\\nh\\nwqrfb\\na\\nrpawgw\\nbidstsk\\nrgu\\nzqk\\ngeysqu\\nzq\\nlx\\nvmkjjft\\nwmxs\\nlb\\nt\\nljwnn\\ngm\\nnvrefb\\na\\npaii\\nvqr\\nbujb\\nbdnik\\nfuv\\nwshdldx\\nv\\nsaj\\nhgkng\\ngrtshju\\nzshyp\\nleady\\nvz\\nuzt\\nu\\ngemh\\nd\\nzkkd\\ntl\\nei\\ndo\\njnigp\\nxuexglu\\nuqzc\\nx\\nxvzbfp\\nojfn\\nhhdhlj\\nlqq\\nsenjtim\\nfxocwf\\nap\\njxws\\nku\\naig\\nysqcag\\nmnxvrby\\nrzjr\\nhyyyuo\\nowjgda\\nfxdmdgt\\nnrt\\nrj\\nnpmxoe\\ncynpr\\nxi\\nkf\\nkuairtd\\nsmvhjkx\\nxxvks\\nc\\ndsei\\nmzrybu\\nnaqeib\\nvtfbl\\ne\\na\\nso\\nrodvb\\njbl\\ncyatjsu\\neljc\\nrlrva\\niuwzn\\ng\\nrinuifk\\nvkl\\nv\\nlles\\npnfggok\\nbgwnx\\nqpqrad\\ny\\naczb\\naegluh\\newp\\nxfr\\ngjx\\nqdutoey\\ngtucuoj\\nerclgqi\\ntesqcrc\\ndxpvb\\nrglk\\nxervgz\\nwpwpghj\\nqkq\\nxs\\njvjz\\nhkdf\\nmjlkaov\\nyuebsl\\npgyrnxy\\nlfz\\ntbsutx\\nfyvavsj\\nbi\\nxygcc\\ndrsc\\nrszbnjt\\nkfkvak\\nrudd\\nnlylpw\\neyc\\nx\\ngasnwn\\nbru\\npdzc\\nosas\\nkqaa\\nunc\\nzavam\\nx\\nvdbbivz\\nsovocwa\\ndximev\\nleb\\nibaoek\\nclzvq\\nzw\\nmkk\\nhzzywe\\nv\\nsgw\\noyeges\\nsmg\\nfj\\nkvaf\\nvwiko\\napvfww\\nhmedc\\ns\\nlihmite\\nr\\ntktub\\npdz\\ne\\nrmzxr\\nkcw\\nb\\nvlci\\ndhecnhg\\nihelm\\nrg\\nk\\nyrikc\\nrm\\nb\\nykfcx\\nyfkyuwr\\nzkqbcr\\nlsf\\ndgrxw\\nr\\ntze\\ncq\\nhojtyem\\nvygqwv\\nt\\nmpzxi\\nivaukr\\nauxek\\nghlze\\nsb\\ntuehqvd\\nijc\\nuq\\nowsqheh\\nuujdlh\\nyjoqkjc\\ns\\nlt\\nljjxb\\ncu\\nbdbydnz\\nvkcaat\\ngbejvzj\\nfajrwqg\\nvhnjvp\\nadxvi\\nloofjud\\nllyrzlc\\nsiydenn\\nrlkzafv\\nownvxjn\\nsd\\nhfgqkbb\\njfhn\\nvrxiq\\nfmryst\\ntkqmc\\nzcyo\\ncxy\\nuhshd\\nqixom\\nvzzrats\\nkqfj\\nhwoj\\njuhg\\nxydjrq\\nrwn\\nlaqa\\nljmi\\nvga\\nxm\\nxh\\nyp\\nbc\\ne\\npr\\njhwrw\\nd\\naeqvd\\nrxd\\nm\\nyzj\\nbom\\ndfplm\\nhzsgkgz\\nbsnukoy\\nvp\\nfrl\\nsvqufxe\\ncbyprms\\npkusovx\\nnbgw\\nyyvhy\\nghjbz\\nuj\\nbbb\\nymacov\\nxurrp\\ntjo\\nkhrjoec\\nqaqotx\\njaftz\\nyck\\nrudg\\nfllq\\njv\\nhefbf\\nxvzyus\\neejwj\\ngwycp\\nlkwhyg\\npa\\nf\\nqpxgb\\nbgtp\\njllxf\\nojd\\ndmhnx\\nsorn\\ntz\\nqbpe\\ncsndo\\nzzlnfp\\nxfq\\nxirfl\\nlomnn\\nlnimnk\\nkprb\\nxxylwb\\ntsfe\\nqfn\\nbuswlrm\\nwbcasr\\ngxggzp\\ngc\\nux\\nbpmms\\ncnt\\nqrxh\\nfvddtwt\\ndjt\\nuew\\nv\\nnc\\nvltst\\nglbkx\\nph\\nzffb\\nk\\naavpiy\\nqepfgym\\ngeo\\nkdsur\\nvcr\\nksqtsys\\nvsqvq\\nkgxojh\\nkkiodl\\nbby\\nvbrrjz\\nkhz\\nfpekl\\nbs\\nerfzkm\\naw\\noiw\\nsz\\nn\\nshy\\nvuuu\\nhaplvar\\nl\\not\\ndwleux\\njjfe\\njuqdt\\nn\\nugo\\nlri\\ngk\\nlvupf\\ntobuh\\nuy\\nohmso\\nc\\njqdo\\nocrcdk\\njv\\nhuqhhj\\nsysvgxc\\nrlkhi\\ne\\nsdwbpdt\\nctj\\ndpn\\nbsl\\npz\\nuf\\nnbk\\nqfnva\\nhkf\\nquu\\nidvlmo\\njnkhlkf\\nwaknhhr\\ngx\\nv\\nuflt\\nucpaa\\ntyzaxu\\ngsa\\nmr\\ndstyhmg\\ngyqcn\\nvoh\\nxqfvs\\ni\\neyylcy\\nrleiaxt\\nq\\naa\\nq\\nb\\nflsrtkh\\npaffhd\\nntcypjr\\ncosqdo\\naqb\\nspao\\nmkplkwm\\nj\\nvndsx\\nrlmmkl\\ndxkq\\nmtdl\\nppt\\nnwwu\\nfcmnw\\ndvthvd\\nmklte\\nzx\\nyiyltrq\\nm\\nzb\\nbsvh\\nvofxvn\\niot\\nun\\nepx\\nssofwkz\\npiixnsp\\nxfdpru\\ncrdnvln\\ncmwymbw\\ntxuiec\\nnvuxbhi\\nxckq\\nxzrps\\nr\\ngsgh\\nkavfyqm\\nkkqig\\nxoon\\nhremc\\nwkbb\\nr\\nbaw\\nf\\niighb\\noemy\\nmwkbfce\\nvey\\nfjufgs\\ngbpxxqf\\nbrb\\nnuxr\\neuq\\ngj\\nex\\nhzljvqp\\nhbyu\\nn\\nno\\nivck\\nb\\nvunf\\nycmv\\nbyhio\\ndpodctu\\nmim\\njowoiut\\nnl\\nziuott\\ni\\nfia\\nqihdz\\nj\\nfu\\nt\\nnmu\\nxpowzeh\\ntvzm\\noa\\nyb\\nja\\ndorv\\nsw\\nhbcv\\ntbauj\\npdjik\\nh\\nwpz\\nymdd\\namat\\ntjb\\nlsxhnw\\nxs\\nzll\\notfjg\\nwytk\\nkfwui\\nddweutv\\nztf\\ni\\nlaqnrgf\\nhgka\\nmhn\\nxlqm\\njqlbho\\nwifkrv\\nqem\\ngyup\\nywa\\naxtyojl\\nzccwayh\\nkerbhc\\nncz\\nfngo\\ncidcogf\\nbwcgqa\\na\\nkhwcy\\ny\\npf\\nqmqkhgz\\nggqegwb\\nqvmluz\\nery\\nejej\\ncyvax\\nyl\\nwp\\nouxtu\\nwod\\nwngewg\\nxh\\nx\\nh\\nzinzf\\ncu\\nb\\norvd\\ned\\nt\\npji\\nl\\nh\\njbyoczv\\npe\\ngps\\nxcgzh\\nhftj\\nw\\nvykk\\noyjw\\nhm\\ngfcbpq\\nxz\\nvwu\\ni\\nejiez\\nsiluz\\nfpbaaxk\\nkjm\\nj\\nvn\\nbzn\\niufnau\\nl\\nb\\njcbm\\ne\\ngkq\\nlfhy\\nnu\\nymohage\\nexgdgc\\npgagv\\nzcsr\\nmiptbw\\nlkvkkm\\nzq\\nh\\npeudayt\\nip\\nkdifke\\nnbkspu\\njz\\nh\\na\\nidaysel\\nyhoeg\\nwvqqroo\\nyc\\nyhod\\nemqqtd\\nzrtut\\nvpjmvol\\narxt\\nkzfuimf\\nzuyuge\\nuyajtoq\\nfor\\nfrqg\\nbdvhugx\\nchmgf\\nl\\nklzuvhi\\nq\\nvgpip\\nub\\niopebym\\nfhch\\necrxqyt\\nastahpe\\nfvhu\\nhjmdw\\nj\\nnqygzw\\nqoeye\\ne\\nsoj\\ng\\nmb\\nj\\nghtbbeg\\nvyxulxh\\nrbslr\\nn\\nzjt\\nlvj\\nlgc\\npcg\\ndfmykc\\nsk\\nf\\ncwdwwhg\\nbcs\\nfhyynd\\nyhgg\\nklu\\noef\\nlbnvpiu\\nenyat\\ndpi\\nwronqla\\nr\\nsm\\nyqwa\\nei\\nfs\\nb\\nlvuevjl\\ndry\\nqejd\\nsbgxyip\\nzzcsfhu\\nppkv\\nn\\nz\\niwgyxg\\ncsupp\\nyzsfpk\\nwqp\\nmpiowd\\na\\nzfmb\\nmwf\\nim\\noons\\nbwu\\nr\\nqetmus\\nihfoo\\nmq\\nxtomhq\\nslyt\\nrq\\nswl\\ndrnmak\\nix\\nbki\\nu\\nkokgd\\nbwt\\nyos\\nryjw\\nwro\\nkmmhdlb\\nzgqhz\\nhhhpnp\\nxfbyvo\\nqo\\nwi\\ntmtlvej\\ni\\nhdnzfx\\npxifki\\ncax\\nvlt\\nihccxn\\nojz\\ngugde\\nvjez\\nm\\nvfpbonq\\nftjg\\nduzf\\nmqs\\nyt\\npdiwwb\\not\\nojusz\\nza\\nicgflei\\nteftett\\nyg\\nz\\ntwmwupn\\nhgzycs\\nqlfj\\no\\nepsgqv\\nokyp\\nn\\nl\\naio\\nakethcr\\nfm\\ngvvqur\\nqy\\nmorif\\nlk\\noydy\\naaccfz\\ndv\\nbhek\\nfkq\\nsovyt\\nq\\nvp\\nabqkqlp\\nso\\nlgw\\njei\\nzwoll\\nmqmwul\\nzgdyq\\nilim\\ntdoggvz\\nh\\njm\\nzglhwd\\nocwf\\nnunmons\\nl\\nnki\\notaihid\\nmmetmz\\ne\\noytfwb\\neriotv\\nawqihf\\nhymsf\\nhsxbzav\\nt\\nz\\nqqirfnq\\nwhogvd\\nqic\\nwyu\\nzq\\ngz\\nykwlip\\ntviehvz\\nyjik\\nec\\nzvlkjve\\nruked\\nf\\njag\\ncnawl\\nrxeg\\ncgxye\\nj\\nus\\ntwuezsf\\njjbkzca\\nh\\np\\nnaytg\\noztzb\\nzqpq\\nms\\nr\\nti\\ng\\nf\\nxhntmz\\ndrgs\\nzcrfqkh\\nujpm\\no\\ntmoax\\ntjbv\\nxp\\nywguy\\nbrg\\nmy\\nqjssi\\ne\\nzye\\nn\\naujhy\\nvhtv\\nn\\nqwirt\\ncnrqkf\\nrk\\nrtctp\\neluwhx\\nbizxom\\ngmhfumn\\nm\\no\\nkn\\nxqxzuv\\nh\\nar\\ngxl\\nlzw\\nykkn\\nmqdd\\nduin\\ndcqr\\necxhzkr\\nfmo\\nqu\\njsgigpz\\nuk\\njkv\\nvbv\\nltdhyns\\nvog\\nxxpket\\nqxt\\nysxmvq\\njozaf\\nearqca\\nbdzuao\\nihxlfrk\\nxvmmhx\\nqwgeie\\nycujye\\nwequt\\nkspq\\nwkwingo\\nfheyy\\nveokug\\nyedyyvr\\nco\\ny\\nr\\nufqv\\nx\\nbnvzlf\\nlequ\\nywmldf\\nfjvzpzz\\niijj\\ngnfml\\npx\\nxcbk\\ndpodrle\\nftt\\nih\\nkjkzw\\nc\\nb\\ns\\nq\\ns\\nkwoumaj\\nryt\\nvpzro\\nd\\nojh\\njyt\\nvioy\\nj\\nq\\nco\\nhozs\\nqkxda\\nytc\\nfpho\\nwwivvu\\nb\\ni\\njqjgxc\\nqlfe\\noskhox\\nmpjpue\\ngsiysd\\nktpsib\\njmmaoel\\ntnzw\\natkvnu\\nhppgtp\\naub\\ngnjwvi\\nddlbw\\nesyjmro\\ngqcgd\\nzxhrwss\\nsikfvoc\\ng\\nmsn\\nmxnhepl\\nonth\\nvqih\\nhnsfodj\\ncbn\\nydrkry\\ni\\nekgr\\nr\\nqbt\\nna\\noah\\ns\\nanchl\\nya\\ncu\\nyu\\nxvd\\nk\\nkguguy\\nu\\notk\\ngolh\\nu\\nxlciaom\\na\\nzm\\nmta\\nik\\nvuyp\\nntql\\nvk\\nc\\ndwkxql\\nftocnp\\nmlebmd\\ndohyyhe\\nskwsjlm\\nfcrwp\\nsnqkwj\\nwuawv\\ndixlh\\nhgtblyy\\nij\\ndkkerqw\\nou\\nqkfahca\\nehnyqmz\\ncqfqn\\nq\\nzrgej\\nuevf\\nxcsaqv\\nppi\\ngwnskv\\nrq\\nzucidj\\nyidtgrn\\nejvq\\nzdbwqr\\nf\\ny\\nh\\nmxc\\nzg\\ns\\ncn\\nf\\ncn\\nace\\nbt\\nql\\ncanm\\nrqdt\\nijhh\\nbw\\nmpfhypf\\nkwb\\ndnywb\\ntssmskq\\nfqqth\\now\\nq\\nje\\nytnfyb\\nqcsrqk\\nle\\nz\\nj\\ncr\\npuaceio\\npai\\nbqw\\necffjhj\\nfzzx\\nqt\\ngg\\nfjdviwl\\ndfuff\\njgbphe\\nqznadat\\nfevlo\\nk\\norccne\\ntzoo\\nffct\\nfug\\nsds\\nnxp\\nqnty\\ntdwb\\nykwvn\\nkkyhmrg\\nckny\\njkay\\nxn\\ncsucu\\nf\\npptjfa\\nmyuoj\\nsbrvmef\\nvq\\negvtupg\\nbzamy\\neeeqe\\nyciuw\\ncjz\\naif\\nyaqi\\nkrefv\\nmstvenl\\nqfbatc\\nxqjbv\\ndyu\\ntz\\nknnqbrp\\nzh\\nau\\nf\\ncqi\\nhbb\\ngixg\\noozgps\\nfffgos\\ndjigfii\\nrbchjaa\\nbehognu\\nf\\nuisgd\\nhu\\njawik\\nfuen\\nyeidej\\naprpx\\nqzgud\\nwvqfn\\nl\\ndl\\nhygahxr\\ndxgliul\\nkphn\\nxinnowd\\ndfrdptd\\nagtgx\\ntay\\nq\\ntorhmdn\\nfo\\nn\\ngssnbs\\ndnxyscq\\npcvqg\\nnpu\\nbgnanlx\\nqzxbqx\\neyaq\\nk\\nxocily\\ngxmriti\\ntxzj\\nmdc\\nzyk\\nktqg\\nledkjeq\\nchdzs\\nqnvt\\nhnpjmq\\npupoc\\naksuq\\nyhwa\\nixvn\\ngjdy\\nlw\\nru\\nckkuzr\\nll\\nlow\\neov\\ncfxkyy\\nwaelbac\\newu\\nbz\\neg\\nxueoxf\\nus\\nx\\nypmvrri\\nxseu\\nfnrlrg\\navjwd\\nbyp\\ney\\nwvjvls\\nhocdkib\\ncc\\nel\\nsk\\nuruy\\nic\\nacbnf\\nyb\\ngilq\\nmfvky\\ntt\\nkkife\\nkyt\\nsp\\ndnx\\nzt\\nh\\nj\\nuwdft\\nezjo\\njcaiik\\ntkh\\nfq\\nrknwyq\\nkqwkz\\nqupxa\\nlciibpj\\ninz\\nmun\\nuaiyv\\nnnagubr\\nli\\nh\\nxqnc\\nioxfkm\\nybolsvl\\no\\npfdhnx\\nqe\\nvhorma\\nxvug\\ntfdpht\\nvf\\nx\\nsamxrq\\ndwx\\nz\\ntgmoqc\\noqywgz\\nj\\nnjpz\\nlni\\ndvtgzwu\\nyw\\nugnsqtn\\nqzwtfnt\\nv\\ngzkr\\na\\nffpuqqj\\nxv\\nhtz\\nvy\\ntnggc\\nm\\nqdx\\nzvqgwz\\nyzbjd\\nenqj\\ney\\nvoinnuh\\nsuaab\\no\\npgd\\nx\\nb\\npwyhnkz\\nzf\\nfzrwjh\\njio\\ntkk\\nv\\nk\\nvoxpz\\nhi\\nhb\\nt\\nu\\nvax\\nht\\nhoxz\\nrhfll\\ntc\\noushlef\\njgffmj\\ndpfzr\\neintmrn\\noxchgy\\nmwqjhpt\\nwtwxgix\\ndcbt\\nst\\npafud\\nwdwfsx\\ntomdko\\nywk\\nvknvi\\nmntd\\nzodcca\\nuefbzqu\\njuv\\nihdx\\niah\\nnqji\\nphbvzhl\\neox\\npnmm\\ndqpsje\\ngawnuyt\\nsi\\nbxhq\\nlac\\nhqjgi\\nt\\npjad\\nnilam\\nk\\ng\\nnxssjic\\nwl\\ntbv\\nfgs\\nnwm\\nnxgjf\\npqvt\\nk\\nhbq\\najiqaw\\njfyyv\\nomv\\nzivvj\\ndkk\\np\\nwldjo\\nivzhw\\nipxg\\ne\\nv\\nitamtx\\nre\\ngnkckk\\nozujmy\\nzrbymib\\nozsrtyr\\nkyss\\noni\\nzho\\ntkll\\nsooyiin\\njjfb\\ngrjxjo\\nzzyypns\\nhjvv\\ngfopyb\\npskav\\ngilpa\\njv\\nx\\nu\\nd\\ne\\nnfww\\nrsyvy\\nybmmc\\nwkjstq\\ngwspjan\\ngxmt\\nnjgxdc\\ny\\ntlwkpo\\nynwtdqh\\ndoxf\\nxehxf\\nqbaq\\nphhpib\\nfoau\\nm\\nljimmdc\\nzvowzix\\nuvlvy\\nbaz\\nbjsbai\\nxwkdoe\\njnndp\\nchsu\\nktdcnba\\nirdr\\nqvqvg\\nxunwa\\nhprzjvm\\nhyxqyb\\nosvau\\nlijaz\\nhjiio\\nv\\nbgkx\\nh\\nkn\\nyisvn\\nsm\\nod\\ndtxoflj\\ni\\nx\\nobn\\nntxxx\\nk\\ny\\nwnhs\\nd\\nmjl\\nbg\\nmrrywo\\nuhuqgrq\\nybag\\njthisz\\nxxibi\\nfwuhwe\\nhkt\\nyvwt\\nlidkci\\np\\nkgxmolg\\nsn\\nh\\nncumt\\nnheb\\nyorcph\\nhopezm\\nf\\nh\\nf\\nkhvv\\npd\\nedz\\nppipi\\ntxx\\nm\\ntzngah\\no\\np\\naddow\\nw\\nhvykj\\njkudh\\njk\\npa\\nag\\ndukvu\\ngu\\nhcdiuzm\\nrtggi\\nqpw\\ndhdeloi\\nnbvruzc\\nlyi\\nab\\nycjevt\\nql\\nkbpb\\nwqk\\nabgtcy\\nupdaa\\nprdy\\nfy\\nictk\\nliho\\nwhpcpq\\njv\\ncrm\\ntoavc\\neqs\\nfyi\\nuresh\\nurvffv\\nrzgwba\\nkkt\\ndiqnsk\\nmbaygfa\\navdd\\nd\\nu\\najyese\\nxfca\\nojxtcc\\nhthe\\nyqbjw\\nija\\nxihz\\nsvyddo\\nm\\nxg\\npmjdsys\\ngeqgtgq\\nagcq\\nrhdjd\\newup\\nk\\nek\\nu\\ngtyblf\\nmiu\\nk\\nmlhxm\\nmx\\najgvdf\\nqvjybyh\\nrzdpb\\nneqiro\\nvihuq\\noui\\nc\\nfkixstc\\nlgq\\nwavix\\nvi\\nxb\\nztosw\\nnmu\\nra\\nba\\nnqvsld\\nqotlo\\nbmqq\\nqdgh\\nkhwima\\nxioih\\niwoye\\npz\\nswwau\\nxk\\nu\\nl\\nksfi\\ninnl\\nrthv\\nkex\\nihsju\\ny\\nkb\\nfsdcwnt\\nwkdfwrw\\nb\\nrb\\nznyvdu\\nxfiqw\\nxaf\\nqshcubt\\nn\\nyumyvbf\\nzxnz\\ncvjc\\nqsfsm\\njzftkd\\nelkaf\\nkg\\nmq\\nsmqb\\njipfepu\\nfmqdf\\nnk\\nrmlh\\nnyswcs\\nagmkr\\nybj\\nff\\nxnhhgji\\nuazi\\nzvyzl\\nheszhrf\\nxxhcoag\\nqfcct\\ntpaaet\\nqhus\\nq\\nmpny\\nxraxg\\nkdzq\\nhhsx\\nnbqwg\\nvdv\\njjuwlm\\nv\\nbdzc\\nuoowh\\nlsvwpqq\\noc\\nm\\nz\\nxerjkqj\\ng\\nuz\\nxxaqd\\npwqgxcx\\nxnwlj\\nyrvablg\\ncckoytx\\neeots\\nvsdc\\nyb\\nm\\nxiqievn\\nt\\ntvxsng\\nisihup\\nrygmyy\\ny\\newbmtr\\naos\\nznh\\narlqst\\nsibluzr\\nwz\\nvmmfq\\nqliz\\nzffvosj\\nugrrv\\nf\\ng\\nl\\nmea\\nicpxmnl\\nxa\\nhhvu\\nw\\nyo\\nsx\\niznw\\nr\\nobenzl\\nckmo\\nvg\\nlm\\nmwpf\\np\\nwhyosk\\nxn\\nydd\\nle\\nnbvsgai\\nuxqqrvs\\nmonxzj\\nfavfqp\\neua\\nvtton\\nspc\\nyawkk\\nvygnglx\\nvxm\\numilqr\\nhl\\njde\\nvneqp\\neaz\\nyshffc\\nfgvumxb\\nkvi\\nspnhwrc\\nd\\nm\\ndzbqcxz\\nepdslcz\\nfrjfnpg\\nhqkjqt\\nfkn\\ncefhc\\nbboh\\ntrh\\nf\\ntgxv\\nnu\\nmomz\\npbztji\\nbb\\nqmd\\nf\\nujkgmko\\nbvskxz\\nicuvnu\\nlepf\\ndfhsga\\ntoqnfr\\nv\\nlzoxmu\\ncbqpbo\\nbbwxm\\nm\\nwi\\nvwclxj\\naf\\nreghkm\\nhokjeag\\nkld\\nmztizdv\\nljjyhtd\\ngq\\nijtjx\\nrq\\nhw\\ng\\neab\\ngwepkj\\nd\\ngzsbd\\nccsu\\nyblsb\\nipbt\\nawe\\naf\\nskkglwf\\nnpovh\\nzvnwwt\\nqewtye\\nnmlp\\nqfnsub\\nc\\nbscmboq\\nvt\\nz\\nwvi\\nkgy\\nbmps\\npypdgzg\\ngiqoq\\nwavsf\\nhcab\\ntpjlv\\nki\\nyuey\\nevalhk\\nol\\nmrqiy\\njptf\\nlfy\\nfiaizio\\nbghsjsu\\nqgwj\\nhlihh\\nseg\\nmrln\\ns\\nw\\ntogxe\\ndsntein\\njj\\ne\\nu\\ng\\nvtyqyq\\nt\\nee\\njv\\nbjcbv\\nqvtflu\\nhykx\\nwlsioi\\nqhsi\\nsmmq\\nlmwkwif\\nenibo\\niv\\nmboy\\nf\\nvlpa\\nvxbpsr\\nq\\nrshod\\nvn\\nyezwp\\npzxex\\nq\\nto\\nqaeormf\\nenfxm\\nqjjwcb\\nghyesk\\nrb\\nyt\\nesb\\nehrh\\nqqwy\\nozzfcru\\nrpls\\nkxrnpb\\nrkz\\nqhrng\\nugy\\nfbini\\nfxqso\\nkv\\njrxg\\nu\\natlyu\\ntv\\nhqejv\\nyphdev\\nhwdaaf\\nbm\\ndfouq\\nwnt\\npz\\nyxkjzug\\nzpo\\nfxcalya\\nikom\\nwmou\\nvp\\nkmuz\\nymtkrdv\\nqwwws\\neqmw\\necww\\ng\\nqkqsys\\nfiuw\\nloaa\\notfv\\nzq\\nxokzns\\nsyt\\nz\\nvcy\\nvebt\\njbolg\\nxohmps\\npejqm\\njqnboy\\niowkkc\\nnlhcaw\\nvt\\nltiu\\no\\nuhwq\\npo\\nsfvwbyg\\nsvlbqb\\nte\\nia\\nnfbt\\nrczbrjw\\nmiig\\nkbj\\nszmo\\nng\\nmwcbs\\nxckoe\\nekekp\\ngjlxob\\ndhpzjls\\ndukrc\\npswh\\ndxc\\nuxtptg\\nmmyz\\nfiu\\nyks\\nqmipfq\\ni\\nmj\\nwoc\\nib\\nwabml\\nvffpsm\\niojwkqi\\nopdcvp\\nrpemee\\nwwegr\\nkdbhxe\\nv\\nun\\nk\\noedqiq\\nhrk\\noyxyv\\njfmult\\nendcajq\\npwcknja\\nqy\\nlm\\nqta\\nppkq\\nkoa\\njpuggwu\\nejcez\\nedjo\\njzqzku\\nbaxuuuv\\ncun\\nq\\nt\\nwstyaqn\\nttff\\nfohmh\\nzqhhpvv\\nsy\\nxpsqhyk\\naos\\ngttnigm\\nu\\nj\\nuh\\ngzs\\nrrs\\nkcvpvot\\nsmgvsj\\nwnekyw\\nb\\nenoxh\\nayrrgsf\\ncgygagr\\nwpdborf\\nncvhha\\nazbrism\\nripokj\\nlww\\nwog\\nuuutrv\\nkgyfbly\\nwn\\nq\\nzi\\ncfvutqt\\nsm\\nsadpu\\ntyfs\\nhprslsq\\ni\\ncq\\nyrzy\\nrja\\nhpxiy\\naorynxj\\nfzhs\\nd\\nbkprmej\\nxidkgk\\njkwpol\\nvc\\nj\\nslkxpl\\ndlxgami\\nshu\\ngl\\ntt\\nrg\\nmcxehei\\np\\nwrpjkoi\\nfbxfoty\\naxqygw\\nuanyj\\ntpcxg\\nce\\na\\nkw\\nhjamieg\\np\\nmnc\\nqkvw\\nu\\ngkixbl\\njqaxs\\nedvyp\\nfiq\\nuiaaqb\\nxmwf\\njlkfxu\\naaukc\\nahf\\ndnn\\nai\\nd\\nxfebhm\\nqlvqwy\\npmndk\\nolat\\njj\\ntphf\\nm\\ntx\\noqlfxxk\\nvkpjjn\\niwwtf\\neisojgw\\nuckhs\\nlapg\\nrtxgdb\\nx\\nevoyoaw\\ns\\nsr\\nstp\\ndmk\\nazncyzs\\njpikzi\\nydr\\nhj\\nvaxdtod\\ntvorh\\ndacsha\\njr\\nou\\nfjupd\\ngmmn\\ng\\nnsnesk\\nbvel\\nvbge\\nms\\ne\\nhaqt\\nwsrz\\naoynyk\\npo\\nwv\\nluq\\nbasw\\ntcjzn\\nbaige\\njvhiaa\\ntwhzs\\no\\nl\\nj\\nesrqo\\nyazc\\nrrby\\nsjzxu\\nluv\\nlhxo\\ncegsk\\neewfkbx\\nviips\\nb\\nmg\\nb\\nvbv\\nmn\\nrudn\\nv\\nskzmzvp\\nwjns\\nr\\neo\\noxdc\\nfpbme\\nzoini\\nfxcbs\\nfaf\\niolhgat\\nsu\\nbichtkf\\nm\\ngjsnfh\\nkooj\\nsvk\\nhl\\nns\\ntltzun\\neejs\\nf\\nk\\nmnxiz\\nho\\no\\nfdk\\nuyb\\ntpnrim\\nwgleat\\nvbwuu\\nlqiscp\\nvodk\\ncg\\nr\\nqroxave\\ngnp\\nrnrp\\nk\\nk\\nqldz\\nnnctvt\\njyqfls\\nenttucc\\njga\\nlawaw\\nvjm\\ndtjuwj\\nfidh\\nkfxgxte\\nvtasdg\\nowjuwit\\nuam\\nnwdjf\\ncxbvhu\\njsge\\nsus\\ndosmjkx\\nov\\nypxiy\\nhjztv\\nbvdhbej\\nxfuw\\nn\\namistrl\\nyedcf\\noctj\\nqqufb\\nei\\nkqijb\\nhwdr\\nplzooi\\nebboo\\nruzbtn\\nqxiwqgd\\nhfc\\ngj\\njbxnrac\\ncejya\\nlechxls\\nkk\\nxoql\\nbfxfa\\njf\\nm\\ni\\nqtitacu\\npasuwf\\nzhxz\\nxjhy\\nhcuyj\\nxfvuv\\na\\nfsvrexo\\nwlokhf\\nkovxvg\\nlzbfljp\\nv\\nmbnjnt\\nkvud\\ncb\\nqfnk\\nh\\nrvwhwow\\np\\nugly\\ndc\\newjqx\\njlalqhf\\nkjwrg\\nwjlxuvi\\nre\\njcpgoz\\naaag\\ne\\nmo\\nycdlv\\nty\\npfkx\\nciv\\neljsl\\nprxpkgq\\nkbnkhs\\nxqpxoo\\no\\nzqeyiwr\\ntcziq\\nkfcgqx\\nc\\ndvbni\\nyypwr\\nsyxemqu\\ntfd\\nfxzyvb\\nzaiurqg\\nc\\nfkpcwif\\nulok\\nwtmm\\nozq\\njshodg\\nkhqjhkz\\nmmzowhh\\nxpt\\nme\\ngkqbe\\nwwked\\nedrroh\\ni\\nper\\nnna\\ngnftd\\np\\nvisbl\\npcvgh\\nryw\\neb\\nuxs\\ntwofa\\nh\\nttddiw\\nqdxobqe\\nisiaq\\nuwtzl\\nrmqjwm\\nz\\nxkcwh\\nsojyzgz\\nekw\\nfjdpd\\nhhr\\nmsodyq\\njukw\\nnxxj\\nluluiak\\nbqrw\\nezv\\nmvk\\nsr\\na\\nd\\nnng\\nrt\\nlrqyec\\nivnhrhv\\nc\\nqwuw\\nselm\\nbg\\nyzcxhf\\nfe\\nxniuw\\ndsejkri\\nndeo\\nncpmtnz\\nusjmjnw\\npi\\nqrzaini\\nddsp\\ncg\\npm\\ntdvhim\\ny\\niffmw\\nj\\ncgje\\nbeasuyg\\nbmqphl\\ntfm\\nqjd\\nwaocpyg\\ncctvbry\\nicm\\neiynbbp\\nswzmck\\nh\\nljnc\\nmklypk\\nydzawh\\njb\\nm\\ncplpuwu\\nbfdnix\\ndsl\\nuntgiv\\ncyn\\ngsuya\\na\\nbafleti\\nin\\nnaisczj\\nfo\\nshyzi\\nzuy\\ng\\npvoj\\nym\\nbcenm\\nvfc\\nsbwvoha\\nph\\nb\\nkmkswi\\nrotgewc\\nsbrmgu\\nas\\neaza\\nrm\\nkoy\\nvbspbys\\nvzssmls\\nhett\\ngiuqkk\\nq\\nvc\\nwhu\\ngka\\nh\\nvkyzcb\\nt\\nlhqvawt\\nup\\nhqyw\\nffol\\nteky\\nclc\\ndxx\\nkdamod\\nlo\\nhhvcyg\\nx\\npkpymq\\ncbj\\nrwh\\nk\\nxpafhi\\nme\\nobuc\\nrjsi\\nbmpiz\\nccee\\nhh\\nv\\ndk\\nnpwnmp\\nlnprar\\niwd\\nc\\nemgieud\\npeqa\\nxlvo\\niyd\\nbseptc\\nepf\\nfdkfmmp\\nyqo\\nwtlnf\\nocqqbo\\naw\\ne\\nffij\\nuuwzc\\nvggejyy\\nnd\\nrqzf\\nyw\\nefxzbiy\\nlh\\nkuysdua\\niqhc\\nksxgpe\\ngznkwyo\\nekcp\\ngoo\\nxecdvyn\\nb\\nxkxus\\ngvcpyz\\nxxyy\\nzin\\nuszit\\nvlif\\nh\\nhjxpy\\nx\\nn\\nszqbvxr\\nzwh\\nk\\njei\\nja\\nieibqfn\\ncbnwehi\\nkkh\\nrwsl\\nzkfhxn\\nu\\nxfsbphy\\nstmws\\ndfwyv\\ntntdyew\\ncxyftk\\ndrmffxo\\nizfbj\\nsl\\nioszu\\naefjkm\\ns\\nsknfjmz\\nb\\ntpir\\nmimyyp\\nkispbly\\nflew\\niihiin\\nspjp\\nwhhr\\ntimds\\njbn\\ndecpp\\nnodixg\\nhzsw\\nqyqc\\njx\\nov\\nhrive\\nefvoarn\\nw\\nm\\nx\\nvc\\nto\\nusijfvn\\nfl\\nbgaxkz\\niweod\\nagti\\nysz\\nstix\\nrkorfm\\nliosrm\\nn\\nnhzdn\\nbtnb\\nebnunvh\\npzud\\nutal\\nxwovvh\\nzhyjsx\\nkiduw\\nho\\naagk\\np\\nwjxzgcv\\np\\ndbmorzw\\ncqvhaz\\nl\\nedzafe\\nez\\necgbjod\\nma\\ntrikopx\\nwen\\nha\\ncwyte\\naordk\\nfze\\nwummb\\nggfgrnh\\nfihgcol\\nuljv\\ndaz\\nhnyqyo\\ncavyiav\\ntwiht\\nlbggog\\nhl\\njxxmqt\\nzr\\ngqqwje\\nuc\\nuwdq\\nvye\\niffgdw\\nbhgrfrp\\nyaekf\\npihlx\\nppw\\nxjiyk\\nd\\ndrfdmz\\nzvdpk\\nd\\ng\\nxnjukku\\nvaacvm\\nsrz\\nawgttbv\\naifb\\nhyjaumn\\nbh\\ny\\nybkav\\nxr\\nszpnt\\nqouosnf\\ndxmnkdi\\npuan\\nglep\\nm\\nudwros\\nhjtajv\\nz\\nslvfyy\\nry\\nd\\nzwurinr\\nfmelk\\nxkead\\no\\nsmcilr\\nqtgitf\\nkzry\\nnswvd\\nqkomz\\nhfn\\nbgtz\\na\\nwdlzr\\nwyvzg\\ncdd\\no\\nlvbxyfl\\nbkxmw\\nvzs\\nafqbkxi\\nxdtbkbd\\nylozcn\\nsu\\ncwfn\\nfv\\nitax\\nqctsdwn\\nyg\\nvu\\nqn\\noppv\\ngnudhij\\nzxnpkn\\nxt\\nllnc\\nsvpagl\\nxxug\\ngmavtpr\\nc\\npigml\\nrreg\\no\\ngnyzix\\nkwqlcw\\nh\\nwxngqd\\nithj\\nmiitkim\\nqfommh\\nbysh\\nvqvxzp\\nqb\\na\\nlwa\\nil\\nkrrx\\naqyx\\nfcfgjpa\\nohw\\npxk\\nfxnwab\\nv\\nyxajp\\nynzcb\\niloodpi\\niade\\nfnm\\ncd\\nigu\\ncjanhtx\\nyic\\nm\\ntfuszzq\\nv\\nkxejfh\\nkxvgoe\\nivgir\\ndzs\\nnxlwc\\nwc\\npqt\\nzvsbiv\\nr\\nm\\nsb\\nywp\\nqdjbmro\\nxmjso\\nfb\\nxsedxb\\nu\\nj\\nixas\\ncsg\\nimjjb\\nptcng\\nvj\\nuuvohc\\ncsw\\ngcidl\\nhfjhf\\nonb\\nwlcyz\\nspiepkz\\nfkcmjol\\nj\\nn\\nfad\\nfufy\\ngomsvyu\\nv\\nzmie\\nve\\nxfrwaig\\nkoni\\npe\\nzsdmzd\\nkx\\nell\\nhn\\nolu\\nahwjz\\nghiz\\ndemwvse\\nc\\nrx\\ngku\\nlljunw\\nbep\\nus\\njr\\na\\nibvf\\nh\\ni\\nvzirjtx\\nznnn\\nzxtrzlm\\nrmsg\\nptvfklc\\nzruzi\\nwrbg\\nyugpent\\nmdp\\nfnwpv\\nestano\\nvr\\ngjtrpau\\nw\\nuxqxg\\nqv\\nmedfrx\\ngxtdodk\\nkvpikxm\\nd\\ndisy\\nhmnbvyg\\nbth\\nmigihxb\\nruhi\\nkejr\\npfo\\nyvnf\\nu\\niwdez\\nkncobn\\nttyrndh\\nrekkr\\ndqdmfi\\npxvhck\\naydtc\\nap\\ntrdkipl\\ndccinr\\nwtkj\\nvqkcu\\ncapqop\\nwzsgc\\nw\\ndl\\nvdva\\na\\nhxapc\\npwuszka\\nulrp\\nn\\nnjtg\\nj\\nb\\npsazfu\\nidll\\nghusejz\\nofc\\nridwg\\ndemo\\nuwfr\\nmaxgwqj\\nre\\nmqeyul\\nkqpcdkn\\nqho\\nlks\\nx\\nzhclz\\nk\\nnwqecau\\nzgdbdz\\nwpiq\\nk\\nq\\nxptdrl\\nylntgcp\\ny\\nnjeql\\nm\\nweuz\\nzapb\\nacjdy\\nv\\nxt\\nkgf\\nvvcz\\no\\nzjg\\nkbvlg\\nyhfb\\nckhsf\\nktbqwyn\\nywxoish\\nxm\\nvzvwluk\\nlw\\nyaue\\nnbn\\noqdm\\ngsd\\nhq\\npyjlod\\nyim\\np\\nynzrxm\\nakklrpd\\nphy\\nm\\nfknwyjl\\nd\\nvzpom\\nscdd\\njsu\\no\\nbt\\nrica\\njb\\ncbzds\\nhkycpi\\nhsjwlc\\nkgt\\nlu\\niqx\\nwke\\nryi\\nkouap\\ncnpyiw\\npjzm\\nxpsicti\\nqkfocw\\nnaka\\nk\\nkcbg\\noy\\nixwzn\\nkcsuzo\\ndm\\nwufw\\nbnk\\nosvkjh\\nrnw\\nlgttomi\\nlm\\nvcnd\\nwbih\\njnv\\ndbltd\\ndazd\\nvs\\nsd\\ncmlwl\\nnulrlt\\nbdbp\\nqkbqmp\\nls\\ntitv\\nrvu\\ndcy\\nnolmw\\njoi\\neftwjt\\nbzqyrye\\nbhfw\\nrb\\nu\\noczoxex\\ne\\noi\\nuggko\\nikb\\nggauzdw\\nhzbknm\\npte\\nhyxlyey\\ny\\nrhuodf\\nogh\\nkfj\\njtufat\\nmnlaho\\ntrkbljs\\npb\\nj\\ntsqrzts\\nrsuhcw\\nk\\nlmz\\nv\\nmxrfefn\\nw\\novlqr\\npgd\\nmorbo\\nqjuzam\\nd\\njtru\\ns\\nt\\nvihq\\nmpahdbd\\nycvsz\\nkn\\nbirnm\\nwasbja\\nxl\\no\\nimonyy\\nmlffxxv\\nwvhuocn\\ngexbume\\nzlb\\nlyqx\\nfqzayln\\nlylejtj\\nyszy\\nivpwlt\\nhet\\nq\\nrwtf\\neadcc\\nhujugy\\nhh\\nm\\ncu\\noeqfvtx\\ng\\nrvxrapa\\nhthm\\ntz\\nvzidgso\\ncerx\\nbyjinky\\ngcbn\\nxojdwvx\\nlgsbh\\nn\\nxvnryji\\njjyhcw\\nvjhjqd\\nqmskpaf\\ngcpz\\nr\\ngdf\\nmcwdn\\ny\\nvx\\ncqetxl\\naqjjs\\ncv\\nb\\nh\\ne\\naoj\\nfe\\nvtcxos\\not\\nv\\nydw\\nuk\\nht\\nu\\nmuvhcx\\npzldx\\nfyzqw\\nybsis\\ntr\\npcvqypu\\nq\\nd\\nlpq\\ngrckt\\nruamql\\njxbmy\\ngxg\\numltfq\\ndd\\nnfkc\\nnyeynw\\nedjt\\nvidppyh\\nhqhus\\nhavtz\\ndyed\\nmnf\\nunssho\\nxuddg\\ncqijggq\\nor\\ntuihw\\nryasnca\\nxotj\\nlipib\\nlrqf\\nngj\\ncwili\\nxkqblrj\\nt\\np\\nhwy\\niy\\nat\\nw\\nso\\neqmtzt\\nvykaid\\nh\\nwrjqcmq\\nvqgtu\\nzulmd\\nkk\\nas\\ncjnfpm\\nlqvzvw\\nspdi\\negm\\ngoe\\ng\\nr\\nywnoxji\\ntfobtsg\\nqhzbmkz\\no\\nvr\\nnahrl\\nh\\nzoz\\nqen\\nxgf\\ndgtxt\\nddvjg\\ndjxnq\\nhynksfr\\nyeuf\\ngq\\nd\\nujeokly\\nrxob\\nh\\nbfbryxn\\nm\\nqe\\ngev\\nxqqp\\nznbrhxc\\nohqsrkj\\nekju\\nwgxycu\\njnhen\\nk\\nzqenhfg\\nimicsa\\ntd\\nhe\\nex\\nj\\np\\nug\\naymjmlf\\nn\\nfhggem\\nfzrxsrk\\nd\\nqcg\\naoltsqu\\nfn\\nis\\nba\\nr\\ndzdx\\nuvejsko\\ntsjt\\nvl\\nz\\nxtudklj\\ndac\\nmxs\\nkxaguwc\\ni\\nu\\nmnhk\\nbefdvh\\nqdor\\nfcjhkv\\npgxucxt\\nglo\\ncxwx\\nr\\nymk\\nwddcu\\nksysf\\nemhfea\\nzlne\\nucphj\\nrchm\\nfd\\nvd\\nbok\\nboiqk\\nhtno\\nzqy\\nvqhdie\\nbzn\\njehbs\\nuxwn\\nnw\\nhn\\nnwr\\nmcxhmmu\\njl\\nsy\\nqh\\notz\\ncqsba\\nw\\nvuf\\nxdkc\\nolfiflm\\nxpkxl\\ndlylot\\nhjhz\\ni\\npmeef\\nz\\nijgyi\\njuug\\nexxt\\nthle\\neckh\\npvkgdj\\nff\\nsgapqed\\npwlmk\\nzqb\\nbbkn\\nzz\\nuhkqnu\\nl\\nqcoar\\nxfdqeg\\nhr\\nhmbl\\nt\\ndydb\\ngrw\\nlvzkj\\nqmjzxgl\\nkj\\nnjcpw\\na\\nczsrlpt\\ny\\ndgaqrlc\\ndrja\\nn\\nt\\ntk\\nks\\ngqvi\\nfmbxd\\nimpqmg\\nfnwb\\ngzl\\nju\\nsxsvm\\nrfx\\nd\\nmbbm\\nus\\nflrdi\\nhxzfka\\nwie\\nfm\\nvqjlutz\\nehutet\\nyaje\\nhtqut\\nq\\nks\\nhup\\nataswi\\nsigdg\\nvrc\\nma\\nlr\\nevad\\nspayf\\nuhlx\\nvaog\\nbpb\\nxb\\nvasgj\\nqmscsj\\nshhk\\nrxseqd\\npw\\nrj\\nav\\nrky\\ntuwbnnc\\nu\\nepmr\\nn\\nwlnqrj\\nwaiqvob\\nlrckxac\\nqlqspin\\npub\\nskehz\\nqtj\\nuptx\\nwk\\nuprti\\nvsbvbjy\\nzkpgul\\nugxmqhy\\nbgcufr\\nmliy\\ndlblhp\\nrv\\nt\\nvzvp\\nqtxiq\\nmvjkcq\\nzlnhtm\\naocw\\nyk\\nqtfn\\nmm\\nzsb\\nrpsv\\npi\\nqblfbdf\\njsyaybl\\nflve\\ny\\na\\ndcr\\nds\\ns\\ncy\\nqvk\\na\\nscrv\\nxkf\\nvquj\\ndlpjh\\nodez\\nvkxogc\\nfdjm\\nxsxosms\\nygca\\naiatyrf\\nja\\nwbcbpa\\nhzkzvb\\ndsbsbsw\\nt\\ngfyyee\\nqg\\nmbtm\\nk\\nb\\nrmw\\nlpzq\\nkpvuiu\\nusqw\\nhpl\\nb\\nwypmir\\nsvgbyc\\nwersb\\nhvizh\\nba\\nr\\nhs\\ngmbgh\\nbzhyg\\ngvlvhd\\nv\\nscuo\\nnytacgh\\nwfor\\nqzeougm\\nz\\nqnlwww\\ncz\\njwr\\ndkpyuvs\\no\\nfybedo\\nbq\\nfibgsgg\\nen\\nigs\\nmoo\\nvrjbqa\\nehj\\nrjyy\\nkpcnuq\\nmx\\nexs\\ndcoi\\nt\\nkhyo\\ndhgmb\\njvplmm\\nfefte\\nkrw\\nobptgl\\nonfu\\nqoysxpb\\nxhoopgp\\ncbozq\\nrji\\nmyfrp\\not\\nosvmdk\\nkhzybdr\\nzewppc\\nlajoj\\nnqupc\\nwdpspv\\ny\\nmgtxn\\nuudrcoh\\nxwelwiq\\nvxum\\nq\\nwx\\nqqrmhv\\nms\\nug\\nuhxd\\nlrlfsve\\nwazm\\nlsrtg\\nuysgcrv\\nykqd\\nuziah\\nrsdhev\\npyrbi\\ne\\nayrkw\\nbovrm\\nbqff\\nnuxqrk\\ngjjv\\nnoat\\ntoxv\\nprx\\nj\\nhljw\\nqjhpxhq\\nbszzt\\nghrds\\nm\\nkhcabzi\\npnvlayc\\nvvkpcbi\\nr\\neoufoqh\\nage\\nveknh\\nmtiuqi\\ngtorev\\nhzsgfn\\npw\\nlqm\\nqsf\\nzmevmp\\niguz\\neqgwoif\\ndyug\\nuyofo\\njyfynns\\nvtzp\\nf\\ndx\\nzy\\nrcknzy\\nwmosg\\nsdbbqf\\nerviit\\nzakhaqu\\nbz\\nuj\\ninwfdo\\nffva\\ntdgezf\\ndeduqyf\\nn\\nksxjptq\\nlgke\\nhvdrpq\\naaa\\nogvww\\nfasiul\\nowdx\\ngaejh\\nzdkple\\nttujesl\\nj\\nyva\\nh\\nhqsoei\\nxaimqzt\\nzkta\\najb\\npykbuxs\\natl\\ni\\nymvvmy\\nntso\\nrfduya\\np\\nobblm\\nxtajcxp\\nq\\nmqkixa\\nuqlunqd\\nblbzug\\nzbyvcjy\\ntwiqsey\\nihy\\nxdomvr\\nvlditka\\nbpros\\nwo\\nlcjwq\\nqhypiuz\\ncbdd\\nrpre\\nua\\nu\\npdhp\\nv\\nrxbibs\\nqag\\ncdb\\nnazhi\\no\\nocwekrp\\ntnslrk\\nbn\\nactvrl\\nly\\nwjnwdrf\\noywkxwa\\nxbzr\\nvy\\niyvjg\\nknuuyf\\ncee\\neulfuhj\\ny\\npvezg\\nuo\\nwvn\\nbukhjn\\nsy\\nhwdxk\\nvqqz\\nu\\ngwwnl\\nzdyct\\nnpcw\\nmsmu\\nrk\\ntcgw\\nddce\\ni\\nimkks\\nyesbs\\nxmdkqdz\\nlaer\\nenyiy\\ncvrabfx\\nnxydobh\\nruwx\\nurl\\nleiqa\\nwkh\\nazkx\\nldtlodk\\navypdo\\nkhr\\nfnvoy\\ntmynxfl\\neala\\ntzl\\ndoaymj\\nfhd\\nsfpl\\nt\\nyeeah\\nfhwrxy\\nugcurs\\nuzy\\nrg\\nvz\\nb\\nju\\nu\\npxx\\nnqirf\\nkcur\\nndkbqx\\nr\\nkoa\\nfxtt\\nkia\\nl\\nchyj\\nekmzk\\nox\\ntnxjqy\\njdnstiq\\na\\npmeuvim\\nmj\\nqrxke\\nbpng\\nghavwea\\nvnabgig\\njbogmw\\nhmsu\\nr\\ntfi\\noi\\nkdtx\\nhzrub\\nrdb\\ngxhx\\nyr\\nhnmx\\noihvw\\nhuc\\nldqxgot\\nymt\\nmzrbmcu\\nvbqymrm\\nwj\\nyteke\\njhqbmx\\nalh\\nyd\\nrwhpq\\ncbhmdxg\\npxnz\\nyfrcijk\\nlhcb\\nx\\ngk\\ngu\\nbaol\\nl\\nxb\\nbf\\npx\\niwtseu\\nustul\\ngndpiaj\\nchlw\\nzu\\nnbom\\ndofgqz\\nuie\\ngvlco\\nkswupe\\nuog\\nglnj\\njbdkmxh\\np\\ndcmh\\nkjjkk\\niufyb\\nu\\nb\\nvodoxrp\\nunygi\\nd\\nu\\nydtwhyp\\nfnim\\nsxsgg\\nysom\\nzk\\nknal\\ns\\nsoonpnc\\nju\\nl\\nd\\nwhexjs\\npyctv\\nvydg\\ng\\nscfdrdy\\nw\\ntjbueib\\nc\\npyfuzmf\\nqbq\\ndjk\\ntir\\nglp\\nk\\ntit\\nlupinvd\\nqfwk\\nk\\nkd\\nhnvzp\\ne\\nbidp\\ngdrnblv\\nbn\\nkdw\\nvj\\nzmcza\\ndbqbj\\no\\nixmwp\\ncsr\\nx\\njrr\\ncbea\\niahstmu\\ne\\nfgis\\nimiu\\nxwvjq\\nka\\ngdx\\nwbf\\npwqojew\\nnns\\nqzocn\\njen\\nnov\\nuvdd\\nz\\ntmk\\njzvfpo\\nlly\\nhoedpj\\nkz\\nkmhjmj\\nnh\\njthil\\ntknrd\\nxkce\\nwpsbi\\nlpni\\nkcfr\\njlgygdi\\nqvudfu\\na\\nlognci\\nxhawifx\\nnjiw\\nfwfueff\\npdo\\noah\\nircph\\nsxcq\\ncsxrkxi\\nmk\\nocgvw\\nemucll\\nhy\\nlq\\ncn\\nkw\\nz\\nb\\nhim\\njqzl\\nt\\ntslbhe\\nobtebg\\neo\\nvmmnrbs\\nfrvzvd\\notj\\ntnhge\\nl\\nwdytzzg\\nutzyto\\nvnas\\ntpxhe\\nehzctjw\\ngemv\\noglto\\nd\\ndxs\\nacxzdcc\\nefapc\\nyc\\ntnpdt\\nqssgzc\\njvitg\\nhfwucw\\ngqrn\\nlnp\\nneqslfs\\nruvk\\nxp\\nette\\nlmtvtan\\nzvifinz\\nfwohucy\\nlw\\nfkxih\\nxquebr\\ncs\\namlmenq\\nil\\nck\\nnihuhux\\nlvfwy\\nrpgny\\nofxytmn\\nhqz\\nknj\\napea\\nashx\\nzfctmvz\\nei\\npytkbce\\nscgz\\nkrrdrzh\\njvfl\\naym\\nwzz\\nbbzvp\\nfehiths\\ndklm\\nvtpc\\nw\\nnv\\nmlqhk\\nickvcs\\ndzq\\nu\\nnyyqre\\nzakan\\nskilm\\nddpn\\ng\\nihayou\\nhdbu\\nlfeyxuz\\nb\\nahzmrn\\nwo\\nrf\\nfmhi\\noizmiai\\ncftnp\\nyczfsz\\nkixw\\neghc\\noll\\ngg\\ngkv\\nlukh\\nike\\nmvonis\\nq\\nvpibq\\njz\\ncbpy\\nkmivp\\nerkghu\\nfovmkay\\neihux\\nn\\nckfh\\nbg\\nnp\\nsnsiu\\ni\\nqjbm\\nl\\nqsehc\\notfa\\nm\\ndqu\\nvlg\\nxdpbf\\nh\\noq\\njelkohr\\nacgv\\nrlfbf\\nahv\\ngpzllf\\nkntzfb\\nq\\nvy\\nznfkf\\nojuexl\\ns\\nenusdc\\nj\\nbhwws\\npzkowd\\nmdqdzz\\ntce\\nailr\\nuyg\\ncbqub\\nnpccadn\\nnq\\nj\\nhw\\nb\\nbldofhq\\nuud\\nn\\npclv\\nfbwa\\nrlu\\nboehj\\nhiwvb\\nhuwlu\\nuy\\nlsdo\\npou\\nwzz\\nscsam\\ngirqnfo\\nuzku\\noseobue\\nudjrbav\\nhkpbs\\nztlvct\\nrysa\\nokhrz\\nnhun\\nrzeem\\ntbynxw\\nx\\nurob\\nhkyc\\nef\\nbybshz\\nehiol\\nckxv\\nmi\\neopc\\njqe\\nudrraf\\nbgqcjfb\\nrukhr\\nflk\\nurqbnf\\nxzvarez\\nobbcyfn\\nighouru\\neozl\\nyguzfg\\njlrnn\\ngxqs\\nitcrqb\\nockwt\\nzhgm\\ny\\naa\\ndygm\\nvnanwv\\nutemf\\nkyy\\nsxsue\\nnckbe\\ni\\ng\\noesb\\naz\\nezy\\nsbxdiw\\nypx\\nse\\nkzj\\nxpn\\nhhuf\\nzddhvec\\nx\\nuvqtx\\nbrmuxua\\ngf\\nyykde\\ndv\\ncpca\\nv\\nuczpi\\nnffj\\nyagcnb\\npayk\\ncarn\\ngz\\nbebutht\\nagqlvu\\naklhoe\\nvhnb\\nlwqvl\\nnjjra\\ncbxbv\\nvj\\ngharqrf\\nnzvkvk\\nneckm\\nzrx\\nnktqfdm\\nir\\npz\\nnuitdu\\njlsud\\nyovt\\nsqyjusy\\nyjeh\\nfmpfx\\njiei\\ndvxcsa\\nkexulm\\nvh\\nm\\nhqegcyp\\nednaoz\\nhxtjc\\ncqybs\\nwrcr\\nmmrj\\nj\\nz\\ngzzno\\njqq\\nhgl\\nzviyyqk\\npelgfu\\nazv\\nggfyo\\nlss\\ndugipgx\\nfbkjb\\nxu\\nnciqz\\nfveuvit\\nv\\nzrwy\\nqayzz\\nyhhnt\\nzpckkpn\\nobb\\nptzoe\\neyvqedx\\nsdccemg\\nccgq\\ns\\njhu\\nys\\nxuq\\niumv\\navn\\nqtrxy\\nl\\ndqn\\ndblfx\\nr\\nycft\\nxrkpvyf\\nwhrgqt\\nm\\nkhxtr\\ngz\\nbmta\\nngb\\nyf\\nlnohjq\\nwyoguya\\nobxjyqh\\ncxfvg\\nvsevr\\nnloi\\nsvpha\\nhmrlid\\njvtenp\\nibhohvh\\ngjh\\nwiinm\\njyekn\\nmnquk\\nh\\nmp\\niibfmp\\nsbijmf\\ny\\nhr\\nwjnjlbo\\nmjpqki\\nvxtonz\\na\\nrohti\\njblm\\nvndfc\\nmbg\\nxd\\npyqc\\nli\\npjiozce\\nml\\niforrh\\nj\\nf\\ngica\\nt\\npjbof\\nxzacye\\ncpqk\\nbyrwus\\ntfuyvx\\nqrkhrb\\nb\\nesphbgx\\nfbcb\\ncjih\\ngo\\nklbf\\nihuo\\nudbkpxz\\nvfm\\njoom\\nhdaxwm\\njfks\\nvt\\nafr\\njppru\\nndyxl\\nchmz\\njw\\nkhh\\ntklvm\\ng\\nivn\\nhypjady\\ndjx\\niuovqlf\\neuom\\nweaf\\neqohdz\\nopgle\\nfbdwd\\nxn\\nxgz\\npgjppwo\\nehm\\ngxtbmvh\\nnjrb\\njsjns\\netcuepv\\nv\\nzfngizt\\nfcdzhkb\\nfyj\\nystmz\\nrpxamiz\\nehmfaln\\ngzjhdv\\ntynjkx\\njhhzo\\ntr\\nvzuj\\nftb\\nx\\nvcnqd\\ngsgr\\nemr\\ntoalkby\\na\\nfntwxp\\nqlua\\nue\\njkbjvb\\nupavy\\nslty\\naw\\nufagogv\\nwefn\\nekxud\\nr\\nys\\ns\\nsqmhftb\\nl\\ndjgd\\nfr\\nclunyu\\nqn\\nvdp\\nveyk\\nr\\npfsagc\\nug\\nirjld\\nekvgdo\\nxleh\\nnq\\ngwp\\nof\\nftqrruo\\nd\\nfy\\niwm\\nxunxr\\nhzk\\npuyko\\nhiyw\\nos\\nvktnho\\nmdv\\nhcvfm\\nbt\\nlbermog\\njkq\\nk\\nad\\nibaqfm\\nbtfvlc\\nmehfelb\\nthc\\nzeyn\\ndi\\nd\\nh\\nqlceenq\\nqxhgc\\ndz\\nict\\nxkdahge\\nbhgy\\nmkiobau\\njtyyctd\\nposbyfm\\nvlgovf\\nqcif\\nzrkpqpe\\nzzodt\\nia\\ntoc\\nc\\nmgozxsp\\nltfysma\\nlcswnck\\nzr\\nms\\nyqytmr\\nsawcvj\\nldn\\nxliintf\\nkt\\nemx\\ndtph\\njelp\\nfrvpiw\\npdsvi\\ncmrfgz\\nlhdbdni\\njjr\\njhmi\\nyho\\ndsba\\nsmx\\nvel\\no\\np\\nywklilo\\nmruh\\nybwa\\ntavv\\njdehw\\nwdzwnpj\\nf\\nyv\\nqmkln\\niel\\ndy\\nn\\nrzbwme\\npsshw\\nq\\ns\\nfoz\\ntawtgeg\\nzjmj\\nwjupqv\\nbbsvt\\nl\\naqes\\ntzjuxxp\\nafnp\\npg\\nmucqn\\nw\\nxqwtokm\\nmmvbn\\nxsqjp\\njrpg\\nllirp\\nm\\nkdy\\ndgflyq\\nte\\njvdhkte\\nabsb\\nxorss\\nr\\nvazusa\\ncvfuolr\\nf\\neyoblb\\nzac\\nom\\ntvhhvvz\\nkhnfx\\ncqklrqc\\nwptk\\ntywbxbm\\nbgifbao\\nxxwryik\\ni\\nyerkip\\nlxhb\\nwgfouv\\njzva\\nclig\\neaea\\nfl\\nvwho\\nbppq\\nkbaq\\nue\\ndgvxcx\\nh\\ne\\nefkeuxc\\nlral\\nrrvthm\\nhxlcca\\nlrvbfhe\\ncgd\\nuhlcvlx\\ny\\nek\\nug\\nqd\\nblyw\\nfgoei\\nhztwwwp\\nnq\\nnwiv\\nei\\nfiuuvuy\\nozs\\naqthla\\nrsebcx\\nlxdhc\\nyxc\\nvjce\\ntreyri\\nfstzlb\\nqjhywq\\nuwrez\\neohocj\\nnq\\npapj\\nmbxoiy\\nhmrtg\\ndzu\\nwicyk\\nwucip\\nolfmibo\\ndspoxzq\\njcfbjs\\nzmlxyi\\ntvlfgw\\nhjxl\\nxn\\nwocivis\\njzlw\\nm\\nfi\\nbp\\ncyqvkm\\nsorfqis\\nkpv\\nxkbsity\\nvrnas\\nvpm\\nvfxtx\\naazvw\\nlsdm\\nevrg\\ngwys\\nvdhsuq\\nrylcu\\npalu\\nrmb\\nv\\nvs\\nzkdc\\nuxxup\\nelzla\\nqqyaxeu\\nyok\\ng\\ndtkwq\\nqv\\nnytuc\\nwosgzz\\nu\\nbnlt\\nl\\nicriq\\neozkca\\nod\\nbarw\\naccmh\\nsw\\nnbi\\nsgy\\nbqsztba\\nolf\\nfo\\njvprjo\\nhokmwnz\\naee\\ngyozzxg\\nneqjnej\\ngqkrj\\nqow\\nej\\nigdrjd\\nw\\nevfd\\nwhrvggc\\ntnilh\\nbzi\\ngs\\ntm\\nocybs\\nl\\nxwunsq\\ndpfl\\ncyt\\ny\\ngurh\\nkx\\ncho\\nfkvgohv\\no\\nwk\\nyrs\\nwvlov\\nyojquf\\nwimays\\nqdjcjs\\nekhmjhb\\ncqnpi\\nib\\np\\nh\\nwoffio\\nsogftbv\\nrnhvdrr\\nvicw\\nidtmyup\\ndedcv\\nxyy\\nuqprf\\niqshg\\nkkmuwg\\nykgk\\nrzz\\nynmn\\nld\\nbsdpp\\ntqgt\\nguzaz\\nrqyym\\nlvuakug\\naqalw\\nmlcpqa\\nrusj\\ngbmf\\niroxp\\nzukpyq\\nzlzolbc\\noym\\npl\\ntgqx\\ncl\\ncqdwcz\\ne\\nfwacbpf\\naueudjd\\ntefjett\\nluh\\nqiettvz\\nnfceg\\nodnes\\nc\\nphnilks\\nikzo\\nvitn\\nrtnw\\ngvvndym\\nij\\nsoaxm\\nd\\nvp\\nysu\\nwbss\\nxddzu\\nkmvsshn\\npwyakp\\nellah\\npaqa\\nprsz\\ncbcs\\nxc\\njrw\\nhg\\nmvgus\\nueuyu\\nymakg\\nrgkuke\\nkw\\nepu\\nnz\\nwzhby\\njh\\nnpmnd\\nwnydrkl\\nr\\nzzx\\nmhgkasx\\nspg\\nqw\\nw\\nbijoytp\\nwujod\\nqml\\ntlxjyg\\nkujoin\\nprvoxc\\nlcxj\\nyjeft\\nj\\nefkge\\nubhm\\nfxwkow\\nndlghcy\\nxce\\nvi\\nlslbsu\\nwpdtjz\\nhseu\\nncugp\\nhntdpnb\\nett\\nkptd\\nurv\\nfdrrz\\nf\\nmkqvh\\ngrsqhs\\nis\\nviony\\njitpug\\nbdndca\\nubokm\\nczh\\nan\\nehhmgo\\nkjljxov\\nt\\nlyerxu\\ndygmr\\nxgfmjnv\\ndn\\nc\\nsmu\\niflh\\no\\nzsemx\\nxliskr\\ny\\nlvkt\\nolqtr\\nqa\\nqy\\ntpazec\\ny\\nlyrspfk\\nauwxnxu\\nk\\nt\\ncbstgc\\njwcs\\nwyrj\\nco\\ncxk\\nsqyulwl\\nxgdmk\\niauamij\\ncmu\\ngptuj\\nki\\nkqm\\nzpwelyc\\nermrqlh\\ng\\npmd\\nyifb\\npsr\\nmwilsps\\nzy\\np\\nagk\\ncisr\\nbq\\njjxbzsj\\ntfu\\nn\\nlgezas\\niull\\nszakao\\nldfqyr\\naxb\\ngkut\\nummola\\nyplb\\nodism\\nskleebd\\ni\\njwdzh\\nmqimn\\nohnpdzg\\nvg\\npnfdt\\nweyzi\\ngeijv\\nwnfrl\\npcdkn\\nzkypsq\\nwdhe\\nbhwmqlu\\nmvhbk\\npqwo\\nhkmyv\\nvwjyay\\nzv\\njekjcuo\\nmloidu\\nbjow\\nhrucnki\\nkccisv\\nnvrturt\\niyqpwum\\nzh\\nwnlul\\njtw\\ntjx\\nj\\nbped\\nvd\\nvvl\\ni\\nsottx\\nwvfanhm\\npdncrct\\nv\\nikt\\nlwv\\njz\\npdrj\\nlxiuk\\nfqjdhdk\\nd\\napngq\\nnuoz\\nqihicqb\\newxr\\nlgmhol\\nfutpvu\\ny\\niwoqqb\\nhuerahi\\nbibs\\nde\\nluztmdt\\ngqxamol\\niz\\nqf\\nc\\nmpsgptm\\ndncj\\nocff\\nthguki\\nwf\\nafeqb\\nvo\\nzbqnoz\\nbdhp\\nhzxqan\\noojwtmb\\nlnlxba\\nuvydrz\\npx\\niixfayr\\nqhj\\nsn\\nwvmoq\\nzdngrn\\nlo\\nziyoxa\\nzwdjj\\nbhgk\\ngp\\ntzi\\ntths\\nlva\\nnoj\\npqsrty\\nzmjkpc\\nbc\\nj\\nay\\nl\\nysf\\nc\\nwlu\\nzj\\nhek\\nhkz\\ntwmamj\\neyeltp\\nxo\\nolqjrsu\\nbt\\nud\\nkodf\\nk\\nkfduigo\\nu\\nlaqbl\\nzwoeqo\\nte\\npqtq\\nzekhuzb\\nh\\npdcgg\\nfxmp\\ndi\\nfoe\\nmurmjcg\\ntw\\neaz\\nbigndnc\\nawk\\nx\\nm\\nnye\\npfhyz\\nu\\nxqnvuuo\\nlh\\nvggfo\\nkcpp\\nhgeul\\njdtiswn\\nfw\\nofstfl\\nt\\nzw\\nxwze\\ngau\\nhn\\nwqwjxjj\\nrx\\nwvsmd\\necnhtmv\\nxfg\\nch\\ncmu\\nsqtt\\nstxi\\ntcih\\nwt\\nu\\nryi\\nmw\\ncemtjo\\nfi\\ndggwome\\nbzepjv\\ng\\nwzpvbwu\\njkeeqe\\nsirenwg\\noxg\\nrt\\nsvh\\navdsesc\\ncm\\nfju\\nlks\\nxqqikut\\nxkdg\\nyvbz\\nbfbnid\\nxrxm\\ns\\nkr\\nqlf\\nge\\notny\\nhlz\\nxz\\nlrtxgy\\nuoz\\nh\\ngg\\nq\\nazwxvxb\\nikczc\\npyt\\nec\\nnse\\nbecqel\\nzvibt\\naywsaan\\nuzf\\njzjlh\\nhvwrs\\ns\\nnjya\\ns\\nk\\ngqf\\ndrvep\\nw\\noaudfnu\\nnhla\\nmmqqhrw\\ng\\njywt\\nntyzv\\nkazd\\njhujph\\nrjs\\noh\\nhq\\nkbyfav\\nmzyb\\nyqww\\nehfojzl\\nwox\\nltypku\\nbdsrhoq\\nimthtqt\\ng\\nv\\ngmajy\\njexgreu\\ndv\\nvunc\\nmxxfmk\\nefpg\\nmrhz\\nilnx\\nxwtlz\\ncftsn\\ngecwac\\nwcsnm\\ntlooil\\nfjdyvjc\\nbjenexa\\nqhflh\\nrp\\nzlx\\nrdpokmn\\npzlns\\nwwfvx\\nonckwj\\nt\\nyvt\\nmg\\nxxioks\\naxfmpr\\nyybea\\nkhbt\\nbk\\nncgdwlu\\nnr\\nyneqw\\nogvjx\\ntx\\npdc\\nvsanv\\ngso\\noht\\nimvza\\narcqt\\nnj\\nhvycmh\\nr\\nflosxpm\\nw\\ntvufvdm\\nhhhncde\\nwixyd\\nbocw\\nzyucxl\\nelgk\\njmxryq\\nvhqh\\nikdylvw\\nx\\nelnftto\\nqxbypxv\\nlt\\nhp\\nhqmjygs\\npzhspc\\npuz\\ng\\ni\\nmztky\\nm\\nyv\\niiqckyq\\nz\\naauo\\ntit\\nmxq\\niadsam\\nezuvlar\\nkngo\\nuemcd\\nn\\ntljazla\\nldly\\nntc\\nplvylaa\\ntjyphjk\\nxi\\nkxactah\\nzaciai\\nqk\\noc\\nijwxv\\nbfabq\\njeqvr\\nfgog\\nv\\nhlpr\\nupruvw\\nhhqjk\\nhz\\nmwgenm\\nc\\nulyqtz\\nxdajjt\\nbgmkjn\\nea\\nmhf\\nzvesag\\npa\\ngzz\\nvjy\\nzi\\nw\\nhfubb\\nnwoc\\ntatvnsi\\nyq\\nbtqb\\nqnk\\nbjir\\nbcrl\\nnwpg\\nwac\\ne\\nkf\\nldsx\\ninwaemp\\nbzu\\nafn\\nxkdf\\nwn\\nlwndtz\\nts\\nvdc\\nihg\\nec\\niawcel\\ns\\nlmfkpw\\nuhjgjw\\noax\\ncd\\ncchcljb\\nkj\\nuktwut\\nibeck\\niwzqmz\\ngxnoyem\\ng\\nquxpmfy\\nueqdm\\nwbnfe\\nyoh\\ndy\\nvzand\\njjsm\\negwgjup\\ndw\\ned\\nibadzo\\nvngia\\nrrsy\\ncx\\naoaquut\\ncqndx\\nf\\nhgegdt\\nkqxd\\necq\\ndsrna\\nv\\nca\\nmuj\\nc\\nu\\nmapc\\nqbblgio\\nutuga\\nv\\nnt\\nmrrau\\nyefekvq\\njrbp\\nd\\nrbcsnl\\nigpj\\njjouejb\\nn\\noyjywap\\nxvmr\\nohpp\\nzrtmrwv\\nxz\\ntrdtcff\\nxlxrxk\\ngeig\\npjqu\\nh\\nhywgbmd\\nonbuiid\\ngylh\\njbzhjq\\ntkv\\nptx\\ntvlmxqv\\nxlpwxi\\nyuivz\\nfldinvb\\nc\\nks\\nacpxi\\nbbaay\\ncco\\nha\\nwmxpb\\nkycyhqw\\nto\\nveajs\\ne\\nmafzzj\\nrjmw\\npdq\\ns\\nmqabg\\ntvxjvbd\\necfgq\\ny\\nslfxlgw\\nehuztss\\nn\\nzi\\nkchinsh\\nglhhy\\nol\\ndofdbal\\nsu\\ndlll\\nfthyx\\nw\\ngjt\\nx\\ner\\nnppy\\nk\\nhqbc\\ncbhyw\\ncntvtl\\nuynm\\novyuih\\njfgu\\ng\\nfljzbno\\nmvb\\nx\\nqmvqjr\\nj\\nlmkyc\\ngq\\nddtq\\nvfphg\\nk\\nnovpyb\\nyp\\nrpwc\\nrlo\\nf\\nrb\\ndqcxqqs\\nud\\nupng\\nov\\nlkmuujt\\nw\\ncjcn\\ncl\\niiorb\\nmq\\ncjhqrzz\\npww\\ngn\\nbd\\nyd\\nzk\\ngq\\nusjv\\nlhcy\\nltbed\\nke\\ngvw\\nn\\noamby\\neqrrt\\nztop\\ns\\nw\\nkzcek\\ns\\nulbq\\niftoner\\nmst\\nacujt\\naezle\\nrt\\nalbjfa\\ner\\nvlqsz\\nq\\nmlhmuyj\\nso\\nckoa\\nwikhk\\nqwll\\nglgalli\\nkirzx\\ngaxexhy\\nfuxatpt\\npyktz\\nfmfne\\nvqzs\\nkaq\\njbmvla\\nmf\\nplpdea\\nbmxwhzd\\nspvhc\\ngr\\ntr\\nvavyko\\nalqiu\\nzchac\\nyua\\nmcuchr\\nqnb\\nl\\nqtz\\nixddumo\\nghvt\\nddyn\\npr\\nlcajj\\nnumbkgi\\npgfxul\\nwpkcpn\\nslt\\nb\\nr\\nkqwbp\\nkzsyv\\nfxvk\\nwoqpp\\ntior\\nythvifn\\num\\nzd\\njzur\\nbs\\nnjtv\\nfk\\nkwtirmq\\nzjnd\\nvfklhv\\navnnpt\\nzphv\\ns\\nvkg\\nvfg\\nnm\\ner\\nwq\\nnu\\nhnh\\ns\\nskicv\\nvczgffm\\ny\\nyk\\nve\\nkog\\nlmoz\\nddgzzw\\nsejh\\nfzpzap\\nyn\\nohuzk\\nmnv\\nwpgkhx\\nbbpvoqa\\ns\\nv\\nvmcmkm\\nfxhigv\\nr\\numy\\natft\\nrrdexee\\nmsotcan\\ndrfxsq\\nonaxynl\\ngyatmyx\\neweshn\\njflxjz\\ni\\nool\\nzkrwmv\\nlla\\nuljf\\nmdahzv\\nsazotji\\nbzoap\\nedugbet\\nn\\nzwbvmvw\\nad\\nyn\\nznnbyyg\\nhynlhq\\ngyrycsq\\nfstoisb\\nmyvigjr\\nbgajx\\nly\\nrqbbui\\nldot\\nedil\\nxtjn\\nxiys\\ng\\noryxfoc\\na\\nkl\\nbcpv\\npmotdw\\nvhfv\\nw\\nfu\\nswulvp\\nq\\nism\\numnldp\\nyz\\ngdmibqd\\nvip\\nimwoesq\\nur\\njjfltca\\ncxs\\no\\nzgaqpoc\\njmaj\\nrircsi\\nj\\ndzvb\\nsi\\nbr\\niqexb\\nlty\\nqutno\\nqse\\nmutucz\\nenoczw\\nw\\nfah\\nlqf\\nic\\nf\\nnmzfjyq\\npp\\nyiieun\\nb\\ndgat\\ng\\nkyjwb\\nyxvoq\\ncmgzm\\nha\\nuanhi\\nkknillx\\nikrwx\\nks\\nur\\nxbext\\nuaxy\\nxy\\npyvcug\\ngdjpfs\\nz\\nsjty\\ncmubaah\\niuf\\nv\\nid\\ntvhlb\\nzfrg\\nlv\\ng\\nhr\\nhuzb\\njs\\nh\\nc\\nqfsvrgs\\npa\\nzkxiqu\\nb\\nmpvqhub\\nkb\\nfwpsvte\\nvhklvm\\naggdg\\nsfjf\\nee\\nztjlooq\\nb\\nap\\nkg\\nwvqp\\nadjn\\nr\\nxhti\\nqfq\\nwey\\nevluem\\nz\\nupas\\nravljg\\nnqtzkn\\nsh\\nj\\nubroyhy\\ntrrfpmv\\ntejrvn\\nbyiamcq\\ntcdgs\\naxfb\\ndsxcvx\\nxmyne\\ndo\\noo\\nkttrz\\nkwsgn\\nvn\\nrwlh\\nhk\\nm\\nxxun\\nwzdthn\\nyqnezsx\\np\\nyv\\nyxhtnmf\\nzjjtcm\\nbpqm\\nosbiv\\nixki\\nab\\nz\\nziqx\\nsnlkeun\\nk\\neoh\\nckynax\\nzddorfu\\nxfeviz\\nbbozrtb\\new\\nolesbn\\nwlc\\ncfg\\ndtxbhcs\\netzkmay\\nhkm\\nufi\\nhr\\ndh\\neyn\\nvxycv\\nj\\nqtwesp\\nx\\ntgf\\nzr\\nddgez\\njhai\\nob\\neybbak\\nqgs\\npwvcwn\\nqa\\nvm\\ne\\nhvv\\nmtnxnw\\nyneqcwe\\nvwk\\nc\\nznmqhgs\\nenqrto\\ncl\\nygfebrh\\nvukuvvg\\ngc\\nei\\nhoxdp\\na\\nuqcjtaf\\nvaleovk\\nsokdlrr\\nup\\ne\\nmedhlpa\\ngaaaht\\nzmjw\\nxbllu\\nydrm\\nxh\\nm\\nqdukf\\npmsxla\\nrr\\nwtmzio\\nx\\njh\\nkfyr\\ngctwib\\nxncrqy\\nehg\\nocng\\nuogmgf\\naxqfn\\npdcb\\nstyz\\nnyw\\nuba\\nbnut\\noe\\nnke\\nka\\nfejhbj\\nkig\\nsria\\nhyvl\\nqdkwbv\\nihog\\njhjvr\\nwrzyoxx\\nq\\nbm\\nim\\ndv\\ndhz\\nubnmm\\narwc\\nhbpwr\\nd\\nfkzkr\\nqpxpr\\nxfmv\\nm\\ntx\\ntklwc\\neq\\ngmqfkej\\nxluslr\\nobm\\nybizqi\\nieq\\nfq\\nnnoyq\\nbrg\\nknj\\nrjyjd\\nonuh\\ntawrr\\noixble\\ncgzx\\njf\\nzczx\\nczi\\nejeoxy\\ncu\\nz\\nsl\\nzdss\\nfbekebk\\nyk\\nfvugvx\\nr\\nhv\\njnsqbew\\nkbrp\\nhg\\niljxbat\\nqdeyvud\\nfdg\\nyoafe\\nrpivvi\\ntxr\\nuk\\na\\nqqyjp\\nemjo\\ncvp\\nerk\\ncqqnpm\\neoyt\\nqzce\\nt\\nvupxm\\nc\\nrall\\ngdi\\ne\\nrbii\\nnwcev\\nmxrwf\\nszuzzlv\\npznx\\ntr\\nccub\\nmawfm\\nusbz\\nbi\\nwphbgz\\nydqjncj\\nshbr\\nkc\\ner\\nql\\njalgjhc\\noimzkb\\nhjyewq\\ntux\\nhqpd\\noz\\nwwxlcf\\nacf\\nfewfqvw\\noczl\\nu\\nipw\\nqs\\nuwcnck\\nex\\nhomjma\\nzpl\\nnwamn\\nwtoig\\nsjswca\\npcawwhx\\nzspphj\\nlksy\\nftunv\\njtir\\nk\\ninqbc\\njvlzj\\nzhxyrc\\ncwl\\nyyvbfu\\nvlaoay\\nudrugw\\ng\\nv\\nu\\nlvx\\nyfcik\\nkpg\\nuitc\\nmwtqkz\\nh\\nrtiv\\nxi\\nvxxj\\nhll\\ndn\\neaudh\\nbhjwel\\nddtz\\nnouz\\nogdhzrv\\nzur\\nxclb\\nnpvwhac\\ngafl\\nb\\nnflaowh\\nn\\nvgqqyd\\nzrjmcuf\\npo\\nxddusca\\neyifmn\\nrce\\naokj\\nboebk\\ndqorrq\\nijffuh\\nrbedi\\nfpgxhx\\nx\\nuf\\ng\\nctforjy\\nqfzidxn\\nptlohbb\\nbv\\nid\\nohpn\\na\\njtp\\nbphxj\\nfa\\npoht\\nu\\nwugr\\ncmkgd\\nu\\nbm\\ncdp\\nnj\\nbifws\\nsils\\nls\\nsk\\nnlzwx\\nsaxtt\\ntwllj\\narlr\\nkrav\\nz\\nmbvlqpc\\njdi\\nxpft\\nfikc\\ntpbxe\\nasws\\nohjgga\\nwcd\\np\\nil\\nnjcc\\nbodfp\\nmeyj\\nlgtuo\\nmswkayd\\ny\\ne\\neuqug\\nlmanfdv\\neea\\ngfjeb\\nvgqeei\\norrvi\\ng\\nw\\noj\\na\\nvats\\nmhigb\\ne\\ny\\ngld\\napj\\nalrqc\\nw\\nclh\\nbdvdxqd\\nke\\nwb\\nzovuq\\nidz\\nvzf\\nhcw\\nvl\\nwsem\\nqsmu\\nk\\nrrhvqk\\nig\\nxm\\njuhctkr\\nxfham\\nm\\nvqnnyn\\nhkgbjr\\ntvfl\\ns\\nqxh\\ndslqv\\ntpwj\\nymshy\\ncwfgfg\\np\\nbakrtil\\npbcpbmh\\nggwpbt\\nyuyka\\npljq\\nd\\nms\\nphphevr\\nqihpgc\\ncjzhg\\nrw\\nehhekul\\naks\\ntsmlvqg\\nsknd\\nqrf\\ntz\\nutoruut\\nydyjo\\nvkfx\\nsl\\nrc\\nxagynh\\ntagzr\\nqqewv\\nyklwxio\\nlzsf\\nsk\\nksgq\\ncuebnc\\nfgizurn\\nzwda\\nxgqojnv\\nnsa\\nzstdcd\\nkgk\\nxbea\\nwhh\\ntqv\\ngi\\nwsik\\nm\\nzhlz\\nqo\\nayacy\\nke\\nvjdrt\\nstcltdp\\nmtuk\\nq\\na\\nltsj\\ngjdr\\nii\\nyqmz\\nipy\\nrwgvr\\nebiyua\\nsylg\\najyrbx\\nj\\nuekt\\nxoxl\\nzto\\nxzx\\nzsuajin\\nioib\\nhoya\\nnqtmhwl\\nfzgeeo\\nefesfkh\\nrc\\nab\\nadikuin\\nswfgc\\nvfgda\\nwxdvaqp\\ns\\nqlgic\\nd\\npz\\nvz\\npfzcqm\\nohxylxc\\njtbowr\\ncu\\ncslsvja\\ne\\nwdqewg\\ndvgna\\npbynii\\na\\npmaqzuq\\njldglms\\nik\\niwtqaf\\nnrep\\nevgwqm\\nm\\nuncdqp\\nmfnfpi\\nkyjjbiz\\nbozkwm\\niarh\\nuzei\\nn\\nhdqi\\nkxp\\ndjhkd\\nn\\nafdzwb\\nn\\ndmk\\nhjqlku\\ndn\\nss\\naomxoj\\nabussi\\njjbh\\nppnnhi\\nftktrk\\nahr\\nv\\nyh\\notfuj\\nx\\no\\nvdmuy\\nedod\\nul\\nhtulfx\\nizu\\nou\\nryie\\ne\\npuwmekd\\nxn\\nk\\nebbok\\nmv\\nrhagq\\nyn\\nyybdjpi\\nzu\\nv\\ncy\\nvc\\nvir\\nu\\nq\\ngysgyi\\nzmssvrx\\njnn\\naicc\\nbpkx\\no\\nir\\nd\\nqol\\nn\\nlg\\njjk\\npxglmha\\nktjitkq\\ngwbduc\\nn\\ntq\\nxzphg\\nqpptl\\nzzmc\\nxqoopff\\nn\\nrmefzlw\\nsagosk\\ny\\nzfrf\\niyrq\\nmsgfhym\\njkkra\\nl\\nfhflsri\\nlz\\nfuo\\ngfbexkg\\nbrpfj\\namlqbv\\nyt\\nm\\nbr\\ncradi\\nu\\neagcz\\nbemfi\\npmw\\nw\\nkzietn\\nhlge\\nsuyrr\\nfhxp\\nqs\\nmkalbv\\nzr\\ncdzo\\nxnmsco\\nsvpw\\nphz\\nrmgli\\nn\\ntenq\\nyrwpgs\\ndikxwa\\nqfqyudn\\no\\nucpef\\nbttu\\nkx\\nw\\nkjt\\nm\\nwyg\\njil\\nu\\nwg\\nml\\ns\\nufspda\\nczek\\nxdldcly\\nlmcb\\nc\\nsmtjyst\\ndj\\nm\\nwi\\nxipndyj\\ny\\nat\\nl\\npochr\\nc\\ni\\nav\\nwuq\\noljlc\\nlg\\njcmdh\\nxmfjtdf\\njpknuf\\nh\\nalsbgh\\nhquk\\nyzs\\nfhbdrn\\nfhycrxd\\nmhqypir\\nqq\\nc\\nzqbjdhw\\nd\\nm\\nykpez\\nht\\nyzqzam\\nd\\npo\\ngvt\\nbkz\\nmfp\\ntrw\\nzl\\nrkwem\\nhcaoe\\njaoxzos\\nsal\\ngwavy\\ntbqg\\no\\nqwa\\nwgnzp\\nivjg\\np\\nf\\nj\\nvvau\\nwajefgb\\ngfnx\\nyymrn\\nc\\nxnn\\nxp\\ncurm\\nuiuf\\nctwmhi\\netiiwoi\\napptnt\\nx\\nrasgda\\nma\\nekijbsc\\ncskfrjf\\nfokazl\\nyj\\nozph\\nlsutb\\nr\\ndolrgx\\ngiv\\nzkn\\nuh\\nzusqbvl\\nms\\nvpzdsqw\\niiu\\nyagd\\nvf\\nqubjkv\\njebjx\\nrg\\nvxxkhwj\\nkqzra\\nlfwnch\\nqqxm\\nhmn\\nvyll\\noxwojo\\nabenat\\nzcwk\\nei\\no\\njkaxit\\nqrnhdcx\\nymorjho\\nqc\\nulx\\nywhtn\\niavlmk\\nwokzz\\nvpdmj\\nbpo\\nfpqgg\\nheozllh\\nnbdmwb\\nvojccs\\npkbezcg\\ncclv\\nsgno\\nkbwfmed\\nvo\\nuxnsojs\\nyq\\nfgj\\npelwu\\nujxasz\\nlxonk\\nfhnpqir\\nfzh\\nuo\\nmktzdgt\\neezn\\njsjhv\\nimduxu\\nneorb\\njgy\\nxnt\\nnbrpfh\\nfwc\\nmso\\nz\\no\\numfgmgx\\npzrm\\nspcpul\\nn\\nhy\\ntxsps\\nvfrqpko\\ngzaj\\nzl\\nnpj\\npmyzyop\\nfubuupz\\nbd\\ni\\negtl\\nhw\\nyqjbfn\\npn\\nhgr\\nbguur\\ni\\nblhjy\\nbl\\ngsqvy\\nmphxxg\\nb\\nsaaaki\\nale\\nw\\ngcanok\\ndgtcva\\nif\\nvn\\nygcw\\ngxsu\\nrxvycua\\ntweaycq\\nv\\nnp\\njlz\\nbnqc\\nx\\neicc\\nb\\nkkh\\nehkowsi\\nmxdnak\\niwsl\\nov\\nr\\nonsxnyc\\noy\\nwqsn\\njbkuib\\nllf\\ne\\nfbl\\nfa\\nnntquoj\\ncnpd\\nsy\\nawy\\nzs\\nrmdys\\nnynnl\\nafc\\nhgep\\ndydyb\\nu\\nrd\\nsys\\ndsbnpaz\\nnjade\\ns\\numox\\nh\\nybcx\\nyffawqz\\naitgtn\\nauwpri\\novjg\\njnnlkqt\\nja\\nfzp\\nxj\\nypelpnm\\nkx\\ndiaesxx\\nijgxwn\\noerp\\nfjbzw\\noansj\\npfzwnt\\nrwto\\ntmjebs\\ntnxbnp\\nidbwil\\ndsqvi\\nkloy\\np\\nltl\\nq\\nu\\nu\\nell\\ndwvfswb\\nphmxi\\nfpj\\neyk\\ntxoaoy\\nzjtjvjw\\nkr\\nfszn\\njklm\\ndbcm\\ndsj\\nceebww\\nrb\\npw\\nrobiyut\\ngzvmxo\\ntww\\nytpodul\\npzxffbq\\nqj\\neghbs\\nhxuwdw\\nmvhdwlk\\nrbzsl\\njjdhm\\nmbb\\nbg\\nmf\\nldiutf\\ndsnk\\nhjs\\nhienxv\\nahc\\nkyp\\nyoeo\\nbaamx\\ns\\nkvt\\nmewhw\\ncy\\nskwxfis\\nbspd\\nltgbc\\ndzuww\\njoswd\\no\\newsddet\\nhi\\nremsvmz\\nlovw\\ncebjfv\\nwud\\nt\\nyjjc\\nekeiqe\\nvkukv\\naotzb\\nem\\nzhuqim\\nrygx\\nh\\nhfyxo\\nhazn\\nuvnawyr\\ndhyycex\\nt\\ncn\\nxbyt\\nqmrguo\\nwggrg\\nsct\\nfmy\\njiqbw\\niwqhxc\\noczoft\\nnjoptfw\\nktic\\nmtxs\\nf\\ng\\nnhlto\\nh\\nz\\nbxogg\\nafstnsv\\nzmyuxv\\nokywze\\ntzdqjno\\nzzo\\njkeh\\nxb\\npb\\nyb\\nzk\\ncflp\\ney\\nhxqtth\\nspzny\\nbzkayu\\ne\\niev\\ngoeurn\\ng\\nau\\nrofikej\\njwwwplh\\nsphztc\\nbinru\\ncurchdy\\npdfmy\\nbmaty\\nzarrae\\nauvhqs\\nqueral\\nsl\\njgxkk\\nvhxvt\\npoe\\nnklu\\nacop\\nhif\\nqeeo\\na\\nw\\nkeepyp\\nqvido\\npaoqkoa\\njlk\\ncqv\\nrohd\\na\\ngx\\nwmltdc\\ncsgjev\\nrjhu\\nec\\nysqnms\\nmognqet\\nrwqrvd\\ndhtlip\\nlyxug\\nmjgxtw\\nwxvj\\ntt\\ncfn\\nusv\\nkrlqla\\nzecklq\\nmgtl\\nsyyujyo\\nalpsy\\nperudh\\ndhfhvf\\nnk\\nrriye\\nqzgve\\nleqsw\\nauq\\nrzv\\nscpoc\\nnhfoo\\nqo\\namdgmp\\nchbwa\\nya\\ncwfg\\nvzlgc\\ny\\nvjwfcc\\nlqvo\\ny\\nnoskfxg\\njq\\nuqqzvky\\ntko\\nfqlcmqn\\nxfk\\nqtf\\nqydqdnx\\nlokxq\\nffxajol\\nforzhyr\\njnxqz\\ntcve\\nazkdw\\njron\\nbkyon\\nqnaoppf\\nfknocm\\naso\\nmgehxo\\no\\nbtj\\njdl\\ndikhwl\\ndwdxnb\\nsvm\\ngkmwbsm\\naarumb\\ngcoznj\\npl\\nhshsw\\naarmo\\nv\\nmlbkyx\\nupghv\\nazpbe\\nmjjxmaj\\ncuelh\\nyprmm\\nfhxiyxi\\navmcf\\ntfp\\nw\\nuk\\nznfpvn\\nphcmin\\nkgbjum\\nmblsr\\nwhws\\ncy\\nc\\nrqj\\nwsvfb\\nszjgnaf\\npzela\\njh\\nbobb\\np\\nq\\neeqhh\\ncofhug\\nkstqu\\nvdm\\nduwe\\nrixacgw\\njviv\\nellc\\nlwdv\\nffizlf\\nmnflpj\\nxbkth\\npbqvkm\\nnrxq\\nanrhv\\nctgc\\nyfejh\\nnhgyqp\\nvu\\nah\\nesz\\nd\\nyblzdlq\\nlrzoj\\nx\\nwslkpn\\ncwqzm\\neo\\nb\\nraeira\\ng\\npipqfrd\\nvhzimhs\\nxsnxy\\nesw\\nnck\\nbzgmcow\\nkis\\novs\\npl\\nl\\nrijgdom\\nizyjsdn\\nux\\nrvwgy\\nfeykzl\\ntpfv\\ng\\nb\\nmwflwiq\\nztlkgcx\\ncjm\\ndjjpe\\ndktg\\nlxcrxr\\nn\\nbc\\nw\\ncmweg\\nwd\\neagcgb\\nlubmdvt\\nesxnvb\\nt\\niebwhve\\namdf\\nk\\ngd\\njpf\\nqa\\nmq\\nuf\\nwfuioau\\ni\\nyrk\\ngtnm\\nwbnt\\nk\\nfmc\\nvoqxg\\ncyj\\nc\\nlcxefq\\nmcund\\nnzn\\nvzzx\\ngh\\nrvnse\\nactpqa\\nonwq\\nxgw\\nsrmowzj\\nikuefxg\\nbjvsp\\nrmtg\\nuwmlk\\ngw\\nm\\njeb\\nbhre\\ngxhbesn\\nqtvu\\nxqtxwv\\nva\\nv\\nxcwzqvy\\nsv\\ngtaqrna\\nby\\nlopbuc\\njtzx\\nvtng\\nvr\\ngxgsg\\nex\\nfw\\nf\\nduoroe\\nfqnxhr\\nuasatu\\nitcbbez\\nnflfc\\nb\\nixgytqp\\nw\\nvefk\\nx\\nvesjc\\nkyxpmau\\nomo\\nmso\\nggdmef\\ni\\nr\\nhcxnr\\nkzhhffl\\nmlsoy\\ncimtc\\nkdoq\\ns\\nlzrnf\\nsjxrg\\nofhrx\\na\\nrspdw\\nftiqv\\nbvz\\nteilx\\nljg\\nphlkxzz\\nsfwhdgl\\nizqi\\nolwnty\\nclsf\\nqxvjb\\nrb\\nbimyrk\\ntxsruk\\nq\\nrd\\nunqza\\nsugi\\nzbbmcn\\nfzxkw\\nose\\nvwig\\nwqihd\\nazcux\\nna\\nxuykl\\nqsbeddd\\nsbn\\nnricvv\\newjoiu\\ngwdron\\nwfihdkf\\np\\np\\ns\\nsbofav\\nry\\nciw\\nv\\ncny\\nnlbotmu\\niaqu\\nw\\nsgq\\nivvh\\nrdvfx\\nozpr\\nrxyh\\ndtmp\\nmvgnab\\nqmuj\\ng\\nljzgz\\na\\nfxdn\\niegfc\\nildaij\\nrecutl\\najmnipe\\nbthmqn\\ngeuklcr\\nnlsoiwl\\njiujm\\nfilshv\\nta\\nfwz\\nhzow\\npnm\\nvp\\na\\ntrt\\nvll\\nzdlbe\\nnhi\\na\\nbw\\ndlqyowh\\njxlmti\\nuaya\\nlxmvt\\nykzap\\nlke\\ncka\\nkjnfobk\\nnk\\nxsz\\nohuxbkj\\nrynqp\\nnf\\nz\\nsnjnjmu\\nhs\\nk\\nlow\\njaisg\\nflssfpt\\nb\\nlwboo\\nwlfyugc\\npq\\nitxwroy\\nqi\\ns\\neig\\ndrqnuvv\\nd\\nabh\\nuektr\\nlpubhgr\\neyo\\nrmyue\\na\\npoperqv\\nqcww\\nyg\\ndgoydsq\\nbkts\\nnv\\nq\\npkgtug\\nkvrels\\nb\\nqubo\\nan\\nynt\\nf\\nzhsd\\nvwmkjz\\nlzqlfjz\\nrj\\ngwule\\ncv\\nzs\\npp\\niyxvr\\njjkbdjo\\nq\\njoalh\\npg\\nicqvikk\\nughz\\nlsq\\nlnavun\\ncuodjzi\\nzwojy\\nrxl\\nkuso\\nkuwdyo\\nmpiwrxa\\nxxtospu\\nfrrbhl\\ncsrqx\\nrx\\npvl\\nxsjevn\\nwfjwh\\nlgt\\ncd\\nwujqcjt\\ntn\\nnye\\nag\\nsaa\\nuqjborh\\npcmgye\\nevbav\\ncg\\nntcqaw\\nmiixi\\nlwi\\nskuyd\\nh\\njfonxvy\\ntujrq\\nqyvbx\\nte\\npzwnrn\\nkxsfn\\ng\\nel\\nze\\nib\\nzegm\\nkeeo\\nbfxyj\\nnfn\\ncldfs\\nbl\\nnjtq\\nch\\nfepb\\nerxoebh\\nuhady\\nbsxbnwe\\ngymfev\\nnfyblwl\\nzxfwtgq\\nghdtt\\njtlvlrv\\nhrqcwi\\nptvvvjh\\nsnfqgq\\nenxfnfh\\njqwdee\\nayoas\\nvjjqb\\nmxb\\nuga\\nxxboof\\nf\\nmxwifgp\\ngefiys\\nu\\no\\nhg\\nt\\nypfnohn\\nq\\nqf\\nmi\\ns\\nm\\nlzi\\nqe\\nfywgdhy\\nuqc\\nvxe\\nfbzkco\\nonrfzir\\nqpijr\\ncgmvpg\\nt\\nngu\\nx\\nyuhgo\\nljhinr\\ndwseof\\nkcwofu\\nuxmhvml\\niq\\niw\\nixoy\\npay\\nxg\\nwx\\nyodirnv\\nkelyv\\nnuu\\ntgdutyn\\nckim\\nef\\nhrcfr\\ng\\nn\\nbbv\\nanpgr\\nczc\\nqkqchi\\nyyzrvyi\\nsobiwf\\nicotug\\njy\\njtohky\\nlhnga\\nlhxyzwt\\nfyb\\ngjvvgzj\\njsqoj\\nxhrh\\ndrtlh\\nvsuuhu\\nnrvlwrp\\ny\\nfj\\nis\\ngkgeqx\\nhs\\ndnjjv\\ngj\\njqrs\\nl\\nkwiwpfl\\nnjfhwn\\nvf\\nrqhd\\nhgpin\\nxxegcbj\\nof\\nvvncnnx\\nqd\\nus'"
      ]
     },
     "execution_count": 2,
     "metadata": {},
     "output_type": "execute_result"
    }
   ],
   "source": [
    "source_sentences"
   ]
  },
  {
   "cell_type": "code",
   "execution_count": 3,
   "metadata": {
    "collapsed": false,
    "deletable": true,
    "editable": true
   },
   "outputs": [
    {
     "name": "stdout",
     "output_type": "stream",
     "text": [
      "Example source sequence\n",
      "[[8, 18, 21, 17, 17], [25, 27, 15], [22, 8, 23, 5, 9]]\n",
      "\n",
      "\n",
      "Example target sequence\n",
      "[[21, 8, 17, 17, 18, 3], [25, 27, 15, 3], [8, 9, 22, 5, 23, 3]]\n"
     ]
    }
   ],
   "source": [
    "def extract_character_vocab(data):\n",
    "    special_words = ['<PAD>', '<UNK>', '<GO>',  '<EOS>']\n",
    "\n",
    "    set_words = set([character for line in data.split('\\n') for character in line])\n",
    "    int_to_vocab = {word_i: word for word_i, word in enumerate(special_words + list(set_words))}\n",
    "    vocab_to_int = {word: word_i for word_i, word in int_to_vocab.items()}\n",
    "\n",
    "    return int_to_vocab, vocab_to_int\n",
    "\n",
    "# Build int2letter and letter2int dicts\n",
    "source_int_to_letter, source_letter_to_int = extract_character_vocab(source_sentences)\n",
    "target_int_to_letter, target_letter_to_int = extract_character_vocab(target_sentences)\n",
    "\n",
    "# Convert characters to ids\n",
    "source_letter_ids = [[source_letter_to_int.get(letter, source_letter_to_int['<UNK>']) for letter in line] for line in source_sentences.split('\\n')]\n",
    "target_letter_ids = [[target_letter_to_int.get(letter, target_letter_to_int['<UNK>']) for letter in line] + [target_letter_to_int['<EOS>']] for line in target_sentences.split('\\n')] \n",
    "\n",
    "print(\"Example source sequence\")\n",
    "print(source_letter_ids[:3])\n",
    "print(\"\\n\")\n",
    "print(\"Example target sequence\")\n",
    "print(target_letter_ids[:3])"
   ]
  },
  {
   "cell_type": "markdown",
   "metadata": {
    "deletable": true,
    "editable": true
   },
   "source": [
    "## Hyperparameters"
   ]
  },
  {
   "cell_type": "code",
   "execution_count": 5,
   "metadata": {
    "collapsed": true,
    "deletable": true,
    "editable": true
   },
   "outputs": [],
   "source": [
    "# Number of Epochs\n",
    "epochs = 60\n",
    "# Batch Size\n",
    "batch_size = 128\n",
    "# RNN Size\n",
    "rnn_size = 50\n",
    "# Number of Layers\n",
    "num_layers = 2\n",
    "# Embedding Size\n",
    "encoding_embedding_size = 15\n",
    "decoding_embedding_size = 15\n",
    "# Learning Rate\n",
    "learning_rate = 0.001"
   ]
  },
  {
   "cell_type": "markdown",
   "metadata": {
    "deletable": true,
    "editable": true
   },
   "source": [
    "## Input"
   ]
  },
  {
   "cell_type": "code",
   "execution_count": 6,
   "metadata": {
    "collapsed": true,
    "deletable": true,
    "editable": true
   },
   "outputs": [],
   "source": [
    "def get_model_inputs():\n",
    "    input_data = tf.placeholder(tf.int32, [None, None], name='input')\n",
    "    targets = tf.placeholder(tf.int32, [None, None], name='targets')\n",
    "    lr = tf.placeholder(tf.float32, name='learning_rate')\n",
    "\n",
    "    target_sequence_length = tf.placeholder(tf.int32, (None,), name='target_sequence_length')\n",
    "    max_target_sequence_length = tf.reduce_max(target_sequence_length, name='max_target_len')\n",
    "    source_sequence_length = tf.placeholder(tf.int32, (None,), name='source_sequence_length')\n",
    "    \n",
    "    return input_data, targets, lr, target_sequence_length, max_target_sequence_length, source_sequence_length"
   ]
  },
  {
   "cell_type": "markdown",
   "metadata": {
    "deletable": true,
    "editable": true
   },
   "source": [
    "## Encoder"
   ]
  },
  {
   "cell_type": "code",
   "execution_count": 7,
   "metadata": {
    "collapsed": true,
    "deletable": true,
    "editable": true
   },
   "outputs": [],
   "source": [
    "def encoding_layer(input_data, rnn_size, num_layers,\n",
    "                   source_sequence_length, source_vocab_size, \n",
    "                   encoding_embedding_size):\n",
    "\n",
    "\n",
    "    # Encoder embedding\n",
    "    enc_embed_input = tf.contrib.layers.embed_sequence(input_data, source_vocab_size, encoding_embedding_size)\n",
    "\n",
    "    # RNN cell\n",
    "    def make_cell(rnn_size):\n",
    "        enc_cell = tf.contrib.rnn.LSTMCell(rnn_size,\n",
    "                                           initializer=tf.random_uniform_initializer(-0.1, 0.1, seed=2))\n",
    "        return enc_cell\n",
    "\n",
    "    enc_cell = tf.contrib.rnn.MultiRNNCell([make_cell(rnn_size) for _ in range(num_layers)])\n",
    "    \n",
    "    enc_output, enc_state = tf.nn.dynamic_rnn(enc_cell, enc_embed_input, sequence_length=source_sequence_length, dtype=tf.float32)\n",
    "    \n",
    "    return enc_output, enc_state"
   ]
  },
  {
   "cell_type": "markdown",
   "metadata": {
    "deletable": true,
    "editable": true
   },
   "source": [
    "## Decoder"
   ]
  },
  {
   "cell_type": "code",
   "execution_count": 8,
   "metadata": {
    "collapsed": true,
    "deletable": true,
    "editable": true
   },
   "outputs": [],
   "source": [
    "# Process input\n",
    "def process_decoder_input(target_data, vocab_to_int, batch_size):\n",
    "    '''Remove the last word id from each batch and concat the <GO> to the begining of each batch'''\n",
    "    ending = tf.strided_slice(target_data, [0, 0], [batch_size, -1], [1, 1])\n",
    "    dec_input = tf.concat([tf.fill([batch_size, 1], vocab_to_int['<GO>']), ending], 1)\n",
    "\n",
    "    return dec_input"
   ]
  },
  {
   "cell_type": "code",
   "execution_count": 9,
   "metadata": {
    "collapsed": true,
    "deletable": true,
    "editable": true
   },
   "outputs": [],
   "source": [
    "def decoding_layer(target_letter_to_int, decoding_embedding_size, num_layers, rnn_size,\n",
    "                   target_sequence_length, max_target_sequence_length, enc_state, dec_input):\n",
    "    # Decoder Embedding\n",
    "    target_vocab_size = len(target_letter_to_int)\n",
    "    dec_embeddings = tf.Variable(tf.random_uniform([target_vocab_size, decoding_embedding_size]))\n",
    "    dec_embed_input = tf.nn.embedding_lookup(dec_embeddings, dec_input)\n",
    "\n",
    "    # Decoder cell\n",
    "    def make_cell(rnn_size):\n",
    "        dec_cell = tf.contrib.rnn.LSTMCell(rnn_size,\n",
    "                                           initializer=tf.random_uniform_initializer(-0.1, 0.1, seed=2))\n",
    "        return dec_cell\n",
    "\n",
    "    dec_cell = tf.contrib.rnn.MultiRNNCell([make_cell(rnn_size) for _ in range(num_layers)])\n",
    "     \n",
    "    # 全连接层--翻译decoder的输出\n",
    "    output_layer = Dense(target_vocab_size,\n",
    "                         kernel_initializer = tf.truncated_normal_initializer(mean = 0.0, stddev=0.1))\n",
    "\n",
    "\n",
    "    # Training Decoder\n",
    "    with tf.variable_scope(\"decode\"):\n",
    "\n",
    "        # Helper for the training process. Used by BasicDecoder to read inputs.\n",
    "        training_helper = tf.contrib.seq2seq.TrainingHelper(inputs=dec_embed_input,\n",
    "                                                            sequence_length=target_sequence_length,\n",
    "                                                            time_major=False)\n",
    "        \n",
    "        \n",
    "        # Basic decoder\n",
    "        training_decoder = tf.contrib.seq2seq.BasicDecoder(dec_cell,\n",
    "                                                           training_helper,\n",
    "                                                           enc_state,\n",
    "                                                           output_layer) \n",
    "        \n",
    "        # Perform dynamic decoding using the decoder\n",
    "        training_decoder_output, _ = tf.contrib.seq2seq.dynamic_decode(training_decoder,\n",
    "                                                                       impute_finished=True,\n",
    "                                                                       maximum_iterations=max_target_sequence_length)\n",
    "    # Inference Decoder\n",
    "    with tf.variable_scope(\"decode\", reuse=True):\n",
    "        start_tokens = tf.tile(tf.constant([target_letter_to_int['<GO>']], dtype=tf.int32), [batch_size], name='start_tokens')\n",
    "\n",
    "        # Helper for the inference process.\n",
    "        inference_helper = tf.contrib.seq2seq.GreedyEmbeddingHelper(dec_embeddings,\n",
    "                                                                start_tokens,\n",
    "                                                                target_letter_to_int['<EOS>'])\n",
    "\n",
    "        # Basic decoder\n",
    "        inference_decoder = tf.contrib.seq2seq.BasicDecoder(dec_cell,\n",
    "                                                        inference_helper,\n",
    "                                                        enc_state,\n",
    "                                                        output_layer)\n",
    "        \n",
    "        # Perform dynamic decoding using the decoder\n",
    "        inference_decoder_output, _ = tf.contrib.seq2seq.dynamic_decode(inference_decoder,\n",
    "                                                            impute_finished=True,\n",
    "                                                            maximum_iterations=max_target_sequence_length)\n",
    "         \n",
    "\n",
    "    \n",
    "    return training_decoder_output, inference_decoder_output"
   ]
  },
  {
   "cell_type": "markdown",
   "metadata": {
    "deletable": true,
    "editable": true
   },
   "source": [
    "## Seq2seq model"
   ]
  },
  {
   "cell_type": "code",
   "execution_count": 10,
   "metadata": {
    "collapsed": true,
    "deletable": true,
    "editable": true
   },
   "outputs": [],
   "source": [
    "def seq2seq_model(input_data, targets, lr, target_sequence_length, \n",
    "                  max_target_sequence_length, source_sequence_length,\n",
    "                  source_vocab_size, target_vocab_size,\n",
    "                  enc_embedding_size, dec_embedding_size, \n",
    "                  rnn_size, num_layers):\n",
    "    \n",
    "    # 忽略encoder的输出，保留state\n",
    "    _, enc_state = encoding_layer(input_data, \n",
    "                                  rnn_size, \n",
    "                                  num_layers, \n",
    "                                  source_sequence_length,\n",
    "                                  source_vocab_size, \n",
    "                                  encoding_embedding_size)\n",
    "    \n",
    "    \n",
    "    dec_input = process_decoder_input(targets, target_letter_to_int, batch_size)\n",
    "    \n",
    "    # 将encoder的state和decoder的input传入decoder\n",
    "    training_decoder_output, inference_decoder_output = decoding_layer(target_letter_to_int, \n",
    "                                                                       decoding_embedding_size, \n",
    "                                                                       num_layers, \n",
    "                                                                       rnn_size,\n",
    "                                                                       target_sequence_length,\n",
    "                                                                       max_target_sequence_length,\n",
    "                                                                       enc_state, \n",
    "                                                                       dec_input) \n",
    "    \n",
    "    return training_decoder_output, inference_decoder_output"
   ]
  },
  {
   "cell_type": "code",
   "execution_count": 11,
   "metadata": {
    "collapsed": false,
    "deletable": true,
    "editable": true
   },
   "outputs": [],
   "source": [
    "# Build the graph\n",
    "train_graph = tf.Graph()\n",
    "with train_graph.as_default():\n",
    "    \n",
    "    # 获取model inputs    \n",
    "    input_data, targets, lr, target_sequence_length, max_target_sequence_length, source_sequence_length = get_model_inputs()\n",
    "    \n",
    "    # Training and inference logits\n",
    "    training_decoder_output, inference_decoder_output = seq2seq_model(input_data, \n",
    "                                                                      targets, \n",
    "                                                                      lr, \n",
    "                                                                      target_sequence_length, \n",
    "                                                                      max_target_sequence_length, \n",
    "                                                                      source_sequence_length,\n",
    "                                                                      len(source_letter_to_int),\n",
    "                                                                      len(target_letter_to_int),\n",
    "                                                                      encoding_embedding_size, \n",
    "                                                                      decoding_embedding_size, \n",
    "                                                                      rnn_size, \n",
    "                                                                      num_layers)    \n",
    "    \n",
    "    # Create tensors for the training logits and inference logits\n",
    "    training_logits = tf.identity(training_decoder_output.rnn_output, 'logits')\n",
    "    inference_logits = tf.identity(inference_decoder_output.sample_id, name='predictions')\n",
    "    \n",
    "    # Create the weights for sequence_loss\n",
    "    masks = tf.sequence_mask(target_sequence_length, max_target_sequence_length, dtype=tf.float32, name='masks')\n",
    "\n",
    "    with tf.name_scope(\"optimization\"):\n",
    "        \n",
    "        # Loss function\n",
    "        cost = tf.contrib.seq2seq.sequence_loss(\n",
    "            training_logits,\n",
    "            targets,\n",
    "            masks)\n",
    "\n",
    "        # Optimizer\n",
    "        optimizer = tf.train.AdamOptimizer(lr)\n",
    "\n",
    "        # Gradient Clipping\n",
    "        gradients = optimizer.compute_gradients(cost)\n",
    "        capped_gradients = [(tf.clip_by_value(grad, -5., 5.), var) for grad, var in gradients if grad is not None]\n",
    "        train_op = optimizer.apply_gradients(capped_gradients)"
   ]
  },
  {
   "cell_type": "markdown",
   "metadata": {
    "deletable": true,
    "editable": true
   },
   "source": [
    "## Get batched"
   ]
  },
  {
   "cell_type": "code",
   "execution_count": 12,
   "metadata": {
    "collapsed": true,
    "deletable": true,
    "editable": true
   },
   "outputs": [],
   "source": [
    "def pad_sentence_batch(sentence_batch, pad_int):\n",
    "    \"\"\"使用 <PAD> 补全较短的sentences，使所有sentences长度相同\"\"\"\n",
    "    max_sentence = max([len(sentence) for sentence in sentence_batch])\n",
    "    return [sentence + [pad_int] * (max_sentence - len(sentence)) for sentence in sentence_batch]"
   ]
  },
  {
   "cell_type": "code",
   "execution_count": 13,
   "metadata": {
    "collapsed": true,
    "deletable": true,
    "editable": true
   },
   "outputs": [],
   "source": [
    "def get_batches(targets, sources, batch_size, source_pad_int, target_pad_int):\n",
    "    for batch_i in range(0, len(sources)//batch_size):\n",
    "        start_i = batch_i * batch_size\n",
    "        sources_batch = sources[start_i:start_i + batch_size]\n",
    "        targets_batch = targets[start_i:start_i + batch_size]\n",
    "        pad_sources_batch = np.array(pad_sentence_batch(sources_batch, source_pad_int))\n",
    "        pad_targets_batch = np.array(pad_sentence_batch(targets_batch, target_pad_int))\n",
    "        \n",
    "        # Need the lengths for the _lengths parameters\n",
    "        pad_targets_lengths = []\n",
    "        for target in pad_targets_batch:\n",
    "            pad_targets_lengths.append(len(target))\n",
    "        \n",
    "        pad_source_lengths = []\n",
    "        for source in pad_sources_batch:\n",
    "            pad_source_lengths.append(len(source))\n",
    "        \n",
    "        yield pad_targets_batch, pad_sources_batch, pad_targets_lengths, pad_source_lengths"
   ]
  },
  {
   "cell_type": "markdown",
   "metadata": {
    "deletable": true,
    "editable": true
   },
   "source": [
    "## Train"
   ]
  },
  {
   "cell_type": "code",
   "execution_count": 14,
   "metadata": {
    "collapsed": false,
    "deletable": true,
    "editable": true,
    "scrolled": false
   },
   "outputs": [
    {
     "name": "stdout",
     "output_type": "stream",
     "text": [
      "Epoch   1/60 Batch   20/77 - Loss:  2.342  - Validation loss:  2.372\n",
      "Epoch   1/60 Batch   40/77 - Loss:  2.238  - Validation loss:  2.198\n",
      "Epoch   1/60 Batch   60/77 - Loss:  1.939  - Validation loss:  1.995\n",
      "Epoch   2/60 Batch   20/77 - Loss:  1.637  - Validation loss:  1.721\n",
      "Epoch   2/60 Batch   40/77 - Loss:  1.642  - Validation loss:  1.606\n",
      "Epoch   2/60 Batch   60/77 - Loss:  1.480  - Validation loss:  1.512\n",
      "Epoch   3/60 Batch   20/77 - Loss:  1.362  - Validation loss:  1.432\n",
      "Epoch   3/60 Batch   40/77 - Loss:  1.443  - Validation loss:  1.410\n",
      "Epoch   3/60 Batch   60/77 - Loss:  1.346  - Validation loss:  1.377\n",
      "Epoch   4/60 Batch   20/77 - Loss:  1.216  - Validation loss:  1.286\n",
      "Epoch   4/60 Batch   40/77 - Loss:  1.284  - Validation loss:  1.248\n",
      "Epoch   4/60 Batch   60/77 - Loss:  1.173  - Validation loss:  1.212\n",
      "Epoch   5/60 Batch   20/77 - Loss:  1.100  - Validation loss:  1.160\n",
      "Epoch   5/60 Batch   40/77 - Loss:  1.167  - Validation loss:  1.135\n",
      "Epoch   5/60 Batch   60/77 - Loss:  1.064  - Validation loss:  1.099\n",
      "Epoch   6/60 Batch   20/77 - Loss:  0.975  - Validation loss:  1.032\n",
      "Epoch   6/60 Batch   40/77 - Loss:  1.014  - Validation loss:  1.004\n",
      "Epoch   6/60 Batch   60/77 - Loss:  0.935  - Validation loss:  0.972\n",
      "Epoch   7/60 Batch   20/77 - Loss:  0.876  - Validation loss:  0.930\n",
      "Epoch   7/60 Batch   40/77 - Loss:  0.911  - Validation loss:  0.911\n",
      "Epoch   7/60 Batch   60/77 - Loss:  0.840  - Validation loss:  0.881\n",
      "Epoch   8/60 Batch   20/77 - Loss:  0.773  - Validation loss:  0.830\n",
      "Epoch   8/60 Batch   40/77 - Loss:  0.805  - Validation loss:  0.804\n",
      "Epoch   8/60 Batch   60/77 - Loss:  0.727  - Validation loss:  0.771\n",
      "Epoch   9/60 Batch   20/77 - Loss:  0.659  - Validation loss:  0.722\n",
      "Epoch   9/60 Batch   40/77 - Loss:  0.710  - Validation loss:  0.702\n",
      "Epoch   9/60 Batch   60/77 - Loss:  0.635  - Validation loss:  0.680\n",
      "Epoch  10/60 Batch   20/77 - Loss:  0.571  - Validation loss:  0.643\n",
      "Epoch  10/60 Batch   40/77 - Loss:  0.617  - Validation loss:  0.623\n",
      "Epoch  10/60 Batch   60/77 - Loss:  0.559  - Validation loss:  0.610\n",
      "Epoch  11/60 Batch   20/77 - Loss:  0.502  - Validation loss:  0.580\n",
      "Epoch  11/60 Batch   40/77 - Loss:  0.549  - Validation loss:  0.563\n",
      "Epoch  11/60 Batch   60/77 - Loss:  0.499  - Validation loss:  0.543\n",
      "Epoch  12/60 Batch   20/77 - Loss:  0.429  - Validation loss:  0.508\n",
      "Epoch  12/60 Batch   40/77 - Loss:  0.466  - Validation loss:  0.486\n",
      "Epoch  12/60 Batch   60/77 - Loss:  0.435  - Validation loss:  0.476\n",
      "Epoch  13/60 Batch   20/77 - Loss:  0.369  - Validation loss:  0.444\n",
      "Epoch  13/60 Batch   40/77 - Loss:  0.410  - Validation loss:  0.431\n",
      "Epoch  13/60 Batch   60/77 - Loss:  0.385  - Validation loss:  0.424\n",
      "Epoch  14/60 Batch   20/77 - Loss:  0.322  - Validation loss:  0.399\n",
      "Epoch  14/60 Batch   40/77 - Loss:  0.368  - Validation loss:  0.390\n",
      "Epoch  14/60 Batch   60/77 - Loss:  0.349  - Validation loss:  0.383\n",
      "Epoch  15/60 Batch   20/77 - Loss:  0.285  - Validation loss:  0.356\n",
      "Epoch  15/60 Batch   40/77 - Loss:  0.327  - Validation loss:  0.349\n",
      "Epoch  15/60 Batch   60/77 - Loss:  0.310  - Validation loss:  0.350\n",
      "Epoch  16/60 Batch   20/77 - Loss:  0.254  - Validation loss:  0.320\n",
      "Epoch  16/60 Batch   40/77 - Loss:  0.292  - Validation loss:  0.309\n",
      "Epoch  16/60 Batch   60/77 - Loss:  0.279  - Validation loss:  0.306\n",
      "Epoch  17/60 Batch   20/77 - Loss:  0.224  - Validation loss:  0.283\n",
      "Epoch  17/60 Batch   40/77 - Loss:  0.262  - Validation loss:  0.278\n",
      "Epoch  17/60 Batch   60/77 - Loss:  0.261  - Validation loss:  0.342\n",
      "Epoch  18/60 Batch   20/77 - Loss:  0.204  - Validation loss:  0.258\n",
      "Epoch  18/60 Batch   40/77 - Loss:  0.234  - Validation loss:  0.251\n",
      "Epoch  18/60 Batch   60/77 - Loss:  0.226  - Validation loss:  0.244\n",
      "Epoch  19/60 Batch   20/77 - Loss:  0.178  - Validation loss:  0.228\n",
      "Epoch  19/60 Batch   40/77 - Loss:  0.208  - Validation loss:  0.224\n",
      "Epoch  19/60 Batch   60/77 - Loss:  0.204  - Validation loss:  0.220\n",
      "Epoch  20/60 Batch   20/77 - Loss:  0.157  - Validation loss:  0.203\n",
      "Epoch  20/60 Batch   40/77 - Loss:  0.184  - Validation loss:  0.201\n",
      "Epoch  20/60 Batch   60/77 - Loss:  0.182  - Validation loss:  0.195\n",
      "Epoch  21/60 Batch   20/77 - Loss:  0.137  - Validation loss:  0.181\n",
      "Epoch  21/60 Batch   40/77 - Loss:  0.161  - Validation loss:  0.182\n",
      "Epoch  21/60 Batch   60/77 - Loss:  0.162  - Validation loss:  0.174\n",
      "Epoch  22/60 Batch   20/77 - Loss:  0.120  - Validation loss:  0.164\n",
      "Epoch  22/60 Batch   40/77 - Loss:  0.142  - Validation loss:  0.165\n",
      "Epoch  22/60 Batch   60/77 - Loss:  0.146  - Validation loss:  0.156\n",
      "Epoch  23/60 Batch   20/77 - Loss:  0.104  - Validation loss:  0.148\n",
      "Epoch  23/60 Batch   40/77 - Loss:  0.124  - Validation loss:  0.151\n",
      "Epoch  23/60 Batch   60/77 - Loss:  0.131  - Validation loss:  0.141\n",
      "Epoch  24/60 Batch   20/77 - Loss:  0.091  - Validation loss:  0.133\n",
      "Epoch  24/60 Batch   40/77 - Loss:  0.109  - Validation loss:  0.137\n",
      "Epoch  24/60 Batch   60/77 - Loss:  0.118  - Validation loss:  0.127\n",
      "Epoch  25/60 Batch   20/77 - Loss:  0.079  - Validation loss:  0.120\n",
      "Epoch  25/60 Batch   40/77 - Loss:  0.096  - Validation loss:  0.123\n",
      "Epoch  25/60 Batch   60/77 - Loss:  0.106  - Validation loss:  0.115\n",
      "Epoch  26/60 Batch   20/77 - Loss:  0.071  - Validation loss:  0.108\n",
      "Epoch  26/60 Batch   40/77 - Loss:  0.084  - Validation loss:  0.110\n",
      "Epoch  26/60 Batch   60/77 - Loss:  0.095  - Validation loss:  0.104\n",
      "Epoch  27/60 Batch   20/77 - Loss:  0.061  - Validation loss:  0.097\n",
      "Epoch  27/60 Batch   40/77 - Loss:  0.073  - Validation loss:  0.101\n",
      "Epoch  27/60 Batch   60/77 - Loss:  0.084  - Validation loss:  0.094\n",
      "Epoch  28/60 Batch   20/77 - Loss:  0.058  - Validation loss:  0.096\n",
      "Epoch  28/60 Batch   40/77 - Loss:  0.066  - Validation loss:  0.090\n",
      "Epoch  28/60 Batch   60/77 - Loss:  0.075  - Validation loss:  0.086\n",
      "Epoch  29/60 Batch   20/77 - Loss:  0.046  - Validation loss:  0.149\n",
      "Epoch  29/60 Batch   40/77 - Loss:  0.100  - Validation loss:  0.103\n",
      "Epoch  29/60 Batch   60/77 - Loss:  0.078  - Validation loss:  0.092\n",
      "Epoch  30/60 Batch   20/77 - Loss:  0.043  - Validation loss:  0.073\n",
      "Epoch  30/60 Batch   40/77 - Loss:  0.053  - Validation loss:  0.073\n",
      "Epoch  30/60 Batch   60/77 - Loss:  0.062  - Validation loss:  0.072\n",
      "Epoch  31/60 Batch   20/77 - Loss:  0.037  - Validation loss:  0.066\n",
      "Epoch  31/60 Batch   40/77 - Loss:  0.047  - Validation loss:  0.066\n",
      "Epoch  31/60 Batch   60/77 - Loss:  0.054  - Validation loss:  0.065\n",
      "Epoch  32/60 Batch   20/77 - Loss:  0.033  - Validation loss:  0.060\n",
      "Epoch  32/60 Batch   40/77 - Loss:  0.041  - Validation loss:  0.060\n",
      "Epoch  32/60 Batch   60/77 - Loss:  0.049  - Validation loss:  0.059\n",
      "Epoch  33/60 Batch   20/77 - Loss:  0.029  - Validation loss:  0.054\n",
      "Epoch  33/60 Batch   40/77 - Loss:  0.037  - Validation loss:  0.056\n",
      "Epoch  33/60 Batch   60/77 - Loss:  0.043  - Validation loss:  0.054\n",
      "Epoch  34/60 Batch   20/77 - Loss:  0.026  - Validation loss:  0.049\n",
      "Epoch  34/60 Batch   40/77 - Loss:  0.033  - Validation loss:  0.052\n",
      "Epoch  34/60 Batch   60/77 - Loss:  0.039  - Validation loss:  0.050\n",
      "Epoch  35/60 Batch   20/77 - Loss:  0.023  - Validation loss:  0.045\n",
      "Epoch  35/60 Batch   40/77 - Loss:  0.030  - Validation loss:  0.048\n",
      "Epoch  35/60 Batch   60/77 - Loss:  0.035  - Validation loss:  0.045\n",
      "Epoch  36/60 Batch   20/77 - Loss:  0.021  - Validation loss:  0.042\n",
      "Epoch  36/60 Batch   40/77 - Loss:  0.027  - Validation loss:  0.044\n",
      "Epoch  36/60 Batch   60/77 - Loss:  0.032  - Validation loss:  0.042\n",
      "Epoch  37/60 Batch   20/77 - Loss:  0.019  - Validation loss:  0.038\n",
      "Epoch  37/60 Batch   40/77 - Loss:  0.024  - Validation loss:  0.041\n",
      "Epoch  37/60 Batch   60/77 - Loss:  0.029  - Validation loss:  0.038\n",
      "Epoch  38/60 Batch   20/77 - Loss:  0.017  - Validation loss:  0.036\n",
      "Epoch  38/60 Batch   40/77 - Loss:  0.022  - Validation loss:  0.038\n",
      "Epoch  38/60 Batch   60/77 - Loss:  0.026  - Validation loss:  0.035\n",
      "Epoch  39/60 Batch   20/77 - Loss:  0.016  - Validation loss:  0.033\n",
      "Epoch  39/60 Batch   40/77 - Loss:  0.020  - Validation loss:  0.035\n",
      "Epoch  39/60 Batch   60/77 - Loss:  0.024  - Validation loss:  0.032\n",
      "Epoch  40/60 Batch   20/77 - Loss:  0.014  - Validation loss:  0.031\n",
      "Epoch  40/60 Batch   40/77 - Loss:  0.019  - Validation loss:  0.032\n",
      "Epoch  40/60 Batch   60/77 - Loss:  0.022  - Validation loss:  0.030\n",
      "Epoch  41/60 Batch   20/77 - Loss:  0.013  - Validation loss:  0.029\n",
      "Epoch  41/60 Batch   40/77 - Loss:  0.017  - Validation loss:  0.030\n",
      "Epoch  41/60 Batch   60/77 - Loss:  0.020  - Validation loss:  0.028\n",
      "Epoch  42/60 Batch   20/77 - Loss:  0.012  - Validation loss:  0.028\n",
      "Epoch  42/60 Batch   40/77 - Loss:  0.016  - Validation loss:  0.028\n",
      "Epoch  42/60 Batch   60/77 - Loss:  0.019  - Validation loss:  0.026\n",
      "Epoch  43/60 Batch   20/77 - Loss:  0.011  - Validation loss:  0.026\n",
      "Epoch  43/60 Batch   40/77 - Loss:  0.015  - Validation loss:  0.026\n",
      "Epoch  43/60 Batch   60/77 - Loss:  0.017  - Validation loss:  0.024\n",
      "Epoch  44/60 Batch   20/77 - Loss:  0.010  - Validation loss:  0.025\n",
      "Epoch  44/60 Batch   40/77 - Loss:  0.014  - Validation loss:  0.024\n",
      "Epoch  44/60 Batch   60/77 - Loss:  0.016  - Validation loss:  0.022\n",
      "Epoch  45/60 Batch   20/77 - Loss:  0.010  - Validation loss:  0.024\n",
      "Epoch  45/60 Batch   40/77 - Loss:  0.013  - Validation loss:  0.022\n",
      "Epoch  45/60 Batch   60/77 - Loss:  0.015  - Validation loss:  0.021\n",
      "Epoch  46/60 Batch   20/77 - Loss:  0.009  - Validation loss:  0.023\n",
      "Epoch  46/60 Batch   40/77 - Loss:  0.012  - Validation loss:  0.021\n",
      "Epoch  46/60 Batch   60/77 - Loss:  0.014  - Validation loss:  0.020\n",
      "Epoch  47/60 Batch   20/77 - Loss:  0.008  - Validation loss:  0.023\n",
      "Epoch  47/60 Batch   40/77 - Loss:  0.011  - Validation loss:  0.020\n",
      "Epoch  47/60 Batch   60/77 - Loss:  0.013  - Validation loss:  0.019\n",
      "Epoch  48/60 Batch   20/77 - Loss:  0.008  - Validation loss:  0.022\n",
      "Epoch  48/60 Batch   40/77 - Loss:  0.010  - Validation loss:  0.019\n",
      "Epoch  48/60 Batch   60/77 - Loss:  0.012  - Validation loss:  0.018\n",
      "Epoch  49/60 Batch   20/77 - Loss:  0.007  - Validation loss:  0.022\n",
      "Epoch  49/60 Batch   40/77 - Loss:  0.010  - Validation loss:  0.018\n",
      "Epoch  49/60 Batch   60/77 - Loss:  0.011  - Validation loss:  0.017\n",
      "Epoch  50/60 Batch   20/77 - Loss:  0.007  - Validation loss:  0.021\n",
      "Epoch  50/60 Batch   40/77 - Loss:  0.009  - Validation loss:  0.017\n",
      "Epoch  50/60 Batch   60/77 - Loss:  0.010  - Validation loss:  0.017\n",
      "Epoch  51/60 Batch   20/77 - Loss:  0.006  - Validation loss:  0.019\n",
      "Epoch  51/60 Batch   40/77 - Loss:  0.008  - Validation loss:  0.016\n",
      "Epoch  51/60 Batch   60/77 - Loss:  0.010  - Validation loss:  0.017\n",
      "Epoch  52/60 Batch   20/77 - Loss:  0.006  - Validation loss:  0.018\n",
      "Epoch  52/60 Batch   40/77 - Loss:  0.008  - Validation loss:  0.016\n",
      "Epoch  52/60 Batch   60/77 - Loss:  0.009  - Validation loss:  0.017\n",
      "Epoch  53/60 Batch   20/77 - Loss:  0.005  - Validation loss:  0.017\n",
      "Epoch  53/60 Batch   40/77 - Loss:  0.007  - Validation loss:  0.015\n",
      "Epoch  53/60 Batch   60/77 - Loss:  0.008  - Validation loss:  0.016\n",
      "Epoch  54/60 Batch   20/77 - Loss:  0.005  - Validation loss:  0.015\n",
      "Epoch  54/60 Batch   40/77 - Loss:  0.006  - Validation loss:  0.015\n",
      "Epoch  54/60 Batch   60/77 - Loss:  0.008  - Validation loss:  0.015\n",
      "Epoch  55/60 Batch   20/77 - Loss:  0.005  - Validation loss:  0.015\n",
      "Epoch  55/60 Batch   40/77 - Loss:  0.006  - Validation loss:  0.014\n",
      "Epoch  55/60 Batch   60/77 - Loss:  0.007  - Validation loss:  0.014\n",
      "Epoch  56/60 Batch   20/77 - Loss:  0.004  - Validation loss:  0.014\n",
      "Epoch  56/60 Batch   40/77 - Loss:  0.006  - Validation loss:  0.013\n",
      "Epoch  56/60 Batch   60/77 - Loss:  0.007  - Validation loss:  0.013\n",
      "Epoch  57/60 Batch   20/77 - Loss:  0.004  - Validation loss:  0.014\n",
      "Epoch  57/60 Batch   40/77 - Loss:  0.005  - Validation loss:  0.012\n",
      "Epoch  57/60 Batch   60/77 - Loss:  0.006  - Validation loss:  0.013\n",
      "Epoch  58/60 Batch   20/77 - Loss:  0.004  - Validation loss:  0.013\n",
      "Epoch  58/60 Batch   40/77 - Loss:  0.005  - Validation loss:  0.012\n",
      "Epoch  58/60 Batch   60/77 - Loss:  0.006  - Validation loss:  0.012\n",
      "Epoch  59/60 Batch   20/77 - Loss:  0.004  - Validation loss:  0.013\n",
      "Epoch  59/60 Batch   40/77 - Loss:  0.005  - Validation loss:  0.011\n",
      "Epoch  59/60 Batch   60/77 - Loss:  0.005  - Validation loss:  0.012\n",
      "Epoch  60/60 Batch   20/77 - Loss:  0.003  - Validation loss:  0.012\n",
      "Epoch  60/60 Batch   40/77 - Loss:  0.004  - Validation loss:  0.011\n",
      "Epoch  60/60 Batch   60/77 - Loss:  0.005  - Validation loss:  0.011\n",
      "Model Trained and Saved\n"
     ]
    }
   ],
   "source": [
    "# 拆分数据\n",
    "train_source = source_letter_ids[batch_size:]\n",
    "train_target = target_letter_ids[batch_size:]\n",
    "valid_source = source_letter_ids[:batch_size]\n",
    "valid_target = target_letter_ids[:batch_size]\n",
    "(valid_targets_batch, valid_sources_batch, valid_targets_lengths, valid_sources_lengths) = next(get_batches(valid_target, valid_source, batch_size,\n",
    "                           source_letter_to_int['<PAD>'],\n",
    "                           target_letter_to_int['<PAD>']))\n",
    "\n",
    "display_step = 20 # Check training loss after every 20 batches\n",
    "\n",
    "checkpoint = \"best_model.ckpt\" \n",
    "with tf.Session(graph=train_graph) as sess:\n",
    "    sess.run(tf.global_variables_initializer())\n",
    "        \n",
    "    for epoch_i in range(1, epochs+1):\n",
    "        for batch_i, (targets_batch, sources_batch, targets_lengths, sources_lengths) in enumerate(\n",
    "                get_batches(train_target, train_source, batch_size,\n",
    "                           source_letter_to_int['<PAD>'],\n",
    "                           target_letter_to_int['<PAD>'])):\n",
    "            \n",
    "            # Training \n",
    "            _, loss = sess.run(\n",
    "                [train_op, cost],\n",
    "                {input_data: sources_batch,\n",
    "                 targets: targets_batch,\n",
    "                 lr: learning_rate,\n",
    "                 target_sequence_length: targets_lengths,\n",
    "                 source_sequence_length: sources_lengths})\n",
    "\n",
    "            # Print the status of the training\n",
    "            if batch_i % display_step == 0 and batch_i > 0:\n",
    "                \n",
    "                # Calculate validation cost\n",
    "                validation_loss = sess.run(\n",
    "                [cost],\n",
    "                {input_data: valid_sources_batch,\n",
    "                 targets: valid_targets_batch,\n",
    "                 lr: learning_rate,\n",
    "                 target_sequence_length: valid_targets_lengths,\n",
    "                 source_sequence_length: valid_sources_lengths})\n",
    "                \n",
    "                print('Epoch {:>3}/{} Batch {:>4}/{} - Loss: {:>6.3f}  - Validation loss: {:>6.3f}'\n",
    "                      .format(epoch_i,\n",
    "                              epochs, \n",
    "                              batch_i, \n",
    "                              len(train_source) // batch_size, \n",
    "                              loss, \n",
    "                              validation_loss[0]))\n",
    "\n",
    "    \n",
    "    \n",
    "    # Save Model\n",
    "    saver = tf.train.Saver()\n",
    "    saver.save(sess, checkpoint)\n",
    "    print('Model Trained and Saved')"
   ]
  },
  {
   "cell_type": "markdown",
   "metadata": {
    "deletable": true,
    "editable": true
   },
   "source": [
    "## Prediction"
   ]
  },
  {
   "cell_type": "code",
   "execution_count": 15,
   "metadata": {
    "collapsed": true,
    "deletable": true,
    "editable": true
   },
   "outputs": [],
   "source": [
    "def source_to_seq(text):\n",
    "    sequence_length = 7\n",
    "    return [source_letter_to_int.get(word, source_letter_to_int['<UNK>']) for word in text]+ [source_letter_to_int['<PAD>']]*(sequence_length-len(text))\n"
   ]
  },
  {
   "cell_type": "code",
   "execution_count": 16,
   "metadata": {
    "collapsed": false,
    "deletable": true,
    "editable": true
   },
   "outputs": [
    {
     "name": "stdout",
     "output_type": "stream",
     "text": [
      "INFO:tensorflow:Restoring parameters from ./best_model.ckpt\n",
      "Original Text: hello\n",
      "\n",
      "Source\n",
      "  Word Ids:    [28, 13, 22, 22, 16, 0, 0]\n",
      "  Input Words: h e l l o <PAD> <PAD>\n",
      "\n",
      "Target\n",
      "  Word Ids:       [13, 28, 22, 22, 16, 3]\n",
      "  Response Words: e h l l o <EOS>\n"
     ]
    }
   ],
   "source": [
    "input_sentence = 'hello'\n",
    "text = source_to_seq(input_sentence)\n",
    "\n",
    "checkpoint = \"./best_model.ckpt\"\n",
    "\n",
    "loaded_graph = tf.Graph()\n",
    "with tf.Session(graph=loaded_graph) as sess:\n",
    "    # Load saved model\n",
    "    loader = tf.train.import_meta_graph(checkpoint + '.meta')\n",
    "    loader.restore(sess, checkpoint)\n",
    "\n",
    "    input_data = loaded_graph.get_tensor_by_name('input:0')\n",
    "    logits = loaded_graph.get_tensor_by_name('predictions:0')\n",
    "    source_sequence_length = loaded_graph.get_tensor_by_name('source_sequence_length:0')\n",
    "    target_sequence_length = loaded_graph.get_tensor_by_name('target_sequence_length:0')\n",
    "    \n",
    "    answer_logits = sess.run(logits, {input_data: [text]*batch_size, \n",
    "                                      target_sequence_length: [len(text)]*batch_size, \n",
    "                                      source_sequence_length: [len(text)]*batch_size})[0] \n",
    "\n",
    "\n",
    "pad = source_letter_to_int[\"<PAD>\"] \n",
    "\n",
    "print('Original Text:', input_sentence)\n",
    "\n",
    "print('\\nSource')\n",
    "print('  Word Ids:    {}'.format([i for i in text]))\n",
    "print('  Input Words: {}'.format(\" \".join([source_int_to_letter[i] for i in text])))\n",
    "\n",
    "print('\\nTarget')\n",
    "print('  Word Ids:       {}'.format([i for i in answer_logits if i != pad]))\n",
    "print('  Response Words: {}'.format(\" \".join([target_int_to_letter[i] for i in answer_logits if i != pad])))"
   ]
  },
  {
   "cell_type": "code",
   "execution_count": null,
   "metadata": {
    "collapsed": true,
    "deletable": true,
    "editable": true
   },
   "outputs": [],
   "source": []
  }
 ],
 "metadata": {
  "kernelspec": {
   "display_name": "Python 3",
   "language": "python",
   "name": "python3"
  },
  "language_info": {
   "codemirror_mode": {
    "name": "ipython",
    "version": 3
   },
   "file_extension": ".py",
   "mimetype": "text/x-python",
   "name": "python",
   "nbconvert_exporter": "python",
   "pygments_lexer": "ipython3",
   "version": "3.6.0"
  }
 },
 "nbformat": 4,
 "nbformat_minor": 2
}
