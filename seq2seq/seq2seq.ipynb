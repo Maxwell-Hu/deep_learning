{
 "cells": [
  {
   "cell_type": "markdown",
   "metadata": {
    "deletable": true,
    "editable": true
   },
   "source": [
    "## 预处理"
   ]
  },
  {
   "cell_type": "code",
   "execution_count": 2,
   "metadata": {
    "collapsed": false,
    "deletable": true,
    "editable": true
   },
   "outputs": [],
   "source": [
    "import numpy as np\n",
    "import time\n",
    "from distutils.version import LooseVersion\n",
    "import tensorflow as tf\n",
    "from tensorflow.python.layers.core import Dense\n",
    "import preprocess\n",
    "\n",
    "source_path = 'data/letters_source.txt'\n",
    "target_path = 'data/letters_target.txt'\n",
    "\n",
    "source_sentences = preprocess.load_data(source_path)\n",
    "target_sentences = preprocess.load_data(target_path)"
   ]
  },
  {
   "cell_type": "code",
   "execution_count": 4,
   "metadata": {
    "collapsed": false,
    "deletable": true,
    "editable": true
   },
   "outputs": [],
   "source": [
    "def extract_character_vocab(data):\n",
    "    special_words = ['<PAD>', '<UNK>', '<GO>',  '<EOS>']\n",
    "\n",
    "    set_words = set([character for line in data.split('\\n') for character in line])\n",
    "    int_to_vocab = {word_i: word for word_i, word in enumerate(special_words + list(set_words))}\n",
    "    vocab_to_int = {word: word_i for word_i, word in int_to_vocab.items()}\n",
    "\n",
    "    return int_to_vocab, vocab_to_int\n",
    "\n",
    "# Build int_to_letter and letter_to_int dicts\n",
    "source_int_to_letter, source_letter_to_int = extract_character_vocab(source_sentences)\n",
    "target_int_to_letter, target_letter_to_int = extract_character_vocab(target_sentences)\n",
    "\n",
    "# Convert characters to int\n",
    "source_letter_ids = [[source_letter_to_int.get(letter, source_letter_to_int['<UNK>']) for letter in line] for line in source_sentences.split('\\n')]\n",
    "target_letter_ids = [[target_letter_to_int.get(letter, target_letter_to_int['<UNK>']) for letter in line] + [target_letter_to_int['<EOS>']] for line in target_sentences.split('\\n')] \n"
   ]
  },
  {
   "cell_type": "code",
   "execution_count": 5,
   "metadata": {
    "collapsed": false,
    "deletable": true,
    "editable": true
   },
   "outputs": [
    {
     "name": "stdout",
     "output_type": "stream",
     "text": [
      "[[10, 29, 26, 28, 28], [17, 25, 5], [20, 10, 13, 22, 19]]\n"
     ]
    }
   ],
   "source": [
    "# Source sequence\n",
    "print(source_letter_ids[:3])"
   ]
  },
  {
   "cell_type": "code",
   "execution_count": 6,
   "metadata": {
    "collapsed": false,
    "deletable": true,
    "editable": true
   },
   "outputs": [
    {
     "name": "stdout",
     "output_type": "stream",
     "text": [
      "[[26, 10, 28, 28, 29, 3], [17, 25, 5, 3], [10, 19, 20, 22, 13, 3]]\n"
     ]
    }
   ],
   "source": [
    "print(target_letter_ids[:3])"
   ]
  },
  {
   "cell_type": "markdown",
   "metadata": {
    "deletable": true,
    "editable": true
   },
   "source": [
    "## Hyperparameters"
   ]
  },
  {
   "cell_type": "code",
   "execution_count": 5,
   "metadata": {
    "collapsed": true,
    "deletable": true,
    "editable": true
   },
   "outputs": [],
   "source": [
    "# Number of Epochs\n",
    "epochs = 60\n",
    "# Batch Size\n",
    "batch_size = 128\n",
    "# RNN Size\n",
    "rnn_size = 50\n",
    "# Number of Layers\n",
    "num_layers = 2\n",
    "# Embedding Size\n",
    "encoding_embedding_size = 15\n",
    "decoding_embedding_size = 15\n",
    "# Learning Rate\n",
    "learning_rate = 0.001"
   ]
  },
  {
   "cell_type": "markdown",
   "metadata": {
    "deletable": true,
    "editable": true
   },
   "source": [
    "## Input"
   ]
  },
  {
   "cell_type": "code",
   "execution_count": 6,
   "metadata": {
    "collapsed": true,
    "deletable": true,
    "editable": true
   },
   "outputs": [],
   "source": [
    "def get_model_inputs():\n",
    "    input_data = tf.placeholder(tf.int32, [None, None], name='input')\n",
    "    targets = tf.placeholder(tf.int32, [None, None], name='targets')\n",
    "    lr = tf.placeholder(tf.float32, name='learning_rate')\n",
    "\n",
    "    target_sequence_length = tf.placeholder(tf.int32, (None,), name='target_sequence_length')\n",
    "    max_target_sequence_length = tf.reduce_max(target_sequence_length, name='max_target_len')\n",
    "    source_sequence_length = tf.placeholder(tf.int32, (None,), name='source_sequence_length')\n",
    "    \n",
    "    return input_data, targets, lr, target_sequence_length, max_target_sequence_length, source_sequence_length"
   ]
  },
  {
   "cell_type": "markdown",
   "metadata": {
    "deletable": true,
    "editable": true
   },
   "source": [
    "## Encoder"
   ]
  },
  {
   "cell_type": "code",
   "execution_count": 7,
   "metadata": {
    "collapsed": true,
    "deletable": true,
    "editable": true
   },
   "outputs": [],
   "source": [
    "def encoding_layer(input_data, rnn_size, num_layers,\n",
    "                   source_sequence_length, source_vocab_size, \n",
    "                   encoding_embedding_size):\n",
    "\n",
    "\n",
    "    # Encoder embedding\n",
    "    enc_embed_input = tf.contrib.layers.embed_sequence(input_data, source_vocab_size, encoding_embedding_size)\n",
    "\n",
    "    # RNN cell\n",
    "    def make_cell(rnn_size):\n",
    "        enc_cell = tf.contrib.rnn.LSTMCell(rnn_size,\n",
    "                                           initializer=tf.random_uniform_initializer(-0.1, 0.1, seed=2))\n",
    "        return enc_cell\n",
    "\n",
    "    enc_cell = tf.contrib.rnn.MultiRNNCell([make_cell(rnn_size) for _ in range(num_layers)])\n",
    "    \n",
    "    enc_output, enc_state = tf.nn.dynamic_rnn(enc_cell, enc_embed_input, sequence_length=source_sequence_length, dtype=tf.float32)\n",
    "    \n",
    "    return enc_output, enc_state"
   ]
  },
  {
   "cell_type": "markdown",
   "metadata": {
    "deletable": true,
    "editable": true
   },
   "source": [
    "## Decoder"
   ]
  },
  {
   "cell_type": "code",
   "execution_count": 8,
   "metadata": {
    "collapsed": true,
    "deletable": true,
    "editable": true
   },
   "outputs": [],
   "source": [
    "# Process input\n",
    "def process_decoder_input(target_data, vocab_to_int, batch_size):\n",
    "    '''Remove the last word id from each batch and concat the <GO> to the begining of each batch'''\n",
    "    ending = tf.strided_slice(target_data, [0, 0], [batch_size, -1], [1, 1])\n",
    "    dec_input = tf.concat([tf.fill([batch_size, 1], vocab_to_int['<GO>']), ending], 1)\n",
    "\n",
    "    return dec_input"
   ]
  },
  {
   "cell_type": "code",
   "execution_count": 9,
   "metadata": {
    "collapsed": true,
    "deletable": true,
    "editable": true
   },
   "outputs": [],
   "source": [
    "def decoding_layer(target_letter_to_int, decoding_embedding_size, num_layers, rnn_size,\n",
    "                   target_sequence_length, max_target_sequence_length, enc_state, dec_input):\n",
    "    # Decoder Embedding\n",
    "    target_vocab_size = len(target_letter_to_int)\n",
    "    dec_embeddings = tf.Variable(tf.random_uniform([target_vocab_size, decoding_embedding_size]))\n",
    "    dec_embed_input = tf.nn.embedding_lookup(dec_embeddings, dec_input)\n",
    "\n",
    "    # Decoder cell\n",
    "    def make_cell(rnn_size):\n",
    "        dec_cell = tf.contrib.rnn.LSTMCell(rnn_size,\n",
    "                                           initializer=tf.random_uniform_initializer(-0.1, 0.1, seed=2))\n",
    "        return dec_cell\n",
    "\n",
    "    dec_cell = tf.contrib.rnn.MultiRNNCell([make_cell(rnn_size) for _ in range(num_layers)])\n",
    "     \n",
    "    # 全连接层--翻译decoder的输出\n",
    "    output_layer = Dense(target_vocab_size,\n",
    "                         kernel_initializer = tf.truncated_normal_initializer(mean = 0.0, stddev=0.1))\n",
    "\n",
    "\n",
    "    # Training Decoder\n",
    "    with tf.variable_scope(\"decode\"):\n",
    "\n",
    "        # Helper for the training process. Used by BasicDecoder to read inputs.\n",
    "        training_helper = tf.contrib.seq2seq.TrainingHelper(inputs=dec_embed_input,\n",
    "                                                            sequence_length=target_sequence_length,\n",
    "                                                            time_major=False)\n",
    "        \n",
    "        \n",
    "        # Basic decoder\n",
    "        training_decoder = tf.contrib.seq2seq.BasicDecoder(dec_cell,\n",
    "                                                           training_helper,\n",
    "                                                           enc_state,\n",
    "                                                           output_layer) \n",
    "        \n",
    "        # Perform dynamic decoding using the decoder\n",
    "        training_decoder_output, _ = tf.contrib.seq2seq.dynamic_decode(training_decoder,\n",
    "                                                                       impute_finished=True,\n",
    "                                                                       maximum_iterations=max_target_sequence_length)\n",
    "    # Inference Decoder\n",
    "    with tf.variable_scope(\"decode\", reuse=True):\n",
    "        start_tokens = tf.tile(tf.constant([target_letter_to_int['<GO>']], dtype=tf.int32), [batch_size], name='start_tokens')\n",
    "\n",
    "        # Helper for the inference process.\n",
    "        inference_helper = tf.contrib.seq2seq.GreedyEmbeddingHelper(dec_embeddings,\n",
    "                                                                start_tokens,\n",
    "                                                                target_letter_to_int['<EOS>'])\n",
    "\n",
    "        # Basic decoder\n",
    "        inference_decoder = tf.contrib.seq2seq.BasicDecoder(dec_cell,\n",
    "                                                        inference_helper,\n",
    "                                                        enc_state,\n",
    "                                                        output_layer)\n",
    "        \n",
    "        # Perform dynamic decoding using the decoder\n",
    "        inference_decoder_output, _ = tf.contrib.seq2seq.dynamic_decode(inference_decoder,\n",
    "                                                            impute_finished=True,\n",
    "                                                            maximum_iterations=max_target_sequence_length)\n",
    "         \n",
    "\n",
    "    \n",
    "    return training_decoder_output, inference_decoder_output"
   ]
  },
  {
   "cell_type": "markdown",
   "metadata": {
    "deletable": true,
    "editable": true
   },
   "source": [
    "## Seq2seq model"
   ]
  },
  {
   "cell_type": "code",
   "execution_count": 10,
   "metadata": {
    "collapsed": true,
    "deletable": true,
    "editable": true
   },
   "outputs": [],
   "source": [
    "def seq2seq_model(input_data, targets, lr, target_sequence_length, \n",
    "                  max_target_sequence_length, source_sequence_length,\n",
    "                  source_vocab_size, target_vocab_size,\n",
    "                  enc_embedding_size, dec_embedding_size, \n",
    "                  rnn_size, num_layers):\n",
    "    \n",
    "    # 忽略encoder的输出，保留state\n",
    "    _, enc_state = encoding_layer(input_data, \n",
    "                                  rnn_size, \n",
    "                                  num_layers, \n",
    "                                  source_sequence_length,\n",
    "                                  source_vocab_size, \n",
    "                                  encoding_embedding_size)\n",
    "    \n",
    "    \n",
    "    dec_input = process_decoder_input(targets, target_letter_to_int, batch_size)\n",
    "    \n",
    "    # 将encoder的state和decoder的input传入decoder\n",
    "    training_decoder_output, inference_decoder_output = decoding_layer(target_letter_to_int, \n",
    "                                                                       decoding_embedding_size, \n",
    "                                                                       num_layers, \n",
    "                                                                       rnn_size,\n",
    "                                                                       target_sequence_length,\n",
    "                                                                       max_target_sequence_length,\n",
    "                                                                       enc_state, \n",
    "                                                                       dec_input) \n",
    "    \n",
    "    return training_decoder_output, inference_decoder_output"
   ]
  },
  {
   "cell_type": "code",
   "execution_count": 11,
   "metadata": {
    "collapsed": false,
    "deletable": true,
    "editable": true
   },
   "outputs": [],
   "source": [
    "# Build the graph\n",
    "train_graph = tf.Graph()\n",
    "with train_graph.as_default():\n",
    "    \n",
    "    # 获取model inputs    \n",
    "    input_data, targets, lr, target_sequence_length, max_target_sequence_length, source_sequence_length = get_model_inputs()\n",
    "    \n",
    "    # Training and inference logits\n",
    "    training_decoder_output, inference_decoder_output = seq2seq_model(input_data, \n",
    "                                                                      targets, \n",
    "                                                                      lr, \n",
    "                                                                      target_sequence_length, \n",
    "                                                                      max_target_sequence_length, \n",
    "                                                                      source_sequence_length,\n",
    "                                                                      len(source_letter_to_int),\n",
    "                                                                      len(target_letter_to_int),\n",
    "                                                                      encoding_embedding_size, \n",
    "                                                                      decoding_embedding_size, \n",
    "                                                                      rnn_size, \n",
    "                                                                      num_layers)    \n",
    "    \n",
    "    # Create tensors for the training logits and inference logits\n",
    "    training_logits = tf.identity(training_decoder_output.rnn_output, 'logits')\n",
    "    inference_logits = tf.identity(inference_decoder_output.sample_id, name='predictions')\n",
    "    \n",
    "    # Create the weights for sequence_loss\n",
    "    masks = tf.sequence_mask(target_sequence_length, max_target_sequence_length, dtype=tf.float32, name='masks')\n",
    "\n",
    "    with tf.name_scope(\"optimization\"):\n",
    "        \n",
    "        # Loss function\n",
    "        cost = tf.contrib.seq2seq.sequence_loss(\n",
    "            training_logits,\n",
    "            targets,\n",
    "            masks)\n",
    "\n",
    "        # Optimizer\n",
    "        optimizer = tf.train.AdamOptimizer(lr)\n",
    "\n",
    "        # Gradient Clipping\n",
    "        gradients = optimizer.compute_gradients(cost)\n",
    "        capped_gradients = [(tf.clip_by_value(grad, -5., 5.), var) for grad, var in gradients if grad is not None]\n",
    "        train_op = optimizer.apply_gradients(capped_gradients)"
   ]
  },
  {
   "cell_type": "markdown",
   "metadata": {
    "deletable": true,
    "editable": true
   },
   "source": [
    "## Get batched"
   ]
  },
  {
   "cell_type": "code",
   "execution_count": 12,
   "metadata": {
    "collapsed": true,
    "deletable": true,
    "editable": true
   },
   "outputs": [],
   "source": [
    "def pad_sentence_batch(sentence_batch, pad_int):\n",
    "    \"\"\"使用 <PAD> 补全较短的sentences，使所有sentences长度相同\"\"\"\n",
    "    max_sentence = max([len(sentence) for sentence in sentence_batch])\n",
    "    return [sentence + [pad_int] * (max_sentence - len(sentence)) for sentence in sentence_batch]"
   ]
  },
  {
   "cell_type": "code",
   "execution_count": 13,
   "metadata": {
    "collapsed": true,
    "deletable": true,
    "editable": true
   },
   "outputs": [],
   "source": [
    "def get_batches(targets, sources, batch_size, source_pad_int, target_pad_int):\n",
    "    for batch_i in range(0, len(sources)//batch_size):\n",
    "        start_i = batch_i * batch_size\n",
    "        sources_batch = sources[start_i:start_i + batch_size]\n",
    "        targets_batch = targets[start_i:start_i + batch_size]\n",
    "        pad_sources_batch = np.array(pad_sentence_batch(sources_batch, source_pad_int))\n",
    "        pad_targets_batch = np.array(pad_sentence_batch(targets_batch, target_pad_int))\n",
    "        \n",
    "        # Need the lengths for the _lengths parameters\n",
    "        pad_targets_lengths = []\n",
    "        for target in pad_targets_batch:\n",
    "            pad_targets_lengths.append(len(target))\n",
    "        \n",
    "        pad_source_lengths = []\n",
    "        for source in pad_sources_batch:\n",
    "            pad_source_lengths.append(len(source))\n",
    "        \n",
    "        yield pad_targets_batch, pad_sources_batch, pad_targets_lengths, pad_source_lengths"
   ]
  },
  {
   "cell_type": "markdown",
   "metadata": {
    "deletable": true,
    "editable": true
   },
   "source": [
    "## Train"
   ]
  },
  {
   "cell_type": "code",
   "execution_count": 14,
   "metadata": {
    "collapsed": false,
    "deletable": true,
    "editable": true,
    "scrolled": false
   },
   "outputs": [
    {
     "name": "stdout",
     "output_type": "stream",
     "text": [
      "Epoch   1/60 Batch   20/77 - Loss:  2.342  - Validation loss:  2.372\n",
      "Epoch   1/60 Batch   40/77 - Loss:  2.238  - Validation loss:  2.198\n",
      "Epoch   1/60 Batch   60/77 - Loss:  1.939  - Validation loss:  1.995\n",
      "Epoch   2/60 Batch   20/77 - Loss:  1.637  - Validation loss:  1.721\n",
      "Epoch   2/60 Batch   40/77 - Loss:  1.642  - Validation loss:  1.606\n",
      "Epoch   2/60 Batch   60/77 - Loss:  1.480  - Validation loss:  1.512\n",
      "Epoch   3/60 Batch   20/77 - Loss:  1.362  - Validation loss:  1.432\n",
      "Epoch   3/60 Batch   40/77 - Loss:  1.443  - Validation loss:  1.410\n",
      "Epoch   3/60 Batch   60/77 - Loss:  1.346  - Validation loss:  1.377\n",
      "Epoch   4/60 Batch   20/77 - Loss:  1.216  - Validation loss:  1.286\n",
      "Epoch   4/60 Batch   40/77 - Loss:  1.284  - Validation loss:  1.248\n",
      "Epoch   4/60 Batch   60/77 - Loss:  1.173  - Validation loss:  1.212\n",
      "Epoch   5/60 Batch   20/77 - Loss:  1.100  - Validation loss:  1.160\n",
      "Epoch   5/60 Batch   40/77 - Loss:  1.167  - Validation loss:  1.135\n",
      "Epoch   5/60 Batch   60/77 - Loss:  1.064  - Validation loss:  1.099\n",
      "Epoch   6/60 Batch   20/77 - Loss:  0.975  - Validation loss:  1.032\n",
      "Epoch   6/60 Batch   40/77 - Loss:  1.014  - Validation loss:  1.004\n",
      "Epoch   6/60 Batch   60/77 - Loss:  0.935  - Validation loss:  0.972\n",
      "Epoch   7/60 Batch   20/77 - Loss:  0.876  - Validation loss:  0.930\n",
      "Epoch   7/60 Batch   40/77 - Loss:  0.911  - Validation loss:  0.911\n",
      "Epoch   7/60 Batch   60/77 - Loss:  0.840  - Validation loss:  0.881\n",
      "Epoch   8/60 Batch   20/77 - Loss:  0.773  - Validation loss:  0.830\n",
      "Epoch   8/60 Batch   40/77 - Loss:  0.805  - Validation loss:  0.804\n",
      "Epoch   8/60 Batch   60/77 - Loss:  0.727  - Validation loss:  0.771\n",
      "Epoch   9/60 Batch   20/77 - Loss:  0.659  - Validation loss:  0.722\n",
      "Epoch   9/60 Batch   40/77 - Loss:  0.710  - Validation loss:  0.702\n",
      "Epoch   9/60 Batch   60/77 - Loss:  0.635  - Validation loss:  0.680\n",
      "Epoch  10/60 Batch   20/77 - Loss:  0.571  - Validation loss:  0.643\n",
      "Epoch  10/60 Batch   40/77 - Loss:  0.617  - Validation loss:  0.623\n",
      "Epoch  10/60 Batch   60/77 - Loss:  0.559  - Validation loss:  0.610\n",
      "Epoch  11/60 Batch   20/77 - Loss:  0.502  - Validation loss:  0.580\n",
      "Epoch  11/60 Batch   40/77 - Loss:  0.549  - Validation loss:  0.563\n",
      "Epoch  11/60 Batch   60/77 - Loss:  0.499  - Validation loss:  0.543\n",
      "Epoch  12/60 Batch   20/77 - Loss:  0.429  - Validation loss:  0.508\n",
      "Epoch  12/60 Batch   40/77 - Loss:  0.466  - Validation loss:  0.486\n",
      "Epoch  12/60 Batch   60/77 - Loss:  0.435  - Validation loss:  0.476\n",
      "Epoch  13/60 Batch   20/77 - Loss:  0.369  - Validation loss:  0.444\n",
      "Epoch  13/60 Batch   40/77 - Loss:  0.410  - Validation loss:  0.431\n",
      "Epoch  13/60 Batch   60/77 - Loss:  0.385  - Validation loss:  0.424\n",
      "Epoch  14/60 Batch   20/77 - Loss:  0.322  - Validation loss:  0.399\n",
      "Epoch  14/60 Batch   40/77 - Loss:  0.368  - Validation loss:  0.390\n",
      "Epoch  14/60 Batch   60/77 - Loss:  0.349  - Validation loss:  0.383\n",
      "Epoch  15/60 Batch   20/77 - Loss:  0.285  - Validation loss:  0.356\n",
      "Epoch  15/60 Batch   40/77 - Loss:  0.327  - Validation loss:  0.349\n",
      "Epoch  15/60 Batch   60/77 - Loss:  0.310  - Validation loss:  0.350\n",
      "Epoch  16/60 Batch   20/77 - Loss:  0.254  - Validation loss:  0.320\n",
      "Epoch  16/60 Batch   40/77 - Loss:  0.292  - Validation loss:  0.309\n",
      "Epoch  16/60 Batch   60/77 - Loss:  0.279  - Validation loss:  0.306\n",
      "Epoch  17/60 Batch   20/77 - Loss:  0.224  - Validation loss:  0.283\n",
      "Epoch  17/60 Batch   40/77 - Loss:  0.262  - Validation loss:  0.278\n",
      "Epoch  17/60 Batch   60/77 - Loss:  0.261  - Validation loss:  0.342\n",
      "Epoch  18/60 Batch   20/77 - Loss:  0.204  - Validation loss:  0.258\n",
      "Epoch  18/60 Batch   40/77 - Loss:  0.234  - Validation loss:  0.251\n",
      "Epoch  18/60 Batch   60/77 - Loss:  0.226  - Validation loss:  0.244\n",
      "Epoch  19/60 Batch   20/77 - Loss:  0.178  - Validation loss:  0.228\n",
      "Epoch  19/60 Batch   40/77 - Loss:  0.208  - Validation loss:  0.224\n",
      "Epoch  19/60 Batch   60/77 - Loss:  0.204  - Validation loss:  0.220\n",
      "Epoch  20/60 Batch   20/77 - Loss:  0.157  - Validation loss:  0.203\n",
      "Epoch  20/60 Batch   40/77 - Loss:  0.184  - Validation loss:  0.201\n",
      "Epoch  20/60 Batch   60/77 - Loss:  0.182  - Validation loss:  0.195\n",
      "Epoch  21/60 Batch   20/77 - Loss:  0.137  - Validation loss:  0.181\n",
      "Epoch  21/60 Batch   40/77 - Loss:  0.161  - Validation loss:  0.182\n",
      "Epoch  21/60 Batch   60/77 - Loss:  0.162  - Validation loss:  0.174\n",
      "Epoch  22/60 Batch   20/77 - Loss:  0.120  - Validation loss:  0.164\n",
      "Epoch  22/60 Batch   40/77 - Loss:  0.142  - Validation loss:  0.165\n",
      "Epoch  22/60 Batch   60/77 - Loss:  0.146  - Validation loss:  0.156\n",
      "Epoch  23/60 Batch   20/77 - Loss:  0.104  - Validation loss:  0.148\n",
      "Epoch  23/60 Batch   40/77 - Loss:  0.124  - Validation loss:  0.151\n",
      "Epoch  23/60 Batch   60/77 - Loss:  0.131  - Validation loss:  0.141\n",
      "Epoch  24/60 Batch   20/77 - Loss:  0.091  - Validation loss:  0.133\n",
      "Epoch  24/60 Batch   40/77 - Loss:  0.109  - Validation loss:  0.137\n",
      "Epoch  24/60 Batch   60/77 - Loss:  0.118  - Validation loss:  0.127\n",
      "Epoch  25/60 Batch   20/77 - Loss:  0.079  - Validation loss:  0.120\n",
      "Epoch  25/60 Batch   40/77 - Loss:  0.096  - Validation loss:  0.123\n",
      "Epoch  25/60 Batch   60/77 - Loss:  0.106  - Validation loss:  0.115\n",
      "Epoch  26/60 Batch   20/77 - Loss:  0.071  - Validation loss:  0.108\n",
      "Epoch  26/60 Batch   40/77 - Loss:  0.084  - Validation loss:  0.110\n",
      "Epoch  26/60 Batch   60/77 - Loss:  0.095  - Validation loss:  0.104\n",
      "Epoch  27/60 Batch   20/77 - Loss:  0.061  - Validation loss:  0.097\n",
      "Epoch  27/60 Batch   40/77 - Loss:  0.073  - Validation loss:  0.101\n",
      "Epoch  27/60 Batch   60/77 - Loss:  0.084  - Validation loss:  0.094\n",
      "Epoch  28/60 Batch   20/77 - Loss:  0.058  - Validation loss:  0.096\n",
      "Epoch  28/60 Batch   40/77 - Loss:  0.066  - Validation loss:  0.090\n",
      "Epoch  28/60 Batch   60/77 - Loss:  0.075  - Validation loss:  0.086\n",
      "Epoch  29/60 Batch   20/77 - Loss:  0.046  - Validation loss:  0.149\n",
      "Epoch  29/60 Batch   40/77 - Loss:  0.100  - Validation loss:  0.103\n",
      "Epoch  29/60 Batch   60/77 - Loss:  0.078  - Validation loss:  0.092\n",
      "Epoch  30/60 Batch   20/77 - Loss:  0.043  - Validation loss:  0.073\n",
      "Epoch  30/60 Batch   40/77 - Loss:  0.053  - Validation loss:  0.073\n",
      "Epoch  30/60 Batch   60/77 - Loss:  0.062  - Validation loss:  0.072\n",
      "Epoch  31/60 Batch   20/77 - Loss:  0.037  - Validation loss:  0.066\n",
      "Epoch  31/60 Batch   40/77 - Loss:  0.047  - Validation loss:  0.066\n",
      "Epoch  31/60 Batch   60/77 - Loss:  0.054  - Validation loss:  0.065\n",
      "Epoch  32/60 Batch   20/77 - Loss:  0.033  - Validation loss:  0.060\n",
      "Epoch  32/60 Batch   40/77 - Loss:  0.041  - Validation loss:  0.060\n",
      "Epoch  32/60 Batch   60/77 - Loss:  0.049  - Validation loss:  0.059\n",
      "Epoch  33/60 Batch   20/77 - Loss:  0.029  - Validation loss:  0.054\n",
      "Epoch  33/60 Batch   40/77 - Loss:  0.037  - Validation loss:  0.056\n",
      "Epoch  33/60 Batch   60/77 - Loss:  0.043  - Validation loss:  0.054\n",
      "Epoch  34/60 Batch   20/77 - Loss:  0.026  - Validation loss:  0.049\n",
      "Epoch  34/60 Batch   40/77 - Loss:  0.033  - Validation loss:  0.052\n",
      "Epoch  34/60 Batch   60/77 - Loss:  0.039  - Validation loss:  0.050\n",
      "Epoch  35/60 Batch   20/77 - Loss:  0.023  - Validation loss:  0.045\n",
      "Epoch  35/60 Batch   40/77 - Loss:  0.030  - Validation loss:  0.048\n",
      "Epoch  35/60 Batch   60/77 - Loss:  0.035  - Validation loss:  0.045\n",
      "Epoch  36/60 Batch   20/77 - Loss:  0.021  - Validation loss:  0.042\n",
      "Epoch  36/60 Batch   40/77 - Loss:  0.027  - Validation loss:  0.044\n",
      "Epoch  36/60 Batch   60/77 - Loss:  0.032  - Validation loss:  0.042\n",
      "Epoch  37/60 Batch   20/77 - Loss:  0.019  - Validation loss:  0.038\n",
      "Epoch  37/60 Batch   40/77 - Loss:  0.024  - Validation loss:  0.041\n",
      "Epoch  37/60 Batch   60/77 - Loss:  0.029  - Validation loss:  0.038\n",
      "Epoch  38/60 Batch   20/77 - Loss:  0.017  - Validation loss:  0.036\n",
      "Epoch  38/60 Batch   40/77 - Loss:  0.022  - Validation loss:  0.038\n",
      "Epoch  38/60 Batch   60/77 - Loss:  0.026  - Validation loss:  0.035\n",
      "Epoch  39/60 Batch   20/77 - Loss:  0.016  - Validation loss:  0.033\n",
      "Epoch  39/60 Batch   40/77 - Loss:  0.020  - Validation loss:  0.035\n",
      "Epoch  39/60 Batch   60/77 - Loss:  0.024  - Validation loss:  0.032\n",
      "Epoch  40/60 Batch   20/77 - Loss:  0.014  - Validation loss:  0.031\n",
      "Epoch  40/60 Batch   40/77 - Loss:  0.019  - Validation loss:  0.032\n",
      "Epoch  40/60 Batch   60/77 - Loss:  0.022  - Validation loss:  0.030\n",
      "Epoch  41/60 Batch   20/77 - Loss:  0.013  - Validation loss:  0.029\n",
      "Epoch  41/60 Batch   40/77 - Loss:  0.017  - Validation loss:  0.030\n",
      "Epoch  41/60 Batch   60/77 - Loss:  0.020  - Validation loss:  0.028\n",
      "Epoch  42/60 Batch   20/77 - Loss:  0.012  - Validation loss:  0.028\n",
      "Epoch  42/60 Batch   40/77 - Loss:  0.016  - Validation loss:  0.028\n",
      "Epoch  42/60 Batch   60/77 - Loss:  0.019  - Validation loss:  0.026\n",
      "Epoch  43/60 Batch   20/77 - Loss:  0.011  - Validation loss:  0.026\n",
      "Epoch  43/60 Batch   40/77 - Loss:  0.015  - Validation loss:  0.026\n",
      "Epoch  43/60 Batch   60/77 - Loss:  0.017  - Validation loss:  0.024\n",
      "Epoch  44/60 Batch   20/77 - Loss:  0.010  - Validation loss:  0.025\n",
      "Epoch  44/60 Batch   40/77 - Loss:  0.014  - Validation loss:  0.024\n",
      "Epoch  44/60 Batch   60/77 - Loss:  0.016  - Validation loss:  0.022\n",
      "Epoch  45/60 Batch   20/77 - Loss:  0.010  - Validation loss:  0.024\n",
      "Epoch  45/60 Batch   40/77 - Loss:  0.013  - Validation loss:  0.022\n",
      "Epoch  45/60 Batch   60/77 - Loss:  0.015  - Validation loss:  0.021\n",
      "Epoch  46/60 Batch   20/77 - Loss:  0.009  - Validation loss:  0.023\n",
      "Epoch  46/60 Batch   40/77 - Loss:  0.012  - Validation loss:  0.021\n",
      "Epoch  46/60 Batch   60/77 - Loss:  0.014  - Validation loss:  0.020\n",
      "Epoch  47/60 Batch   20/77 - Loss:  0.008  - Validation loss:  0.023\n",
      "Epoch  47/60 Batch   40/77 - Loss:  0.011  - Validation loss:  0.020\n",
      "Epoch  47/60 Batch   60/77 - Loss:  0.013  - Validation loss:  0.019\n",
      "Epoch  48/60 Batch   20/77 - Loss:  0.008  - Validation loss:  0.022\n",
      "Epoch  48/60 Batch   40/77 - Loss:  0.010  - Validation loss:  0.019\n",
      "Epoch  48/60 Batch   60/77 - Loss:  0.012  - Validation loss:  0.018\n",
      "Epoch  49/60 Batch   20/77 - Loss:  0.007  - Validation loss:  0.022\n",
      "Epoch  49/60 Batch   40/77 - Loss:  0.010  - Validation loss:  0.018\n",
      "Epoch  49/60 Batch   60/77 - Loss:  0.011  - Validation loss:  0.017\n",
      "Epoch  50/60 Batch   20/77 - Loss:  0.007  - Validation loss:  0.021\n",
      "Epoch  50/60 Batch   40/77 - Loss:  0.009  - Validation loss:  0.017\n",
      "Epoch  50/60 Batch   60/77 - Loss:  0.010  - Validation loss:  0.017\n",
      "Epoch  51/60 Batch   20/77 - Loss:  0.006  - Validation loss:  0.019\n",
      "Epoch  51/60 Batch   40/77 - Loss:  0.008  - Validation loss:  0.016\n",
      "Epoch  51/60 Batch   60/77 - Loss:  0.010  - Validation loss:  0.017\n",
      "Epoch  52/60 Batch   20/77 - Loss:  0.006  - Validation loss:  0.018\n",
      "Epoch  52/60 Batch   40/77 - Loss:  0.008  - Validation loss:  0.016\n",
      "Epoch  52/60 Batch   60/77 - Loss:  0.009  - Validation loss:  0.017\n",
      "Epoch  53/60 Batch   20/77 - Loss:  0.005  - Validation loss:  0.017\n",
      "Epoch  53/60 Batch   40/77 - Loss:  0.007  - Validation loss:  0.015\n",
      "Epoch  53/60 Batch   60/77 - Loss:  0.008  - Validation loss:  0.016\n",
      "Epoch  54/60 Batch   20/77 - Loss:  0.005  - Validation loss:  0.015\n",
      "Epoch  54/60 Batch   40/77 - Loss:  0.006  - Validation loss:  0.015\n",
      "Epoch  54/60 Batch   60/77 - Loss:  0.008  - Validation loss:  0.015\n",
      "Epoch  55/60 Batch   20/77 - Loss:  0.005  - Validation loss:  0.015\n",
      "Epoch  55/60 Batch   40/77 - Loss:  0.006  - Validation loss:  0.014\n",
      "Epoch  55/60 Batch   60/77 - Loss:  0.007  - Validation loss:  0.014\n",
      "Epoch  56/60 Batch   20/77 - Loss:  0.004  - Validation loss:  0.014\n",
      "Epoch  56/60 Batch   40/77 - Loss:  0.006  - Validation loss:  0.013\n",
      "Epoch  56/60 Batch   60/77 - Loss:  0.007  - Validation loss:  0.013\n",
      "Epoch  57/60 Batch   20/77 - Loss:  0.004  - Validation loss:  0.014\n",
      "Epoch  57/60 Batch   40/77 - Loss:  0.005  - Validation loss:  0.012\n",
      "Epoch  57/60 Batch   60/77 - Loss:  0.006  - Validation loss:  0.013\n",
      "Epoch  58/60 Batch   20/77 - Loss:  0.004  - Validation loss:  0.013\n",
      "Epoch  58/60 Batch   40/77 - Loss:  0.005  - Validation loss:  0.012\n",
      "Epoch  58/60 Batch   60/77 - Loss:  0.006  - Validation loss:  0.012\n",
      "Epoch  59/60 Batch   20/77 - Loss:  0.004  - Validation loss:  0.013\n",
      "Epoch  59/60 Batch   40/77 - Loss:  0.005  - Validation loss:  0.011\n",
      "Epoch  59/60 Batch   60/77 - Loss:  0.005  - Validation loss:  0.012\n",
      "Epoch  60/60 Batch   20/77 - Loss:  0.003  - Validation loss:  0.012\n",
      "Epoch  60/60 Batch   40/77 - Loss:  0.004  - Validation loss:  0.011\n",
      "Epoch  60/60 Batch   60/77 - Loss:  0.005  - Validation loss:  0.011\n",
      "Model Trained and Saved\n"
     ]
    }
   ],
   "source": [
    "# 拆分数据\n",
    "train_source = source_letter_ids[batch_size:]\n",
    "train_target = target_letter_ids[batch_size:]\n",
    "valid_source = source_letter_ids[:batch_size]\n",
    "valid_target = target_letter_ids[:batch_size]\n",
    "(valid_targets_batch, valid_sources_batch, valid_targets_lengths, valid_sources_lengths) = next(get_batches(valid_target, valid_source, batch_size,\n",
    "                           source_letter_to_int['<PAD>'],\n",
    "                           target_letter_to_int['<PAD>']))\n",
    "\n",
    "display_step = 20 # Check training loss after every 20 batches\n",
    "\n",
    "checkpoint = \"best_model.ckpt\" \n",
    "with tf.Session(graph=train_graph) as sess:\n",
    "    sess.run(tf.global_variables_initializer())\n",
    "        \n",
    "    for epoch_i in range(1, epochs+1):\n",
    "        for batch_i, (targets_batch, sources_batch, targets_lengths, sources_lengths) in enumerate(\n",
    "                get_batches(train_target, train_source, batch_size,\n",
    "                           source_letter_to_int['<PAD>'],\n",
    "                           target_letter_to_int['<PAD>'])):\n",
    "            \n",
    "            # Training \n",
    "            _, loss = sess.run(\n",
    "                [train_op, cost],\n",
    "                {input_data: sources_batch,\n",
    "                 targets: targets_batch,\n",
    "                 lr: learning_rate,\n",
    "                 target_sequence_length: targets_lengths,\n",
    "                 source_sequence_length: sources_lengths})\n",
    "\n",
    "            # Print the status of the training\n",
    "            if batch_i % display_step == 0 and batch_i > 0:\n",
    "                \n",
    "                # Calculate validation cost\n",
    "                validation_loss = sess.run(\n",
    "                [cost],\n",
    "                {input_data: valid_sources_batch,\n",
    "                 targets: valid_targets_batch,\n",
    "                 lr: learning_rate,\n",
    "                 target_sequence_length: valid_targets_lengths,\n",
    "                 source_sequence_length: valid_sources_lengths})\n",
    "                \n",
    "                print('Epoch {:>3}/{} Batch {:>4}/{} - Loss: {:>6.3f}  - Validation loss: {:>6.3f}'\n",
    "                      .format(epoch_i,\n",
    "                              epochs, \n",
    "                              batch_i, \n",
    "                              len(train_source) // batch_size, \n",
    "                              loss, \n",
    "                              validation_loss[0]))\n",
    "\n",
    "    \n",
    "    \n",
    "    # Save Model\n",
    "    saver = tf.train.Saver()\n",
    "    saver.save(sess, checkpoint)\n",
    "    print('Model Trained and Saved')"
   ]
  },
  {
   "cell_type": "markdown",
   "metadata": {
    "deletable": true,
    "editable": true
   },
   "source": [
    "## Prediction"
   ]
  },
  {
   "cell_type": "code",
   "execution_count": 15,
   "metadata": {
    "collapsed": true,
    "deletable": true,
    "editable": true
   },
   "outputs": [],
   "source": [
    "def source_to_seq(text):\n",
    "    sequence_length = 7\n",
    "    return [source_letter_to_int.get(word, source_letter_to_int['<UNK>']) for word in text]+ [source_letter_to_int['<PAD>']]*(sequence_length-len(text))\n"
   ]
  },
  {
   "cell_type": "code",
   "execution_count": 16,
   "metadata": {
    "collapsed": false,
    "deletable": true,
    "editable": true
   },
   "outputs": [
    {
     "name": "stdout",
     "output_type": "stream",
     "text": [
      "INFO:tensorflow:Restoring parameters from ./best_model.ckpt\n",
      "Original Text: hello\n",
      "\n",
      "Source\n",
      "  Word Ids:    [28, 13, 22, 22, 16, 0, 0]\n",
      "  Input Words: h e l l o <PAD> <PAD>\n",
      "\n",
      "Target\n",
      "  Word Ids:       [13, 28, 22, 22, 16, 3]\n",
      "  Response Words: e h l l o <EOS>\n"
     ]
    }
   ],
   "source": [
    "input_sentence = 'hello'\n",
    "text = source_to_seq(input_sentence)\n",
    "\n",
    "checkpoint = \"./best_model.ckpt\"\n",
    "\n",
    "loaded_graph = tf.Graph()\n",
    "with tf.Session(graph=loaded_graph) as sess:\n",
    "    # Load saved model\n",
    "    loader = tf.train.import_meta_graph(checkpoint + '.meta')\n",
    "    loader.restore(sess, checkpoint)\n",
    "\n",
    "    input_data = loaded_graph.get_tensor_by_name('input:0')\n",
    "    logits = loaded_graph.get_tensor_by_name('predictions:0')\n",
    "    source_sequence_length = loaded_graph.get_tensor_by_name('source_sequence_length:0')\n",
    "    target_sequence_length = loaded_graph.get_tensor_by_name('target_sequence_length:0')\n",
    "    \n",
    "    answer_logits = sess.run(logits, {input_data: [text]*batch_size, \n",
    "                                      target_sequence_length: [len(text)]*batch_size, \n",
    "                                      source_sequence_length: [len(text)]*batch_size})[0] \n",
    "\n",
    "\n",
    "pad = source_letter_to_int[\"<PAD>\"] \n",
    "\n",
    "print('Original Text:', input_sentence)\n",
    "\n",
    "print('\\nSource')\n",
    "print('  Word Ids:    {}'.format([i for i in text]))\n",
    "print('  Input Words: {}'.format(\" \".join([source_int_to_letter[i] for i in text])))\n",
    "\n",
    "print('\\nTarget')\n",
    "print('  Word Ids:       {}'.format([i for i in answer_logits if i != pad]))\n",
    "print('  Response Words: {}'.format(\" \".join([target_int_to_letter[i] for i in answer_logits if i != pad])))"
   ]
  },
  {
   "cell_type": "code",
   "execution_count": null,
   "metadata": {
    "collapsed": true,
    "deletable": true,
    "editable": true
   },
   "outputs": [],
   "source": []
  }
 ],
 "metadata": {
  "kernelspec": {
   "display_name": "Python 3",
   "language": "python",
   "name": "python3"
  },
  "language_info": {
   "codemirror_mode": {
    "name": "ipython",
    "version": 3
   },
   "file_extension": ".py",
   "mimetype": "text/x-python",
   "name": "python",
   "nbconvert_exporter": "python",
   "pygments_lexer": "ipython3",
   "version": "3.6.0"
  }
 },
 "nbformat": 4,
 "nbformat_minor": 2
}
